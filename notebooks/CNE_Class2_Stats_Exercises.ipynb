{
  "nbformat": 4,
  "nbformat_minor": 0,
  "metadata": {
    "colab": {
      "provenance": []
    },
    "kernelspec": {
      "name": "python3",
      "display_name": "Python 3"
    },
    "language_info": {
      "name": "python"
    }
  },

  "cells": [
    {
      "cell_type": "markdown",
      "metadata": {
        "id": "view-in-github",
        "colab_type": "text"
      },
      "source": [
        "<a href=\"https://colab.research.google.com/github/mikislin/CNE25/blob/main/notebooks/CNE_Class2_Stats_Exercises.ipynb\" target=\"_parent\"><img src=\"https://colab.research.google.com/assets/colab-badge.svg\" alt=\"Open In Colab\"/></a>"
      ]
    },
    {
      "cell_type": "markdown",
      "source": [
        "Instructions: How to Complete and Submit Class 2 Exercise\n",
        "\n",
        "1. Save a Copy to Your Google Drive\n",
        "\n",
        "Go to File → Save a copy in Drive - This creates your personal editable version.\n",
        "\n",
        "2. Complete the Assignment\n",
        "\n",
        "Write your code in the cells labeled #solution. Write your written answers or explanations in the text (Markdown) cells.\n",
        "\n",
        "3. Save Your Work\n",
        "\n",
        "Your edits are automatically saved to your Drive, but double-check before submitting.\n",
        "\n",
        "4. Share Your Notebook\n",
        "\n",
        "When you’re finished, click Share (top-right corner). Set sharing to “Anyone with the link can view.” DM your notebook link to me on Slack"
      ],
      "metadata": {
        "id": "8F2wdBYq7bu-"
      }
    },
    {
      "cell_type": "markdown",
      "source": [
        "# Problem 1:  Standard Deviation (SD) vs. Standard Error of the Mean (SEM) - Conceptual Interpretation\n",
        "\n"
      ],
      "metadata": {
        "id": "W42gieL7bjHq"
      }
    },
    {
      "cell_type": "markdown",
      "source": [
        "Use the interactive \"Standard Deviation (SD) vs. Standard Error of the Mean (SEM)\" simulation in [class notebook](https://colab.research.google.com/github/mikislin/CNE25/blob/main/CNE_Class2_Stats.ipynb)\n",
        "\n",
        "Instructions:\n",
        "\n",
        "1. Run the Simulation: Execute the code block containing the \"SD vs. Standard Error of the Mean (SEM)\" simulation.\n",
        "\n",
        "2. Manipulate Parameters:\n",
        "  Interact with the simulation by performing the following actions:\n",
        "\n",
        "    Set the Sample Size (n) to a small value (e.g., 10). Click the \"Draw 100 Samples\" button multiple times.\n",
        "\n",
        "    Now, set the Sample Size (n) to a large value (e.g., 500). Click the \"Draw 100 Samples\" button multiple times.\n",
        "\n",
        "    Click the \"Reset Simulation\" button."
      ],
      "metadata": {
        "id": "YhJzHXNtbvgz"
      }
    },
    {
      "cell_type": "markdown",
      "source": [
        "**(a)**  Imagine (Simulate) the \"Population\" represents the firing rate of a specific neuron in response to a stimulus, recorded over thousands of trials (mean rate = 20Hz). The \"Population SD\" is 7.2 and reflects the biological variability of this neuron's response. You are conducting an experiment where you can only record 20 trials (n=20)."
      ],
      "metadata": {
        "id": "w1hAC_9edGt_"
      }
    },
    {
      "cell_type": "code",
      "execution_count": null,
      "metadata": {
        "id": "00QFivoLbRI5"
      },
      "outputs": [],
      "source": [
        "# solution"
      ]
    },
    {
      "cell_type": "markdown",
      "source": [
        "If you report the **mean firing rate ± SD**, what are you communicating about the neuron's behavior?\n"
      ],
      "metadata": {
        "id": "TVioSYFNeVEH"
      }
    },
    {
      "cell_type": "markdown",
      "source": [
        "reply here:"
      ],
      "metadata": {
        "id": "6QYVI9wReaA0"
      }
    },
    {
      "cell_type": "markdown",
      "source": [
        "If you instead report the **mean firing rate ± SEM**, what are you communicating about the precision of your estimate of the mean?\n"
      ],
      "metadata": {
        "id": "V4mX2BeYegvr"
      }
    },
    {
      "cell_type": "markdown",
      "source": [
        "reply here:"
      ],
      "metadata": {
        "id": "7daDNQpmevYF"
      }
    },
    {
      "cell_type": "markdown",
      "source": [
        "A colleague reviews your paper and says -\n",
        "\n",
        "> You should report SEM because the error bars are smaller for 20 recorded trials before and after treatment, which makes the figure look better.\n",
        "\n",
        "Based on the simulation, provide a principled argument when it is appropriate to use SD versus SEM on a graph for group comparison.\n"
      ],
      "metadata": {
        "id": "Bsa1FJPne0uf"
      }
    },
    {
      "cell_type": "code",
      "source": [
        "# solution"
      ],
      "metadata": {
        "id": "37lIpzxSeY5C"
      },
      "execution_count": null,
      "outputs": []
    },
    {
      "cell_type": "markdown",
      "source": [
        "# Problem 2:  Automating Statistical Decisions and Critical Analysis"
      ],
      "metadata": {
        "id": "jS1ZhpnSgA07"
      }
    },
    {
      "cell_type": "markdown",
      "source": [
        "Instructions:\n",
        "\n",
        "  **(a)**. Review the compare_groups function: Analyze its logic.\n",
        "\n",
        "\n",
        "```\n",
        "def compare_groups(df, metric_col, group_col='Group'):\n",
        "    groups = df[group_col].unique()\n",
        "    if len(groups) != 2:\n",
        "        raise ValueError(\"This function is designed for two-group comparison.\")\n",
        "\n",
        "    # Ensure consistent group order for reporting\n",
        "    group1_name = \"WT\" if \"WT\" in groups else groups[0]\n",
        "    group2_name = \"KO\" if \"KO\" in groups else groups[1]\n",
        "\n",
        "    group1_data = df[df[group_col] == group1_name][metric_col].dropna()\n",
        "    group2_data = df[df[group_col] == group2_name][metric_col].dropna()\n",
        "\n",
        "    if len(group1_data) < 3 or len(group2_data) < 3:\n",
        "        # Shapiro test requires at least 3 samples\n",
        "        is_normal = False\n",
        "        norm1_p, norm2_p = np.nan, np.nan\n",
        "    else:\n",
        "        _, norm1_p = stats.shapiro(group1_data) #checks for normality (Shapiro-Wilk test)\n",
        "        _, norm2_p = stats.shapiro(group2_data)\n",
        "        is_normal = norm1_p > 0.05 and norm2_p > 0.05\n",
        "\n",
        "    _, var_p = stats.levene(group1_data, group2_data) #homogeneity of variances (Levene's test)\n",
        "    is_equal_variance = var_p > 0.05\n",
        "\n",
        "    if is_normal:\n",
        "        if is_equal_variance:\n",
        "            test_name = \"Independent T-test\"\n",
        "            stat, p_val = stats.ttest_ind(group1_data, group2_data, equal_var=True)\n",
        "        else:\n",
        "            test_name = \"Welch's T-test\"\n",
        "            stat, p_val = stats.ttest_ind(group1_data, group2_data, equal_var=False)\n",
        "    else:\n",
        "        test_name = \"Mann-Whitney U\"\n",
        "        # The smaller of the two U values is typically reported\n",
        "        stat, p_val = stats.mannwhitneyu(group1_data, group2_data, alternative='two-sided')\n",
        "\n",
        "    return {\n",
        "        'Metric': metric_col,\n",
        "        'Test Used': test_name,\n",
        "        'Statistic': f\"{stat:.3f}\",\n",
        "        'P-value': f\"{p_val:.4f}\",\n",
        "        'Significant': p_val < 0.05,\n",
        "        f'Mean_{group1_name}': f\"{group1_data.mean():.2f}\",\n",
        "        f'Median_{group1_name}': f\"{group1_data.median():.2f}\", # ADDED\n",
        "        f'Std_{group1_name}': f\"{group1_data.std():.2f}\",\n",
        "        f'N_{group1_name}': len(group1_data),\n",
        "        f'Mean_{group2_name}': f\"{group2_data.mean():.2f}\",\n",
        "        f'Median_{group2_name}': f\"{group2_data.median():.2f}\", # ADDED\n",
        "        f'Std_{group2_name}': f\"{group2_data.std():.2f}\",\n",
        "        f'N_{group2_name}': len(group2_data),\n",
        "        'Shapiro_p (G1)': f\"{norm1_p:.3f}\",\n",
        "        'Shapiro_p (G2)': f\"{norm2_p:.3f}\",\n",
        "        'Levene_p': f\"{var_p:.3f}\",\n",
        "    }\n",
        "```\n",
        "\n"
      ],
      "metadata": {
        "id": "0tJdLbRJgnTH"
      }
    },
    {
      "cell_type": "markdown",
      "source": [
        "**(b)** Create and Analyze a Simulated Dataset (as pd.DataFrame)\n",
        "\n",
        "Group: 'Control' and 'Treatment'\n",
        "\n",
        "metric_col:\n",
        "\n",
        "  Synaptic_Density: A normally distributed variable with different means for each group.\n",
        "\n",
        "  Behavioral_Score: A non-normally distributed variable. Make the variance in 'Treatment' much larger than in 'Control' for this metric.\n",
        "\n",
        "  Neuron_FRate: Data that is approximately normal."
      ],
      "metadata": {
        "id": "W6kPIm-NhnDq"
      }
    },
    {
      "cell_type": "code",
      "source": [
        "# solution"
      ],
      "metadata": {
        "id": "hHD2jg5jgD7x"
      },
      "execution_count": null,
      "outputs": []
    },
    {
      "cell_type": "markdown",
      "source": [
        "**(c)** What are limitations of a fully automated decision function like `compare_groups`?\n",
        "\n",
        "Consider scenarios where the Shapiro-Wilk p-value is close to the 0.05 threshold (e.g., 0.049 or 0.051).\n",
        "\n",
        "What role does researcher judgment play in such cases? How to get the input from the researcher for marginal cases?"
      ],
      "metadata": {
        "id": "D1g7-vyCjCnb"
      }
    },
    {
      "cell_type": "code",
      "source": [
        "# solution"
      ],
      "metadata": {
        "id": "lngv8-nojapH"
      },
      "execution_count": null,
      "outputs": []
    },
    {
      "cell_type": "markdown",
      "source": [
        "Bonus: How would you adapt your analysis for this three-group design?"
      ],
      "metadata": {
        "id": "0hDhVO18in0e"
      }
    },
    {
      "cell_type": "code",
      "source": [
        "# solution"
      ],
      "metadata": {
        "id": "3jJZPnrTiwvS"
      },
      "execution_count": null,
      "outputs": []
    },
    {
      "cell_type": "markdown",
      "source": [
        "# Problem 3:  ANOVA vs General Linear Model (specifically, a Linear Mixed-Effects Model)  "
      ],
      "metadata": {
        "id": "OcCyjc0BjvXY"
      }
    },
    {
      "cell_type": "markdown",
      "source": [
        "**Scenario:**\n",
        "\n",
        "You are analyzing data from a new drug's effect on dendritic spine density in a mouse model of a neurological disorder.\n",
        "\n",
        "*The experiment design.*\n",
        "\n",
        "  Fixed Factors (what you are testing):\n",
        "1. genotype: Wild-Type (WT) vs. Knock-Out (KO)\n",
        "2. treatment: Vehicle (placebo) vs. Drug\n",
        "3. sex: Male vs. Female\n",
        "\n",
        "Nuisance/Grouping Variables (sources of variability to control for):\n",
        "\n",
        "1. mouse_id: Multiple measurements (e.g., from different brain regions) are taken from the same mouse. These measurements are not independent.\n",
        "\n",
        "2. cohort: The experiment was run in several batches or \"cohorts\" over many weeks. There might be slight environmental or procedural differences between cohorts.\n",
        "\n",
        "Your goal is to determine if the drug works, and if its effect depends on the genotype or sex of the animal, while properly accounting for the data structure."
      ],
      "metadata": {
        "id": "U-g9oUz_mv-d"
      }
    },
    {
      "cell_type": "markdown",
      "source": [
        "**(a)**   generate a realistic dataset\n",
        "\n",
        "with initial parameters and weight of preductors\n",
        "\n",
        "```\n",
        "# Define the \"true\" effects\n",
        "baseline = 5.0\n",
        "genotype_effect = -1.0 if genotype == 'KO' else 0\n",
        "treatment_effect = 0.8 if treatment == 'Drug' else 0\n",
        "sex_effect = +0.2 if sex == 'Female' else 0\n",
        "# CRUCIAL INTERACTION: Drug works better in KO mice\n",
        "interaction_effect = 1.5 if (genotype == 'KO' and treatment == 'Drug') else 0\n",
        "\n",
        "# Combine all effects + random noise\n",
        "spine_density = (baseline + genotype_effect + treatment_effect +  interaction_effect + mouse_effect + cohort_effect + np.random.normal(0, 0.5))\n",
        "```\n",
        "\n"
      ],
      "metadata": {
        "id": "hvKZ9uMkomqp"
      }
    },
    {
      "cell_type": "code",
      "source": [
        "# Use the following experiment parameters for Data Simulation\n",
        "np.random.seed(42)\n",
        "n_mice_per_group = 12\n",
        "n_measurements_per_mouse = 5\n",
        "genotypes = ['WT', 'KO']\n",
        "treatments = ['Vehicle', 'Drug']\n",
        "sexes = ['Male', 'Female']\n",
        "cohorts = ['C1', 'C2', 'C3']\n",
        "\n",
        "data = []\n",
        "mouse_counter = 0"
      ],
      "metadata": {
        "id": "iXfar1ybjwjF"
      },
      "execution_count": null,
      "outputs": []
    },
    {
      "cell_type": "code",
      "source": [
        "# solution"
      ],
      "metadata": {
        "id": "DPff7iU6phfW"
      },
      "execution_count": null,
      "outputs": []
    },
    {
      "cell_type": "markdown",
      "source": [
        "**(b)** perform Three-Way ANOVA using OLS"
      ],
      "metadata": {
        "id": "7zMhbcVRqvrt"
      }
    },
    {
      "cell_type": "code",
      "source": [
        "# solution"
      ],
      "metadata": {
        "id": "hDkIhyH4qhcL"
      },
      "execution_count": null,
      "outputs": []
    },
    {
      "cell_type": "markdown",
      "source": [
        "**(c)** perform analysis with a Linear Mixed-Effects Model"
      ],
      "metadata": {
        "id": "SmfU5bkjq3Be"
      }
    },
    {
      "cell_type": "code",
      "source": [
        "# solution"
      ],
      "metadata": {
        "id": "qYLbefqfq612"
      },
      "execution_count": null,
      "outputs": []
    },
    {
      "cell_type": "markdown",
      "source": [
        "**(d)** Review summaries of the ANOVA and LME (GLM).\n",
        "What does the coefficients tell you about how the drug works?"
      ],
      "metadata": {
        "id": "QSzFgykJriRp"
      }
    },
    {
      "cell_type": "code",
      "source": [],
      "metadata": {
        "id": "VdPqXVulsTci"
      },
      "execution_count": null,
      "outputs": []
    }
  ]
}
