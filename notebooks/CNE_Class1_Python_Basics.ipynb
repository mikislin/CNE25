{
  "cells": [
    {
      "cell_type": "markdown",
      "metadata": {
        "id": "view-in-github",
        "colab_type": "text"
      },
      "source": [
        "<a href=\"https://colab.research.google.com/github/mikislin/CNE25/blob/main/notebooks/CNE_Class1_Python_Basics.ipynb\" target=\"_parent\"><img src=\"https://colab.research.google.com/assets/colab-badge.svg\" alt=\"Open In Colab\"/></a>"
      ]
    },
    {
      "cell_type": "markdown",
      "metadata": {
        "id": "l1VH0qN3A-v5"
      },
      "source": [
        "## Print statement"
      ]
    },
    {
      "cell_type": "markdown",
      "metadata": {
        "id": "HQNuKzdi-8uO"
      },
      "source": [
        "##### print \"Hello, world!\" using print function\n",
        "\n",
        "to learn what function does use help\n",
        "SHIFT+ TAB or print?\n",
        "\n",
        "On Colab, for SHIFT+ TAB to work, you have to disable Automatically trigger code completions on Tools->Settings.\n",
        "\n",
        "All Shortcuts can be found using CTRL + MH or going to Tools->Keyboard Shortcuts\n",
        "\n"
      ]
    },
    {
      "cell_type": "code",
      "execution_count": null,
      "metadata": {
        "id": "Jufk5zvA_0ty"
      },
      "outputs": [],
      "source": [
        "print(\"Hello, world!\")"
      ]
    },
    {
      "cell_type": "code",
      "execution_count": null,
      "metadata": {
        "id": "-KHxg7xfJ8kD"
      },
      "outputs": [],
      "source": [
        "print('/__|')\n",
        "print('  /|')\n",
        "print(' / |')\n",
        "print('/  |')"
      ]
    },
    {
      "cell_type": "code",
      "execution_count": null,
      "metadata": {
        "id": "OnwcgbwiEZwf"
      },
      "outputs": [],
      "source": [
        "print(5,10,15)"
      ]
    },
    {
      "cell_type": "code",
      "execution_count": null,
      "metadata": {
        "id": "XsF_BlkaJ8EX"
      },
      "outputs": [],
      "source": [
        "print(\"Sunday\\nMonday\\nTuesday\\nWednesday\\nThursday\\nFriday\\nSaturday\")"
      ]
    },
    {
      "cell_type": "code",
      "execution_count": null,
      "metadata": {
        "id": "XBHR0afp_09a"
      },
      "outputs": [],
      "source": [
        "print('C:\\User\\name')  # here \\n means newline!"
      ]
    },
    {
      "cell_type": "code",
      "execution_count": null,
      "metadata": {
        "id": "bWAyf16kATA3"
      },
      "outputs": [],
      "source": [
        "# you can use raw strings by adding an r before the first quote\n",
        "print(r'C:\\User\\name')"
      ]
    },
    {
      "cell_type": "code",
      "execution_count": null,
      "metadata": {
        "id": "dB7FWSeaACyy"
      },
      "outputs": [],
      "source": [
        "# triple quotes are generally used for multi-line strings\n",
        "print(\"\"\"Python is very popular language.\n",
        "It is also friendly language.\"\"\")"
      ]
    },
    {
      "cell_type": "code",
      "execution_count": null,
      "metadata": {
        "id": "ggngcknEIwiq"
      },
      "outputs": [],
      "source": [
        "print(\"Welcome to Python %s\" %'language')"
      ]
    },
    {
      "cell_type": "markdown",
      "metadata": {
        "id": "gGmRb9LgHO8g"
      },
      "source": [
        "#####Similarly, when using other data types\n",
        "\n",
        "  %d -> Integer\n",
        "\n",
        "  %e -> exponential\n",
        "\n",
        "  %f -> Float\n",
        "\n",
        "  %o -> Octal\n",
        "\n",
        "  %x -> Hexadecimal\n",
        "\n",
        "This can be used for conversions inside the print statement itself."
      ]
    },
    {
      "cell_type": "code",
      "execution_count": null,
      "metadata": {
        "id": "HxUQdM_rFp3N"
      },
      "outputs": [],
      "source": [
        "print(\"Actual Number = %d\" %15)"
      ]
    },
    {
      "cell_type": "code",
      "execution_count": null,
      "metadata": {
        "id": "WUcUbaqrH2FV"
      },
      "outputs": [],
      "source": [
        "print(\"Exponential equivalent of the number = %e\" %15)"
      ]
    },
    {
      "cell_type": "code",
      "execution_count": null,
      "metadata": {
        "id": "SyPViAitH_pa"
      },
      "outputs": [],
      "source": [
        "print(\"Float of the number = %f\" %15)"
      ]
    },
    {
      "cell_type": "code",
      "execution_count": null,
      "metadata": {
        "id": "3A9soZbWIEDr"
      },
      "outputs": [],
      "source": [
        "print(\"Octal equivalent of the number = %o\" %15)"
      ]
    },
    {
      "cell_type": "code",
      "execution_count": null,
      "metadata": {
        "id": "ImenLzHuIK6W"
      },
      "outputs": [],
      "source": [
        "print(\"Hexadecimal equivalent of the number = %x\" %15)"
      ]
    },
    {
      "cell_type": "code",
      "execution_count": null,
      "metadata": {
        "id": "kjbfWVULIP3_"
      },
      "outputs": [],
      "source": [
        "print(\"%f\" % 7.123456789)"
      ]
    },
    {
      "cell_type": "code",
      "execution_count": null,
      "metadata": {
        "id": "rTwi98jMK5lP"
      },
      "outputs": [],
      "source": [
        "print(\"%5f\" % 7.123456789)"
      ]
    },
    {
      "cell_type": "markdown",
      "metadata": {
        "id": "bJI1UZYmAuaX"
      },
      "source": [
        "## Using Python as a Calculator"
      ]
    },
    {
      "cell_type": "markdown",
      "metadata": {
        "id": "tzgdtZc18NwD"
      },
      "source": [
        "The interpreter acts as a simple calculator: you can type an expression at it and it will write the value. Expression syntax is straightforward: the operators +, -, * and / work just like in most other languages (for example, Pascal or C); parentheses (()) can be used for grouping."
      ]
    },
    {
      "cell_type": "code",
      "execution_count": null,
      "metadata": {
        "id": "nUsxaHQD8t4D"
      },
      "outputs": [],
      "source": [
        "2+2"
      ]
    },
    {
      "cell_type": "code",
      "execution_count": null,
      "metadata": {
        "id": "ju3ya-YX8zjZ"
      },
      "outputs": [],
      "source": [
        "20 - 2*6"
      ]
    },
    {
      "cell_type": "code",
      "execution_count": null,
      "metadata": {
        "id": "M1jLntC78-34"
      },
      "outputs": [],
      "source": [
        "20 - 2*6/4"
      ]
    },
    {
      "cell_type": "code",
      "execution_count": null,
      "metadata": {
        "id": "zh4a8ZF89GGH"
      },
      "outputs": [],
      "source": [
        "(20 - 2*6)/4"
      ]
    },
    {
      "cell_type": "markdown",
      "metadata": {
        "id": "il-C9pX09WVW"
      },
      "source": [
        "Division (/) always returns a float. To do floor division and get an integer result (discarding any fractional result) you can use the // operator; to calculate the remainder you can use %"
      ]
    },
    {
      "cell_type": "code",
      "execution_count": null,
      "metadata": {
        "id": "5wi5yVW89lmC"
      },
      "outputs": [],
      "source": [
        " # result * divisor + remainder"
      ]
    },
    {
      "cell_type": "markdown",
      "metadata": {
        "id": "d-y_xu8T9u_A"
      },
      "source": [
        "With Python, it is possible to use the ** operator to calculate powers"
      ]
    },
    {
      "cell_type": "code",
      "execution_count": null,
      "metadata": {
        "id": "pMrSK6xD9ui3"
      },
      "outputs": [],
      "source": [
        "5**2"
      ]
    },
    {
      "cell_type": "code",
      "execution_count": null,
      "metadata": {
        "id": "z06hQI_Q9_fT"
      },
      "outputs": [],
      "source": [
        "5**0.5"
      ]
    },
    {
      "cell_type": "code",
      "execution_count": null,
      "metadata": {
        "id": "bHRMIBRJ-Dxx"
      },
      "outputs": [],
      "source": [
        "5**2**4 # reading from right to left"
      ]
    },
    {
      "cell_type": "code",
      "execution_count": null,
      "metadata": {
        "id": "bO9E6R1DFaB_"
      },
      "outputs": [],
      "source": [
        "(5**2)**4"
      ]
    },
    {
      "cell_type": "code",
      "execution_count": null,
      "metadata": {
        "id": "q2d8knKxFKUa"
      },
      "outputs": [],
      "source": [
        "5/(2*10)"
      ]
    },
    {
      "cell_type": "markdown",
      "metadata": {
        "id": "PRlJVO_fFsyn"
      },
      "source": [
        "##Variables"
      ]
    },
    {
      "cell_type": "markdown",
      "metadata": {
        "id": "IxRVsL9RL_9U"
      },
      "source": [
        "#####Python Assignment Statements\n",
        "\n",
        "**Syntax:**\n",
        "\n",
        "\n",
        "```\n",
        "<variable> = <expr>\n",
        "```\n",
        "\n"
      ]
    },
    {
      "cell_type": "code",
      "execution_count": null,
      "metadata": {
        "id": "aRGeL1EVMZLr"
      },
      "outputs": [],
      "source": [
        "x = 'Hello world!'\n",
        "print(x)"
      ]
    },
    {
      "cell_type": "markdown",
      "metadata": {
        "id": "4ssYhmpTF4IU"
      },
      "source": [
        "Strings can be assigned to variable say string1 and string2 which can called when using the print statement."
      ]
    },
    {
      "cell_type": "code",
      "execution_count": null,
      "metadata": {
        "id": "VBoT3U-GFqzG"
      },
      "outputs": [],
      "source": [
        "str1 = 'Welcome'\n",
        "str2 = 'world!'\n",
        "print(str1, str2)"
      ]
    },
    {
      "cell_type": "code",
      "execution_count": null,
      "metadata": {
        "id": "pxM0OyYRMyzd"
      },
      "outputs": [],
      "source": [
        "x = 15\n",
        "15 = x"
      ]
    },
    {
      "cell_type": "markdown",
      "metadata": {
        "id": "4lwaMYTqNJ5Q"
      },
      "source": [
        "#####Multiple Assignment\n",
        "\n",
        "**Syntax:**\n",
        "\n",
        "\n",
        "```\n",
        "var1=var2=var3...varn= = <expr>\n",
        "```\n",
        "\n"
      ]
    },
    {
      "cell_type": "code",
      "execution_count": null,
      "metadata": {
        "id": "hZurQ9EuNFOY"
      },
      "outputs": [],
      "source": [
        "x = y = z = 0"
      ]
    },
    {
      "cell_type": "code",
      "execution_count": null,
      "metadata": {
        "id": "DvhYNoeNNeZI"
      },
      "outputs": [],
      "source": [
        "print(x)\n",
        "print(y)\n",
        "print(z)"
      ]
    },
    {
      "cell_type": "markdown",
      "metadata": {
        "id": "X9pFIZ2VNqAo"
      },
      "source": [
        "Cascade assignment\n",
        "\n",
        "**Syntax:**\n",
        "\n",
        "```\n",
        "<var>, <var>, ..., <var> = <expr>, <expr>, ..., <expr>\n",
        "```\n",
        "\n"
      ]
    },
    {
      "cell_type": "code",
      "execution_count": null,
      "metadata": {
        "id": "9TpDvAlyN5cm"
      },
      "outputs": [],
      "source": [
        "x, y, z = 1, 2, 'ac/dc'"
      ]
    },
    {
      "cell_type": "code",
      "execution_count": null,
      "metadata": {
        "id": "1zw5cgbpOC3d"
      },
      "outputs": [],
      "source": [
        "print(x)\n",
        "print(y)\n",
        "print(z)"
      ]
    },
    {
      "cell_type": "markdown",
      "metadata": {
        "id": "rDzjLhFkOVVe"
      },
      "source": [
        "Check variable available by calling whos"
      ]
    },
    {
      "cell_type": "code",
      "execution_count": null,
      "metadata": {
        "id": "bY-N1YadSvIs"
      },
      "outputs": [],
      "source": [
        "whos"
      ]
    },
    {
      "cell_type": "markdown",
      "metadata": {
        "id": "3nkaV_Druzok"
      },
      "source": [
        "In interactive mode, the last printed expression is assigned to the variable _. This means that when you are using Python as a desk calculator, it is somewhat easier to continue calculations, for example:"
      ]
    },
    {
      "cell_type": "code",
      "execution_count": null,
      "metadata": {
        "id": "B7EnyGDvCIeu"
      },
      "outputs": [],
      "source": [
        "tax = 12.5 / 100\n",
        "price = 7.35\n",
        "price * tax"
      ]
    },
    {
      "cell_type": "code",
      "execution_count": null,
      "metadata": {
        "id": "LhsMIeggCn57"
      },
      "outputs": [],
      "source": [
        "price + _\n"
      ]
    },
    {
      "cell_type": "code",
      "execution_count": null,
      "metadata": {
        "id": "4lrN_eGLCqqb"
      },
      "outputs": [],
      "source": [
        "round(_, 2)"
      ]
    },
    {
      "cell_type": "code",
      "execution_count": null,
      "metadata": {
        "id": "rPtfLEqNAyE5"
      },
      "outputs": [],
      "source": []
    },
    {
      "cell_type": "markdown",
      "metadata": {
        "id": "cYXIXxM-DCRN"
      },
      "source": [
        "##Python Operators"
      ]
    },
    {
      "cell_type": "markdown",
      "metadata": {
        "id": "9lgT1yF3Drsc"
      },
      "source": [
        "###Python Arithmetic Operators"
      ]
    },
    {
      "cell_type": "markdown",
      "metadata": {
        "id": "dcYYL3MFIXS1"
      },
      "source": [
        "can be run on all variables with limitations\n",
        "\n",
        "numbers\n",
        "\n",
        "strings\n",
        "\n",
        "booleans\n",
        "\n",
        "None\n"
      ]
    },
    {
      "cell_type": "code",
      "execution_count": null,
      "metadata": {
        "id": "aeBo22f6DB4b"
      },
      "outputs": [],
      "source": [
        "word = 'hi'"
      ]
    },
    {
      "cell_type": "code",
      "execution_count": null,
      "metadata": {
        "id": "K_egqjWYPqpU"
      },
      "outputs": [],
      "source": [
        "word + word"
      ]
    },
    {
      "cell_type": "code",
      "execution_count": null,
      "metadata": {
        "id": "kjfxqhysH_sC"
      },
      "outputs": [],
      "source": [
        "word - word"
      ]
    },
    {
      "cell_type": "code",
      "execution_count": null,
      "metadata": {
        "id": "pTlQMSVbIIEf"
      },
      "outputs": [],
      "source": [
        "word * 4"
      ]
    },
    {
      "cell_type": "code",
      "execution_count": null,
      "metadata": {
        "id": "Dg5aGzy9IWDY"
      },
      "outputs": [],
      "source": [
        "my_boolean = False # boolean variable\n",
        "word * my_boolean"
      ]
    },
    {
      "cell_type": "code",
      "execution_count": null,
      "metadata": {
        "id": "gYaRflQBJDm8"
      },
      "outputs": [],
      "source": [
        "my_integer = int(my_boolean)\n",
        "print(my_integer)"
      ]
    },
    {
      "cell_type": "markdown",
      "metadata": {
        "id": "Put-CBEaJ0y8"
      },
      "source": [
        "###Comparison Operators\n",
        "\n",
        "Comparison operators are used to compare values.\n",
        "\n",
        "'>'\n",
        "\n",
        "'<'\n",
        "\n",
        "'=='\n",
        "\n",
        "'!='\n",
        "\n",
        "'>='\n",
        "\n",
        "'<='\n",
        "\n",
        " It returns either True or False according to the condition"
      ]
    },
    {
      "cell_type": "code",
      "execution_count": null,
      "metadata": {
        "id": "Zvdg3vFCKgFm"
      },
      "outputs": [],
      "source": [
        "my_number = 3"
      ]
    },
    {
      "cell_type": "code",
      "execution_count": null,
      "metadata": {
        "id": "Q2QsQCuzM61O"
      },
      "outputs": [],
      "source": [
        "my_number_is_less_than_ten  = my_number < 10\n",
        "print(my_number_is_less_than_ten)"
      ]
    },
    {
      "cell_type": "code",
      "execution_count": null,
      "metadata": {
        "id": "xxKABEqxVqRL"
      },
      "outputs": [],
      "source": [
        "my_first_word = 'mama'\n",
        "my_second_word = 'up'\n",
        "\n",
        "print(my_first_word < my_second_word)\n",
        "print(my_first_word != my_second_word)"
      ]
    },
    {
      "cell_type": "code",
      "execution_count": null,
      "metadata": {
        "id": "BBE2ogLUNgMH"
      },
      "outputs": [],
      "source": [
        "x = int(2)\n",
        "y = float(2.0)\n",
        "\n",
        "x == y"
      ]
    },
    {
      "cell_type": "markdown",
      "metadata": {
        "id": "w1WHpU5tKfld"
      },
      "source": [
        "###Assignment Operators"
      ]
    },
    {
      "cell_type": "markdown",
      "metadata": {
        "id": "sHeKvtCEN8rw"
      },
      "source": [
        "'+='\n",
        "\n",
        "'-='\n",
        "\n",
        "'/='\n",
        "\n",
        "'%='\n",
        "\n",
        "'**='\n",
        "\n",
        "'//='\n"
      ]
    },
    {
      "cell_type": "code",
      "execution_count": null,
      "metadata": {
        "id": "3BXv2kEhOIHM"
      },
      "outputs": [],
      "source": [
        "x+=y # x=x+y\n",
        "print(x)"
      ]
    },
    {
      "cell_type": "code",
      "execution_count": null,
      "metadata": {
        "id": "WE5XO-xMOclA"
      },
      "outputs": [],
      "source": [
        "x+=x\n",
        "print(x)"
      ]
    },
    {
      "cell_type": "code",
      "execution_count": null,
      "metadata": {
        "id": "dVs9MTGBNSJH"
      },
      "outputs": [],
      "source": [
        "print(not True)"
      ]
    },
    {
      "cell_type": "markdown",
      "metadata": {
        "id": "hv5yHHfciRGc"
      },
      "source": [
        "##String Methods\n",
        "\n",
        "A method is like a function, but it runs \"on\" an object. If the variable s is a string, then the code s.lower() runs the lower() method on that string object and returns the result (this idea of a method running on an object is one of the basic ideas that make up Object Oriented Programming, OOP)"
      ]
    },
    {
      "cell_type": "code",
      "execution_count": null,
      "metadata": {
        "id": "N7OY4gHMkmoj"
      },
      "outputs": [],
      "source": [
        "print(str1.upper())"
      ]
    },
    {
      "cell_type": "code",
      "execution_count": null,
      "metadata": {
        "id": "NvTPN8ayluZk"
      },
      "outputs": [],
      "source": [
        "print(str1.lower())"
      ]
    },
    {
      "cell_type": "code",
      "execution_count": null,
      "metadata": {
        "id": "5wdp4q1Pk7UW"
      },
      "outputs": [],
      "source": [
        "print(str1.replace('Wel',''))"
      ]
    },
    {
      "cell_type": "markdown",
      "metadata": {
        "id": "HMLzX5eDkiRA"
      },
      "source": [
        "A.b(c=d)\n",
        "\n",
        "means\n",
        "\n",
        "Do b to thing A, with d as my choice for option c"
      ]
    },
    {
      "cell_type": "code",
      "execution_count": null,
      "metadata": {
        "id": "ZIk7m8vpmg7i"
      },
      "outputs": [],
      "source": [
        "my_string = 'London is a capital of {name}'\n",
        "\n",
        "my_name = 'Great Britain'\n",
        "\n",
        "my_string.format(name=my_name)"
      ]
    },
    {
      "cell_type": "code",
      "execution_count": null,
      "metadata": {
        "id": "THlVl_-MmkvW"
      },
      "outputs": [],
      "source": [
        "my_string = 'London is a capital of {name}'\n",
        "print(my_string.format(name='Great Britain'))"
      ]
    },
    {
      "cell_type": "code",
      "execution_count": null,
      "metadata": {
        "id": "lmS0oq3FuPd2"
      },
      "outputs": [],
      "source": [
        "template = 'temprature =  {var:.1f} C'\n",
        "var1=36.6050\n",
        "template.format(var=var1)"
      ]
    },
    {
      "cell_type": "markdown",
      "metadata": {
        "id": "SkhZIKOyjmHe"
      },
      "source": [
        "## String Slices / Indexing"
      ]
    },
    {
      "cell_type": "code",
      "execution_count": null,
      "metadata": {
        "id": "r_4hMm5bjuug"
      },
      "outputs": [],
      "source": [
        "# indexing a single item\n",
        "str1[0]"
      ]
    },
    {
      "cell_type": "code",
      "execution_count": null,
      "metadata": {
        "id": "bobCghMkpFE7"
      },
      "outputs": [],
      "source": [
        "# indexing multiple items\n",
        "str1[0:3]"
      ]
    },
    {
      "cell_type": "code",
      "execution_count": null,
      "metadata": {
        "id": "vysKu8W7ojPI"
      },
      "outputs": [],
      "source": [
        "# every other\n",
        "str1[0::2]"
      ]
    },
    {
      "cell_type": "code",
      "execution_count": null,
      "metadata": {
        "id": "9JBYPupEoGc4"
      },
      "outputs": [],
      "source": [
        "# invert\n",
        "str1[-1::-1]"
      ]
    },
    {
      "cell_type": "code",
      "execution_count": null,
      "metadata": {
        "id": "dutDzVw-ub3F"
      },
      "outputs": [],
      "source": [
        "# invert\n",
        "str1[-1:None:-1]"
      ]
    },
    {
      "cell_type": "markdown",
      "metadata": {
        "id": "I3xpw01NMB1S"
      },
      "source": [
        "## Python Input\n",
        "Up until now, our programs were static. The value of variables was defined or hard coded into the source code."
      ]
    },
    {
      "cell_type": "code",
      "execution_count": null,
      "metadata": {
        "id": "z389y2j-MEWp"
      },
      "outputs": [],
      "source": [
        "num = input('Enter a number: ')"
      ]
    },
    {
      "cell_type": "code",
      "execution_count": null,
      "metadata": {
        "id": "uQlkRoxMWn-M"
      },
      "outputs": [],
      "source": [
        "num"
      ]
    },
    {
      "cell_type": "code",
      "execution_count": null,
      "metadata": {
        "id": "CXe7JEf2W3UG"
      },
      "outputs": [],
      "source": [
        "int(num)"
      ]
    },
    {
      "cell_type": "code",
      "execution_count": null,
      "metadata": {
        "id": "XdM0r2f0W89m"
      },
      "outputs": [],
      "source": [
        "eval('3+2')"
      ]
    },
    {
      "cell_type": "markdown",
      "metadata": {
        "id": "6Njd-IXfA0Iq"
      },
      "source": [
        "##**Python List**"
      ]
    },
    {
      "cell_type": "markdown",
      "metadata": {
        "id": "NoPV-1p-A-60"
      },
      "source": [
        "A list is a container which holds comma-separated values (items or elements) between square brackets where items or elements need not all have the same type."
      ]
    },
    {
      "cell_type": "markdown",
      "metadata": {
        "id": "FRULHk5uBLHC"
      },
      "source": [
        "Examples of lists:\n",
        "\n",
        "numbers = [1, 2, 3, 4, 5]\n",
        "\n",
        "names = [\"Sara\", \"David\", \"Warner\", \"Sandy\"]\n",
        "\n",
        "student_info = [\"Sara\", 1, \"Chemistry\"]"
      ]
    },
    {
      "cell_type": "code",
      "execution_count": null,
      "metadata": {
        "id": "wda3oJptA4HH"
      },
      "outputs": [],
      "source": [
        "# a simple list (not a numpy array!)\n",
        "\n",
        "my_list = [1, 2, 3]\n",
        "my_list2 = ['hello', f'text {my_list[0] }', True, None]\n",
        "print(my_list,my_list2)"
      ]
    },
    {
      "cell_type": "code",
      "execution_count": null,
      "metadata": {
        "id": "RSIjUPOc2AN_"
      },
      "outputs": [],
      "source": [
        "# indexing: single item\n",
        "first_element = my_list[0]\n",
        "print(first_element)"
      ]
    },
    {
      "cell_type": "code",
      "execution_count": null,
      "metadata": {
        "id": "uXUPYoo1B0kw"
      },
      "outputs": [],
      "source": [
        "# indexing: range\n",
        "my_list[0::2]\n",
        "my_list[::-1]"
      ]
    },
    {
      "cell_type": "code",
      "execution_count": null,
      "metadata": {
        "id": "TlydxXdFB2ci"
      },
      "outputs": [],
      "source": [
        "# indexing: backwards"
      ]
    },
    {
      "cell_type": "code",
      "execution_count": null,
      "metadata": {
        "id": "cptBNA2RB40m"
      },
      "outputs": [],
      "source": [
        "# indexing: setting a range\n",
        "\n",
        "my_list = ['a','b', 'c', 'd', 'e']\n",
        "\n",
        "my_list[4] = my_list[4].upper()\n",
        "print(my_list)\n",
        "\n",
        "my_list\n",
        "#if statment to check the ranges matches\n",
        "a=[1,2,3]\n",
        "b=[2,3,4,]\n",
        "\n",
        "# The assert keyword is used when debugging code.\n",
        "# The assert keyword lets you test if a condition in your code returns True,\n",
        "# if not, the program will raise an AssertionError.\n",
        "# You can write a message to be written if the code returns False, check the example below.\n",
        "\n",
        "assert len(a) == len(b), 'The list lenghts did not match'"
      ]
    },
    {
      "cell_type": "code",
      "execution_count": null,
      "metadata": {
        "id": "OfYxj9a-CI3b"
      },
      "outputs": [],
      "source": [
        "# adding lists to each other\n",
        "my_list1 = [1,2,3]\n",
        "my_list2 = [7,8,9]\n",
        "print(my_list1+my_list2) # concatenation\n",
        "print(my_list1 *3) # numpy array would not do this!"
      ]
    },
    {
      "cell_type": "code",
      "execution_count": null,
      "metadata": {
        "id": "yO3p2aYUCUcZ"
      },
      "outputs": [],
      "source": [
        "# list methods: append, insert, index\n",
        "my_list.index('a')\n",
        "my_list\n",
        "\n",
        "my_list[:] = ['a','b','c','d']\n",
        "my_list + ['d']\n",
        "#my_list +'d' #does not work\n",
        "my_list.append('d')\n",
        "print(my_list)"
      ]
    },
    {
      "cell_type": "code",
      "execution_count": null,
      "metadata": {
        "id": "ybrlNeSpC8ng"
      },
      "outputs": [],
      "source": [
        "# common ERROR does not return\n",
        "# my_list = my_list.append('d') # wrong way\n",
        "my_list.append('d')\n",
        "print(my_list)\n",
        "\n",
        "my_list.append\n",
        "# Docstring: L.append(object) -> None -- append object to end\n",
        "# Type:      builtin_function_or_method"
      ]
    },
    {
      "cell_type": "code",
      "execution_count": null,
      "metadata": {
        "id": "ncANvJqODMQR"
      },
      "outputs": [],
      "source": [
        "# insert element to the list\n",
        "color_list=[\"Red\", \"Blue\", \"Green\", \"Purple\"]\n",
        "print(color_list)\n",
        "color_list.insert(2, \"Orange\")\n",
        "print(color_list)"
      ]
    },
    {
      "cell_type": "code",
      "execution_count": null,
      "metadata": {
        "id": "x5VFMHW0D9FA"
      },
      "outputs": [],
      "source": [
        "# Modify an element by using the index of the element\n",
        "color_list[2] = 'Yellow'\n",
        "print(color_list)"
      ]
    },
    {
      "cell_type": "code",
      "execution_count": null,
      "metadata": {
        "id": "BhDKaRKTEMJz"
      },
      "outputs": [],
      "source": [
        "# Remove an item from the list\n",
        "color_list.remove('Green')\n",
        "print(color_list)"
      ]
    },
    {
      "cell_type": "code",
      "execution_count": null,
      "metadata": {
        "id": "kUrc2osUEecu"
      },
      "outputs": [],
      "source": [
        "# Remove all items from the list\n",
        "color_list.clear()\n",
        "print(color_list)"
      ]
    },
    {
      "cell_type": "code",
      "execution_count": null,
      "metadata": {
        "id": "ukayO6_2FPy4"
      },
      "outputs": [],
      "source": [
        "# Sort the items of the list in place\n",
        "color_list=[\"Red\", \"Blue\", \"Green\", \"Purple\"]\n",
        "color_list.sort(key=None, reverse=False)\n",
        "print(color_list)"
      ]
    },
    {
      "cell_type": "code",
      "execution_count": null,
      "metadata": {
        "id": "s-Zz8JUHF1XB"
      },
      "outputs": [],
      "source": [
        "# Find the largest and the smallest item in a list\n",
        "print(max(my_list2))\n",
        "print(min(my_list2))"
      ]
    },
    {
      "cell_type": "code",
      "execution_count": null,
      "metadata": {
        "id": "qD7iwf_bGWRq"
      },
      "outputs": [],
      "source": [
        "# Compare two lists in Python\n",
        "listx1, listx2=[9, 7, 5, 3], [3, 5, 7, 9]\n",
        "print(listx1 == listx2)\n",
        "print(listx1.sort() == listx2.sort())"
      ]
    },
    {
      "cell_type": "code",
      "execution_count": null,
      "metadata": {
        "id": "1aVfQvl9G1yO"
      },
      "outputs": [],
      "source": [
        "# Nested lists in Python\n",
        "listnest = [['a', 'b', 'c', 'd', 'e'],[0,1,2,3,4,5]]\n",
        "print(listnest[0][1])\n",
        "print(listnest[1][3])"
      ]
    },
    {
      "cell_type": "code",
      "execution_count": null,
      "metadata": {
        "id": "ApHqWybdHWxx"
      },
      "outputs": [],
      "source": [
        "#add new items to nested list\n",
        "listnest.append([True, False])\n",
        "print(listnest)"
      ]
    },
    {
      "cell_type": "code",
      "execution_count": null,
      "metadata": {
        "id": "sZdkBe4FH1gK"
      },
      "outputs": [],
      "source": [
        "# get the index of an element contained in the list\n",
        "index = listnest[1].index(4, 1 , 5)\n",
        "print(index)"
      ]
    },
    {
      "cell_type": "code",
      "execution_count": null,
      "metadata": {
        "id": "kVTmFpAdIepD"
      },
      "outputs": [],
      "source": [
        "listnest.pop()"
      ]
    },
    {
      "cell_type": "markdown",
      "metadata": {
        "id": "kpQz4fomDVzP"
      },
      "source": [
        "###**Problem #1**"
      ]
    },
    {
      "cell_type": "markdown",
      "metadata": {
        "id": "JK_X7IEkJDqL"
      },
      "source": [
        "##**Python if...else Statement**"
      ]
    },
    {
      "cell_type": "markdown",
      "metadata": {
        "id": "MugAag-gJYF2"
      },
      "source": [
        "Decision making is required when we want to execute a code only if a certain condition is satisfied.\n",
        "\n",
        "The if…elif…else statement is used in Python for decision making."
      ]
    },
    {
      "cell_type": "markdown",
      "metadata": {
        "id": "AJNIWDJqJe29"
      },
      "source": [
        "**Python if Statement Syntax**\n",
        "\n",
        "\n",
        "\n",
        "```\n",
        "if test expression:\n",
        "    statement(s)\n",
        "```\n",
        "\n",
        "\n"
      ]
    },
    {
      "cell_type": "markdown",
      "metadata": {
        "id": "ztigg3rAJuGt"
      },
      "source": [
        "the role of the colon in the Python programming language’s syntax, is to give a visual indicator that a code block is following directly afterward"
      ]
    },
    {
      "cell_type": "code",
      "execution_count": null,
      "metadata": {
        "id": "GDb5STH9Ddp5"
      },
      "outputs": [],
      "source": [
        "# If the number is positive, we print an appropriate message\n",
        "\n",
        "num = 3\n",
        "if num > 0:\n",
        "    print(num, \"is a positive number.\")\n",
        "print(\"This is always printed.\")\n",
        "\n",
        "num = -1\n",
        "if num > 0:\n",
        "    print(num, \"is a positive number.\")\n",
        "print(\"This is also always printed.\")"
      ]
    },
    {
      "cell_type": "markdown",
      "metadata": {
        "id": "tTEiJe4xJ56o"
      },
      "source": [
        "**Syntax of if...else**\n",
        "\n",
        "\n",
        "```\n",
        "if test expression:\n",
        "    Body of if\n",
        "else:\n",
        "    Body of else\n",
        "```\n",
        "\n",
        "\n"
      ]
    },
    {
      "cell_type": "code",
      "execution_count": null,
      "metadata": {
        "id": "1pbw7WnrGAkQ"
      },
      "outputs": [],
      "source": [
        "# Program checks if the number is positive or negative\n",
        "# And displays an appropriate message\n",
        "\n",
        "num = -3\n",
        "\n",
        "# Try these two variations as well.\n",
        "# num = -5\n",
        "# num = 0\n",
        "\n",
        "if num >= 0:\n",
        "    print(\"Positive or Zero\")\n",
        "else:\n",
        "    print(\"Negative number\")"
      ]
    },
    {
      "cell_type": "markdown",
      "metadata": {
        "id": "950I6CVLKJym"
      },
      "source": [
        "**Syntax of if...elif...else**\n",
        "\n",
        "```\n",
        "if test expression:\n",
        "    Body of if\n",
        "elif test expression:\n",
        "    Body of elif\n",
        "else:\n",
        "    Body of else\n",
        "```\n",
        "\n",
        "\n"
      ]
    },
    {
      "cell_type": "code",
      "execution_count": null,
      "metadata": {
        "id": "RtetyDhLGJJH"
      },
      "outputs": [],
      "source": [
        "'''In this program,\n",
        "we check if the number is positive or\n",
        "negative or zero and\n",
        "display an appropriate message'''\n",
        "\n",
        "num = 0\n",
        "\n",
        "# Try these two variations as well:\n",
        "# num = 0\n",
        "# num = -4.5\n",
        "\n",
        "if num > 0:\n",
        "    print(\"Positive number\")\n",
        "elif num == 0:\n",
        "    print(\"Zero\")\n",
        "else:\n",
        "    print(\"Negative number\")"
      ]
    },
    {
      "cell_type": "markdown",
      "metadata": {
        "id": "4XJejHTwKgcK"
      },
      "source": [
        "Python Nested if Example"
      ]
    },
    {
      "cell_type": "code",
      "execution_count": null,
      "metadata": {
        "id": "cGdAvbouKZF2"
      },
      "outputs": [],
      "source": [
        "'''In this program, we input a number\n",
        "check if the number is positive or\n",
        "negative or zero and display\n",
        "an appropriate message\n",
        "This time we use nested if statement'''\n",
        "\n",
        "num = float(input(\"Enter a number: \"))\n",
        "if num >= 0:\n",
        "    if num == 0:\n",
        "        print(\"Zero\")\n",
        "    else:\n",
        "        print(\"Positive number\")\n",
        "else:\n",
        "    print(\"Negative number\")"
      ]
    },
    {
      "cell_type": "markdown",
      "metadata": {
        "id": "RANM0CNJLfWa"
      },
      "source": [
        "### **Problem #2**"
      ]
    },
    {
      "cell_type": "markdown",
      "metadata": {
        "id": "_nIR4L5HMHno"
      },
      "source": [
        "##**Python while loop**\n",
        "The while loop in Python is used to iterate over a block of code as long as the test expression (condition) is true.\n",
        "\n",
        "**Syntax**\n",
        "\n",
        "```\n",
        "while (expression) :\n",
        "    statement_1\n",
        "    statement_2\n",
        "```\n",
        "\n"
      ]
    },
    {
      "cell_type": "code",
      "execution_count": null,
      "metadata": {
        "id": "Urmu5iZhVena"
      },
      "outputs": [],
      "source": [
        "x = 0;\n",
        "while (x < 5):\n",
        "     print(x)\n",
        "     x += 1"
      ]
    },
    {
      "cell_type": "markdown",
      "metadata": {
        "id": "S8NN3PqcMMkE"
      },
      "source": [
        "##**Python for loop**"
      ]
    },
    {
      "cell_type": "markdown",
      "metadata": {
        "id": "J3YB6cEKKJAQ"
      },
      "source": [
        "for loop is used to iterate over the items of any sequence including the Python list, string, tuple etc\n",
        "\n",
        "**Syntax:**\n",
        "\n",
        "```\n",
        "for variable_name in sequence :\n",
        "    statement_1\n",
        "    statement_2\n",
        "    ....\n",
        "```\n",
        "\n"
      ]
    },
    {
      "cell_type": "code",
      "execution_count": null,
      "metadata": {
        "id": "ofMUMMSmMRKG"
      },
      "outputs": [],
      "source": [
        "for c in color_list:\n",
        "  print(c)"
      ]
    },
    {
      "cell_type": "code",
      "execution_count": null,
      "metadata": {
        "id": "1Lwpx7V9Kiy2"
      },
      "outputs": [],
      "source": [
        "for i in range(0, len(color_list)):\n",
        "  print(i, color_list[i])"
      ]
    },
    {
      "cell_type": "code",
      "execution_count": null,
      "metadata": {
        "id": "nct70CbHK3-t"
      },
      "outputs": [],
      "source": [
        "for i in range(0, len(color_list),2):\n",
        "  print(i, color_list[i])"
      ]
    },
    {
      "cell_type": "code",
      "execution_count": null,
      "metadata": {
        "id": "O9sAY9VtMGee"
      },
      "outputs": [],
      "source": [
        "y = [(i, color_list[i]) for i in range(0, len(color_list))]\n",
        "print(y)"
      ]
    },
    {
      "cell_type": "code",
      "execution_count": null,
      "metadata": {
        "id": "6qY8bAAXF50R"
      },
      "outputs": [],
      "source": [
        "for x in range(4):\n",
        "  for y in range(3):\n",
        "    print(f'({x},{y})')\n"
      ]
    },
    {
      "cell_type": "markdown",
      "metadata": {
        "id": "TOYHGY7QMmam"
      },
      "source": [
        "##**Python break, continue statement**\n",
        "\n",
        "The break statement is used to exit a for or a while loop. The purpose of this statement is to end the execution of the loop (for or while) immediately and the program control goes to the statement after the last statement of the loop. If there is an optional else statement in while or for loop it skips the optional clause also."
      ]
    },
    {
      "cell_type": "markdown",
      "metadata": {
        "id": "boqIcleYVcfj"
      },
      "source": [
        "while loop with if-else and break statement"
      ]
    },
    {
      "cell_type": "code",
      "execution_count": null,
      "metadata": {
        "id": "Gsb-OtkmKpcq"
      },
      "outputs": [],
      "source": [
        "x = 1;\n",
        "s = 0\n",
        "while (x < 10):\n",
        "     s = s + x\n",
        "     x = x + 1\n",
        "     if (x == 5):\n",
        "          break\n",
        "else :\n",
        "     print('The sum of first 9 integers : ',s)\n",
        "print('The sum of ',x,' numbers is :',s)"
      ]
    },
    {
      "cell_type": "code",
      "execution_count": null,
      "metadata": {
        "id": "vSwAlOUsDCMa"
      },
      "outputs": [],
      "source": [
        "secret_number = 12\n",
        "guess_count = 0\n",
        "guess_limit = 3\n",
        "\n",
        "while guess_count < guess_limit:\n",
        "  guess = int(input('Guess a secret number:'))\n",
        "  guess_count += 1\n",
        "  if guess == secret_number:\n",
        "    print('You won!')\n",
        "    break\n",
        "  else:\n",
        "    print('Try one more time')\n",
        "else:\n",
        "  print('Game over')\n"
      ]
    },
    {
      "cell_type": "markdown",
      "metadata": {
        "id": "NUSEChUpNej1"
      },
      "source": [
        "The continue statement is used in a while or for loop to take the control to the top of the loop without executing the rest statements inside the loop"
      ]
    },
    {
      "cell_type": "code",
      "execution_count": null,
      "metadata": {
        "id": "ALrsN0_xzhno"
      },
      "outputs": [],
      "source": [
        "for x in range(7):\n",
        "    if (x == 3 or x==6):\n",
        "        continue\n",
        "    print(x)"
      ]
    },
    {
      "cell_type": "code",
      "execution_count": null,
      "metadata": {
        "id": "y-ORSO6aKVUV"
      },
      "outputs": [],
      "source": []
    },
    {
      "cell_type": "markdown",
      "metadata": {
        "id": "3N8qID6FBkY1"
      },
      "source": [
        "##**User defined functions**\n"
      ]
    },
    {
      "cell_type": "markdown",
      "metadata": {
        "id": "gnfRcftmHQMO"
      },
      "source": [
        "Function is a block of program statements which can be used repetitively in a program\n",
        "\n",
        "\n",
        "\n",
        "After defining the function name and arguments(s) a block of program statement(s) start at the next line and these statement(s) must be indented.\n",
        "\n",
        "*   In Python, a user-defined function's declaration begins with the keyword def and followed by the function name.\n",
        "*   The function may take arguments(s) as input within the opening and closing parentheses, just after the function name followed by a colon.\n",
        "*   After defining the function name and arguments(s) a block of program statement(s) start at the next line and these statement(s) must be indented.\n",
        "\n",
        "\n",
        "**Syntax:**\n",
        "\n",
        "\n",
        "\n",
        "```\n",
        "def function_name(argument1, argument2, ...) :\n",
        "      statement_1\n",
        "      statement_n\n",
        "```\n"
      ]
    },
    {
      "cell_type": "code",
      "execution_count": null,
      "metadata": {
        "id": "LO2sExqhIqtV"
      },
      "outputs": [],
      "source": [
        "def avg_number(x, y):\n",
        "    print(\"Average of \",x,\" and \",y, \" is \",(x+y)/2)"
      ]
    },
    {
      "cell_type": "markdown",
      "metadata": {
        "id": "7fGRb1J-IO6T"
      },
      "source": [
        "###**Call a function**\n",
        "\n",
        "**Syntax:**\n",
        "\n",
        "```\n",
        "function_name(arg1, arg2)\n",
        "```\n",
        "\n"
      ]
    },
    {
      "cell_type": "code",
      "execution_count": null,
      "metadata": {
        "id": "L7gu2hlWBaAC"
      },
      "outputs": [],
      "source": [
        "avg_number(3, 4)"
      ]
    },
    {
      "cell_type": "markdown",
      "metadata": {
        "id": "llwxemI0KSiS"
      },
      "source": [
        "###**The Return statement in function**\n",
        "\n",
        "The return statement (the word return followed by an expression.) is used to return a value from a function, return statement without an expression argument returns none\n",
        "\n",
        "**Syntax:**\n",
        "\n",
        "```\n",
        "def function_name(argument1, argument2, ...) :\n",
        "    statement_1\n",
        "    statement_n\n",
        "    return expression\n",
        "```\n",
        "\n",
        "\n"
      ]
    },
    {
      "cell_type": "code",
      "execution_count": null,
      "metadata": {
        "id": "nZtBMwXSIyGV"
      },
      "outputs": [],
      "source": [
        "# the square of the sum of two numbers.\n",
        "def nsquare(x, y):\n",
        "    return (x*x + 2*x*y + y*y)\n",
        "\n",
        "# call the function\n",
        "print(\"The square of the sum of 2 and 3 is : \", nsquare(2, 3))\n"
      ]
    },
    {
      "cell_type": "markdown",
      "metadata": {
        "id": "RKI1BBwLJn-D"
      },
      "source": [
        "Function with Default Argument Values"
      ]
    },
    {
      "cell_type": "code",
      "execution_count": null,
      "metadata": {
        "id": "eqVFADPbJEYj"
      },
      "outputs": [],
      "source": [
        "# the square of the sum of two numbers.\n",
        "def nsquare(x, y=2):\n",
        "    return (x*x + 2*x*y + y*y)\n",
        "\n",
        "# call the function\n",
        "print(\"The square of the sum of 2 and 3 is : \", nsquare(2))\n",
        "print(\"The square of the sum of 2 and 3 is : \", nsquare(2,4))\n"
      ]
    },
    {
      "cell_type": "markdown",
      "metadata": {
        "id": "YMrFARIqLjUI"
      },
      "source": [
        "###**Arbitrary Argument Lists**\n",
        "\n",
        "The 'arbitrary argument' list is an another way to pass arguments to a function. In the function body, these arguments will be wrapped in a tuple and it can be defined with *args construct. Before this variable, you can define a number of arguments or no argument.\n",
        "\n",
        "**Syntax:**\n",
        "\n",
        "```\n",
        "def function_name(.., *args) :\n",
        "    statement_1\n",
        "    statement_n\n",
        "    return expression\n",
        "```"
      ]
    },
    {
      "cell_type": "code",
      "execution_count": null,
      "metadata": {
        "id": "Ab0TPc5YJ2np"
      },
      "outputs": [],
      "source": [
        "def addmultiply(*numbers):\n",
        "  add = 0\n",
        "  multiply = 1\n",
        "  for num in numbers:\n",
        "    add += num\n",
        "    multiply *= num\n",
        "  return add,multiply\n",
        "\n",
        "print(addmultiply(123,321))\n"
      ]
    },
    {
      "cell_type": "markdown",
      "metadata": {
        "id": "4pUu9guNjCL8"
      },
      "source": [
        "###**Python docstrings**\n",
        "\n",
        "Python docstrings are strings used right after the definition of a function, method, class, or module. They are used to document our code.\n",
        "\n",
        "We can access these docstrings using the `__doc__` attribute"
      ]
    },
    {
      "cell_type": "code",
      "execution_count": null,
      "metadata": {
        "id": "Tolki7stjXjs"
      },
      "outputs": [],
      "source": [
        "def addmultiply(*numbers):\n",
        "  'Takes in numbers , returns sum and multiplication'\n",
        "  add = 0\n",
        "  multiply = 1\n",
        "  for num in numbers:\n",
        "    add += num\n",
        "    multiply *= num\n",
        "  return add,multiply\n",
        "\n",
        "print(addmultiply(123,321))"
      ]
    },
    {
      "cell_type": "code",
      "execution_count": null,
      "metadata": {
        "id": "YTwaMcdqjt-B"
      },
      "outputs": [],
      "source": [
        "addmultiply.__doc__"
      ]
    },
    {
      "cell_type": "markdown",
      "metadata": {
        "id": "FSZY_mxNRwUI"
      },
      "source": [
        "###**Python Module**\n",
        "\n",
        "Modules are a simple way to organize a program which contains program code, variables etc.. All these definitions and statements are contained in a single Python file. The name of the module is the name of the file name with .py extension. Modules are not loaded unless we execute in Python interpreter or call within a program. In Python, there are modules in a standard library, current directory or directories containing .py files (in fact each file with .py extension is a module)."
      ]
    },
    {
      "cell_type": "code",
      "execution_count": null,
      "metadata": {
        "id": "eFZxmeu7Mmb6"
      },
      "outputs": [],
      "source": [
        "# factorial.py\n",
        "def factcal(n): # Create the factorial of a positive integer\n",
        "    fact = 1\n",
        "    while n>0:\n",
        "          fact *= n\n",
        "          n=n-1\n",
        "          if(n<=1):\n",
        "            break\n",
        "    else: # Display the message if n is not a positive integer.\n",
        "          print('Input a correct number....')\n",
        "          return\n",
        "    return fact\n",
        "\n",
        "\n",
        "def factdata(n): # return the numbers of factorial x\n",
        "    result = []\n",
        "    while n>0:\n",
        "       result.append(n)\n",
        "       n = n - 1\n",
        "       if(n==0):\n",
        "        break\n",
        "    else: # Display the message if n is not a positive integer.\n",
        "       print('Input a correct number....')\n",
        "       return\n",
        "    return result\n"
      ]
    },
    {
      "cell_type": "markdown",
      "metadata": {
        "id": "ZDTbnWhtS_Qh"
      },
      "source": [
        "Importing a module:"
      ]
    },
    {
      "cell_type": "code",
      "execution_count": null,
      "metadata": {
        "id": "b8RaU8e1Se9F"
      },
      "outputs": [],
      "source": [
        "import factorial"
      ]
    },
    {
      "cell_type": "code",
      "execution_count": null,
      "metadata": {
        "id": "wGozBoU0TOgn"
      },
      "outputs": [],
      "source": [
        "factorial.factcal(9)"
      ]
    },
    {
      "cell_type": "code",
      "execution_count": null,
      "metadata": {
        "id": "evZeg7c-UAok"
      },
      "outputs": [],
      "source": [
        "factorial.factdata(9)"
      ]
    },
    {
      "cell_type": "markdown",
      "metadata": {
        "id": "IgWdd-Nthm8n"
      },
      "source": [
        "Executing modules as scripts:\n",
        "\n",
        "To run a Python module as a script use the following syntax.\n",
        "\n",
        "python filename <arguments>\n",
        "The program code in the module will be executed with the __name__ set to \"__main__\" which means adding some additional code at the end of the module."
      ]
    },
    {
      "cell_type": "code",
      "execution_count": null,
      "metadata": {
        "id": "m_7GgAhFUFlQ"
      },
      "outputs": [],
      "source": [
        "def factcal(n):\n",
        "# Create the factorial of a positive integer\n",
        "    fact = 1\n",
        "    while n>0:\n",
        "          fact *= n\n",
        "          n=n-1\n",
        "          if(n<=1):\n",
        "            break\n",
        "    else:\n",
        "# Display the message if n is not a positive integer.\n",
        "          print('Input a correct number....')\n",
        "          return\n",
        "    print(fact)\n",
        "def factdata(n): # return the numbers of factorial x\n",
        "    result = []\n",
        "    while n>0:\n",
        "       result.append(n)\n",
        "       n = n - 1\n",
        "       if(n==0):\n",
        "        break\n",
        "    else:\n",
        "# Display the message if n is not a positive integer.\n",
        "       print('Input a correct number....')\n",
        "       return\n",
        "    print(result)\n",
        "\n",
        "if __name__ == \"__main__\":\n",
        "    import sys\n",
        "    factcal(int(sys.argv[1]))\n",
        "    factdata(int(sys.argv[2]))"
      ]
    },
    {
      "cell_type": "markdown",
      "metadata": {
        "id": "zRE0Q9PWrdlw"
      },
      "source": [
        "##**Package:**\n",
        "\n",
        "A special type of module (object) that contains submodules and/or subpackages, providing a hierarchical organization for modules. Packages, just like modules, are loaded using the import statement.\n",
        "\n",
        "A container of one or more related Python modules that can be installed together (for example, **numerical python** or **numpy** is a package containing many submodules. It can be downloaded, installed, and imported.) The name \"library\" is sometimes used interchangeably with package.\n",
        "\n",
        "Let's start by importing numpy. This is one of the most important libraries in the scientific Python stack; we will explore it in detail in the next section."
      ]
    },
    {
      "cell_type": "code",
      "execution_count": null,
      "metadata": {
        "id": "tFfNLCcWr2HU"
      },
      "outputs": [],
      "source": [
        "import numpy"
      ]
    },
    {
      "cell_type": "markdown",
      "metadata": {
        "id": "NOYDshXlsj1t"
      },
      "source": [
        "running cell with `import numpy `\n",
        "two things happen:\n",
        "1. a new module object is created by loading the \"numpy\" module\n",
        "2. the name \"numpy\" is assigned to this new object"
      ]
    },
    {
      "cell_type": "code",
      "execution_count": null,
      "metadata": {
        "id": "4ShlRGPrsfck"
      },
      "outputs": [],
      "source": [
        "numpy"
      ]
    },
    {
      "cell_type": "markdown",
      "metadata": {
        "id": "C8YNWr16tapd"
      },
      "source": [
        "Numpy is a large library. Let's use the dir function, which you learned earlier, to view all of the available methods."
      ]
    },
    {
      "cell_type": "code",
      "execution_count": null,
      "metadata": {
        "id": "bq7AV6oRtR8l"
      },
      "outputs": [],
      "source": [
        "print(dir(numpy)) # with len to check how many"
      ]
    },
    {
      "cell_type": "markdown",
      "metadata": {
        "id": "UR5R3zMrt-ki"
      },
      "source": [
        "###**Importing specific functions from a module**\n"
      ]
    },
    {
      "cell_type": "markdown",
      "metadata": {
        "id": "q1g_RQkzuPoy"
      },
      "source": [
        "Note that, if we now look at the global namespace using dir, the two names that we've just imported are now visible, which means that they're globally accessible."
      ]
    },
    {
      "cell_type": "code",
      "execution_count": null,
      "metadata": {
        "id": "588RWgmbtD0A"
      },
      "outputs": [],
      "source": [
        "from numpy import cos,pi\n",
        "cos(pi)"
      ]
    },
    {
      "cell_type": "markdown",
      "metadata": {
        "id": "24WimbM4uwPd"
      },
      "source": [
        "###**Importing all attributes into the global namespace**\n"
      ]
    },
    {
      "cell_type": "markdown",
      "metadata": {
        "id": "GjDmPNLmu-2U"
      },
      "source": [
        "It is possible to import all objects from a module:\n",
        "` from numpy import *`\n",
        "\n",
        "THIS IS GENERALLY DISCOURAGED."
      ]
    },
    {
      "cell_type": "code",
      "execution_count": null,
      "metadata": {
        "id": "dv_utz6Wt3k8"
      },
      "outputs": [],
      "source": [
        "from numpy import *\n",
        "#dir()"
      ]
    },
    {
      "cell_type": "markdown",
      "metadata": {
        "id": "0s2L16zCvIwH"
      },
      "source": [
        "It makes a mess of your namespace, it makes it difficult to tell where any given name was defined, and it increases the likelihood of name conflicts. In addition, against intuitive interpretation, it does not \"import everything\". The behavior of this command is defined by the implementation of the module, so it can be difficult to predict what you will get."
      ]
    },
    {
      "cell_type": "markdown",
      "metadata": {
        "id": "-VJSnLAOvZeh"
      },
      "source": [
        "###**Common way to import**\n"
      ]
    },
    {
      "cell_type": "code",
      "execution_count": null,
      "metadata": {
        "id": "YJtXae8mvZFo"
      },
      "outputs": [],
      "source": [
        "import numpy as np # immediately renames numpy to np"
      ]
    },
    {
      "cell_type": "code",
      "execution_count": null,
      "metadata": {
        "id": "CniRmViOuWcu"
      },
      "outputs": [],
      "source": [
        "print(np.sqrt(np.pi))"
      ]
    },
    {
      "cell_type": "code",
      "execution_count": null,
      "metadata": {
        "id": "4vrKMdOALmdw"
      },
      "outputs": [],
      "source": [
        "print(np.__version__)\n",
        "print(np.show_config())"
      ]
    },
    {
      "cell_type": "markdown",
      "metadata": {
        "id": "WQgOOBs6wSNj"
      },
      "source": [
        "##**NumPy**\n",
        "https://numpy.org/\n",
        "\n",
        "Python library that provides efficient implementations of many functions commonly used in scientific programming.\n",
        "Using NumPy in Python gives functionality comparable to MATLAB. NumPy is probably the most widely used library in the scientific Python stack because it provides one crucial data type--multi-dimensional arrays--that allow us to efficiently manipulate large datasets. NumPy arrays are used and supported by nearly every Python analysis and visualization library, making it the de-facto standard for binding these tools together."
      ]
    },
    {
      "cell_type": "markdown",
      "metadata": {
        "id": "JzucJH0yyUFh"
      },
      "source": [
        "**What is an array?**\n",
        "**Why are arrays useful?**\n",
        "\n",
        "Arrays  - containers that hold many items, all of the same type.\n",
        "\n",
        "Represented by a rectangular structure. Arrays may have any number of dimensions, but each dimension (axis) of the array has a fixed length.\n",
        "\n",
        "*   They are fast\n",
        "*   They use memory efficiently\n",
        "*   Used correctly, they can make your code more concise\n",
        "\n",
        "\n",
        "\n",
        "\n"
      ]
    },
    {
      "cell_type": "markdown",
      "metadata": {
        "id": "SH1r-wKHzYUC"
      },
      "source": [
        "Let's create multi-dimensional array-like structures by nesting Python lists together"
      ]
    },
    {
      "cell_type": "code",
      "execution_count": null,
      "metadata": {
        "id": "BNIQjL5ivvfG"
      },
      "outputs": [],
      "source": [
        "import random\n",
        "\n",
        "rows = 50\n",
        "cols = 5\n",
        "\n",
        "python_list_array = []\n",
        "for i in range(rows):\n",
        "    row = []\n",
        "    for j in range(cols):\n",
        "        row.append(int(10*random.random()))\n",
        "    python_list_array.append(row)\n",
        "\n",
        "#python_list_array"
      ]
    },
    {
      "cell_type": "markdown",
      "metadata": {
        "id": "-B3IvzIXz_bh"
      },
      "source": [
        "Let's calculate the mean value of every column:"
      ]
    },
    {
      "cell_type": "code",
      "execution_count": null,
      "metadata": {
        "id": "JgRPHlKuz0n6"
      },
      "outputs": [],
      "source": [
        "meanvals = []\n",
        "for j in range(cols):\n",
        "    col = [row[j] for row in python_list_array]\n",
        "    meanvals.append(sum(col) / float(rows))\n",
        "\n",
        "print(meanvals[:])"
      ]
    },
    {
      "cell_type": "markdown",
      "metadata": {
        "id": "NjM_I_480-pL"
      },
      "source": [
        "2d array with Numpy"
      ]
    },
    {
      "cell_type": "code",
      "execution_count": null,
      "metadata": {
        "id": "RnUa95LD0HJw"
      },
      "outputs": [],
      "source": [
        "import numpy as np\n",
        "data2d = np.random.random(size=(rows, cols))\n",
        "meanvals = data2d.mean(axis=0)\n",
        "print(meanvals)"
      ]
    },
    {
      "cell_type": "markdown",
      "metadata": {
        "id": "irB2pHuZ1NP-"
      },
      "source": [
        "Let's explore the array object :"
      ]
    },
    {
      "cell_type": "code",
      "execution_count": null,
      "metadata": {
        "id": "g4oRUrWJ0vaj"
      },
      "outputs": [],
      "source": [
        "# numpy arrays have a set number of dimensions:\n",
        "data2d.ndim"
      ]
    },
    {
      "cell_type": "code",
      "execution_count": null,
      "metadata": {
        "id": "y2gi-zsM1R8t"
      },
      "outputs": [],
      "source": [
        "# each dimension has a specific length\n",
        "data2d.shape"
      ]
    },
    {
      "cell_type": "code",
      "execution_count": null,
      "metadata": {
        "id": "Um3fr-Qk1VHF"
      },
      "outputs": [],
      "source": [
        "# The total number of items in this array (d1 * d2) is given by the size attribute\n",
        "data2d.size"
      ]
    },
    {
      "cell_type": "code",
      "execution_count": null,
      "metadata": {
        "id": "FqF2tKdM1dAB"
      },
      "outputs": [],
      "source": [
        "# The array's memory usage is the number of items * the number of bytes used by each item\n",
        "data2d.size * data2d.itemsize"
      ]
    },
    {
      "cell_type": "code",
      "execution_count": null,
      "metadata": {
        "id": "m0nYiN8v1k3p"
      },
      "outputs": [],
      "source": [
        "# all items in the array share the same data type\n",
        "data2d.dtype"
      ]
    },
    {
      "cell_type": "code",
      "execution_count": null,
      "metadata": {
        "id": "BKhZVwG01uJg"
      },
      "outputs": [],
      "source": [
        "# convert an array to a different dtype by using the astype() method\n",
        "smaller_data2d = data2d.astype('float32')\n",
        "\n",
        "smaller_data2d.size * smaller_data2d.itemsize"
      ]
    },
    {
      "cell_type": "code",
      "execution_count": null,
      "metadata": {
        "id": "v5eKhvS6RW8e"
      },
      "outputs": [],
      "source": [
        "# convert numpy dtypes to native python types\n",
        "\n",
        "print(type(smaller_data2d[0,1]))\n",
        "pyval = smaller_data2d[0,1].item()\n",
        "print(type(pyval))"
      ]
    },
    {
      "cell_type": "markdown",
      "metadata": {
        "id": "ExDk6y0e4pDT"
      },
      "source": [
        "###**Creating new arrays**\n"
      ]
    },
    {
      "cell_type": "code",
      "execution_count": null,
      "metadata": {
        "id": "RLUR54yQ8QTO"
      },
      "outputs": [],
      "source": [
        "# 1d\n",
        "my_list = [1, 22, 9, -1, 0.3]\n",
        "\n",
        "my_array = np.array( my_list )\n",
        "print(my_array)\n",
        "print(type(my_array))"
      ]
    },
    {
      "cell_type": "code",
      "execution_count": null,
      "metadata": {
        "id": "y06FLeDA2TPi"
      },
      "outputs": [],
      "source": [
        "# from nested list\n",
        "list_data = [[1,2], [3,4], [5,6], [7,8]]\n",
        "arr1 = np.array(list_data)\n",
        "print(arr1)"
      ]
    },
    {
      "cell_type": "code",
      "execution_count": null,
      "metadata": {
        "id": "bkOv02p07bsI"
      },
      "outputs": [],
      "source": [
        " # with specified data type\n",
        " b = np.array([(1.5,2,3), (4,5,6)], dtype = float)\n",
        " b"
      ]
    },
    {
      "cell_type": "code",
      "execution_count": null,
      "metadata": {
        "id": "cqFoo3Wo7fge"
      },
      "outputs": [],
      "source": [
        " # 3d array\n",
        " c = np.array([[(1.5,2,3), (4,5,6)], [(3,2,1), (4,5,6)]],\n",
        " dtype = float)\n",
        " c"
      ]
    },
    {
      "cell_type": "markdown",
      "metadata": {
        "id": "YNqQIjoH874D"
      },
      "source": [
        "**Initial Placeholders**"
      ]
    },
    {
      "cell_type": "code",
      "execution_count": null,
      "metadata": {
        "id": "Jy3mjIVf9DsC"
      },
      "outputs": [],
      "source": [
        "# Create an array of a certain shape and dtype, filled with zeros\n",
        "arr2 = np.zeros((5, 10), dtype='uint16')\n",
        "print(arr2)\n",
        "print(\"shape:\", arr2.shape, \"dtype:\", arr2.dtype)"
      ]
    },
    {
      "cell_type": "code",
      "execution_count": null,
      "metadata": {
        "id": "Updl-Be09OBG"
      },
      "outputs": [],
      "source": [
        "# Create an array of ones\n",
        "np.ones((2,3,4),dtype=np.int16)"
      ]
    },
    {
      "cell_type": "code",
      "execution_count": null,
      "metadata": {
        "id": "AjrUMY899yyv"
      },
      "outputs": [],
      "source": [
        " # Create an array of evenly spaced values (step value)\n",
        "\n",
        " d = np.arange(10,25,5)\n",
        " print(d)"
      ]
    },
    {
      "cell_type": "code",
      "execution_count": null,
      "metadata": {
        "id": "54x2SKkX99vU"
      },
      "outputs": [],
      "source": [
        "# Create an array of evenly spaced values (number of samples)\n",
        "\n",
        "np.linspace(0,2,9)"
      ]
    },
    {
      "cell_type": "code",
      "execution_count": null,
      "metadata": {
        "id": "3c1QfB3a-R3t"
      },
      "outputs": [],
      "source": [
        "# Create a constant array\n",
        "\n",
        "np.full((2,2),7)"
      ]
    },
    {
      "cell_type": "code",
      "execution_count": null,
      "metadata": {
        "id": "omMTb2QX-cUV"
      },
      "outputs": [],
      "source": [
        "# Create a 2X2 identity matrix\n",
        "\n",
        "np.eye(4)"
      ]
    },
    {
      "cell_type": "code",
      "execution_count": null,
      "metadata": {
        "id": "nb3NpNex-r5J"
      },
      "outputs": [],
      "source": [
        "# Create an array with random values from a normal (Gaussian) distribution\n",
        "\n",
        "np.random.normal(2,0.1,(10,2))"
      ]
    },
    {
      "cell_type": "code",
      "execution_count": null,
      "metadata": {
        "id": "PQ96Rc83_erJ"
      },
      "outputs": [],
      "source": [
        "# Create an empty array\n",
        "\n",
        "#does not set the array values to zero, and may therefore be marginally faster.\n",
        "# On the other hand, it requires the user to manually set all the values in the array,\n",
        "# and should be used with caution.\n",
        "\n",
        "np.empty((2,3), dtype=float64, order='F')"
      ]
    },
    {
      "cell_type": "markdown",
      "metadata": {
        "id": "QzCPD-aFAyZT"
      },
      "source": [
        "order : {'C', 'F'}, optional, default: 'C''\n",
        "Whether to store multi-dimensional data in row-major (C-style) or column-major (Fortran-style) order in memory.\n",
        "\n",
        "![image.png](data:image/png;base64,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)\n"
      ]
    },
    {
      "cell_type": "markdown",
      "metadata": {
        "id": "3o7RuZE9Bj5w"
      },
      "source": [
        "###**Subsetting, Slicing, Indexing**"
      ]
    },
    {
      "cell_type": "code",
      "execution_count": null,
      "metadata": {
        "id": "6VBOXsNvBqd_"
      },
      "outputs": [],
      "source": [
        "# Create small array for indexing\n",
        "arr4 = np.array([[1,2,3,4,5], [6,7,8,9,10], [11,12,13,14,15]])\n",
        "print(arr4)"
      ]
    },
    {
      "cell_type": "code",
      "execution_count": null,
      "metadata": {
        "id": "9FHZwUwoC2kU"
      },
      "outputs": [],
      "source": [
        "# subsetting\n",
        "print(arr4[2, 3])"
      ]
    },
    {
      "cell_type": "code",
      "execution_count": null,
      "metadata": {
        "id": "5QEypVuHFP1K"
      },
      "outputs": [],
      "source": [
        "# slicing\n",
        "print(arr4[0, 0:4])\n",
        "print(arr4[:,2])\n",
        "print(arr4[0, ::-1])"
      ]
    },
    {
      "cell_type": "code",
      "execution_count": null,
      "metadata": {
        "id": "2NQsfA8fGFPa"
      },
      "outputs": [],
      "source": [
        "# boolean indexing\n",
        "arr4[arr4<8]"
      ]
    },
    {
      "cell_type": "code",
      "execution_count": null,
      "metadata": {
        "id": "dDpmbyoXGWU7"
      },
      "outputs": [],
      "source": [
        "# select a sublet of the matrix\n",
        "\n",
        "arr4[[1, 0, 1, 0]][:,[0,1,2,0]]"
      ]
    },
    {
      "cell_type": "markdown",
      "metadata": {
        "id": "x1WT7c0IzdCi"
      },
      "source": [
        "Aside: some arrays share memory!\n",
        "Note that when we slice an array, the original array is unchanged. However, the new array that we create is actually a view on the original array. No data is copied when the view is created. This means that modifications made to either array will be visible from both:"
      ]
    },
    {
      "cell_type": "code",
      "execution_count": null,
      "metadata": {
        "id": "V1MlVRbNXjNa"
      },
      "outputs": [],
      "source": [
        "# copying arrays\n",
        "# Create a view of the array with the same data\n",
        "arr5 = arr4.view()\n",
        "arr6 = np.copy(arr4)\n",
        "arr7 = arr4.copy()\n",
        "\n",
        "print(arr4 == arr5)\n",
        "print(np.array_equal(arr4, arr6))\n",
        "print(np.array_equal(arr4, arr7))"
      ]
    },
    {
      "cell_type": "markdown",
      "metadata": {
        "id": "79BWt4qv4CHH"
      },
      "source": [
        "###**Saving & Loading On Disk**\n"
      ]
    },
    {
      "cell_type": "code",
      "execution_count": null,
      "metadata": {
        "id": "4Nc9T_ZL4DQ9"
      },
      "outputs": [],
      "source": [
        " np.save('my_array', arr4)"
      ]
    },
    {
      "cell_type": "code",
      "execution_count": null,
      "metadata": {
        "id": "zcCS2cSC4EQ6"
      },
      "outputs": [],
      "source": [
        "np.load('my_array.npy')\n"
      ]
    },
    {
      "cell_type": "code",
      "execution_count": null,
      "metadata": {
        "id": "YtRsi3qDHlth"
      },
      "outputs": [],
      "source": [
        "# The .npz file format is a zipped archive of files named\n",
        "# after the variables they contain. The archive is not compressed\n",
        "# and each file in the archive contains one variable in .npy format.\n",
        "\n",
        "np.savez('array.npz', arr2, arr4)"
      ]
    },
    {
      "cell_type": "code",
      "execution_count": null,
      "metadata": {
        "id": "CUVHVV-pHpuh"
      },
      "outputs": [],
      "source": [
        "f = np.load('array.npz')\n",
        "print(f.files)\n",
        "print(f['arr_0'])\n",
        "print(f['arr_1'])"
      ]
    },
    {
      "cell_type": "markdown",
      "metadata": {
        "id": "svCKjgzFay96"
      },
      "source": [
        "##**Array Mathematics**\n"
      ]
    },
    {
      "cell_type": "code",
      "execution_count": null,
      "metadata": {
        "id": "E5vLDc8ta23j"
      },
      "outputs": [],
      "source": [
        "# Subtraction\n",
        "\n",
        "g = c-b\n",
        "print(g)\n",
        "\n",
        "f = np.subtract(b,c)\n",
        "print(f)"
      ]
    },
    {
      "cell_type": "code",
      "execution_count": null,
      "metadata": {
        "id": "z15aP5vubGB9"
      },
      "outputs": [],
      "source": [
        "# addition\n",
        "\n",
        "ff = b+f\n",
        "print(ff)\n",
        "\n",
        "h = np.add(b,f)\n",
        "print(h)"
      ]
    },
    {
      "cell_type": "code",
      "execution_count": null,
      "metadata": {
        "id": "w3S3uZK2fEoV"
      },
      "outputs": [],
      "source": [
        "# division\n",
        "ff = b/f\n",
        "print(ff)\n",
        "\n",
        "h = np.divide(b,f)\n",
        "print(h)"
      ]
    },
    {
      "cell_type": "code",
      "execution_count": null,
      "metadata": {
        "id": "kt9D3u3Yfk7L"
      },
      "outputs": [],
      "source": [
        "# multiplication\n",
        "ff = b * f\n",
        "print(ff)\n",
        "\n",
        "h = np.multiply(b,f)\n",
        "print(h)"
      ]
    },
    {
      "cell_type": "code",
      "execution_count": null,
      "metadata": {
        "id": "QHqsF8EbfzgM"
      },
      "outputs": [],
      "source": [
        "# Element-wise natural logarithm\n",
        "np.log(b)"
      ]
    },
    {
      "cell_type": "code",
      "execution_count": null,
      "metadata": {
        "id": "Wz4GG-srf_Tr"
      },
      "outputs": [],
      "source": [
        "# Exponentiation\n",
        "np.exp(b)"
      ]
    },
    {
      "cell_type": "code",
      "execution_count": null,
      "metadata": {
        "id": "lYhQRrH_gFO9"
      },
      "outputs": [],
      "source": [
        "# print element-wise cosine\n",
        "np.cos(b)"
      ]
    },
    {
      "cell_type": "code",
      "execution_count": null,
      "metadata": {
        "id": "a0hycDYkgJzm"
      },
      "outputs": [],
      "source": [
        "# sum\n",
        "np.sum(b)"
      ]
    },
    {
      "cell_type": "code",
      "execution_count": null,
      "metadata": {
        "id": "P9ldZF5cgZII"
      },
      "outputs": [],
      "source": [
        "# min, max , mean, median, std, cumsum\n",
        "\n",
        "print(np.min(b))\n",
        "print(np.max(b))\n",
        "print(np.mean(b))\n",
        "print(np.median(b))\n",
        "print(np.std(b))\n",
        "print(np.cumsum(b))"
      ]
    },
    {
      "cell_type": "markdown",
      "metadata": {
        "id": "DZ4p1SA5haOb"
      },
      "source": [
        "##**Array Manipulation**\n"
      ]
    },
    {
      "cell_type": "code",
      "execution_count": null,
      "metadata": {
        "id": "tEfQaXYZgrdz"
      },
      "outputs": [],
      "source": [
        "# transposing\n",
        "print(arr4)\n",
        "print(arr4.T)\n",
        "print(np.transpose(arr4))"
      ]
    },
    {
      "cell_type": "code",
      "execution_count": null,
      "metadata": {
        "id": "qP7M6v-LhnZz"
      },
      "outputs": [],
      "source": [
        "# changing array shape\n",
        "print(arr4)\n",
        "print(arr4.ravel())\n",
        "arr5 = arr4.ravel()\n",
        "print(arr5.reshape(5,-1))"
      ]
    },
    {
      "cell_type": "code",
      "execution_count": null,
      "metadata": {
        "id": "rUlp7LSvh8I8"
      },
      "outputs": [],
      "source": []
    },
    {
      "cell_type": "markdown",
      "metadata": {
        "id": "hjMkcX0DHIdG"
      },
      "source": [
        "###**Import csv-file as np.array and data description**\n"
      ]
    },
    {
      "cell_type": "markdown",
      "metadata": {
        "id": "vF0MS19iDC9Q"
      },
      "source": [
        "download and add to working directory patch-clamp_sweeps.csv\n",
        "\n",
        "https://drive.google.com/file/d/14BjA02ttm3WIvs3Q-iGwgo1uB5rLnoG-/view?usp=sharing\n",
        "\n",
        "The data array contains 11 columns. The first column contains time values, and the rest contain electrode data recorded from 10 consecutive trials."
      ]
    },
    {
      "cell_type": "markdown",
      "metadata": {
        "id": "pHGS9-uIDYvR"
      },
      "source": [
        "It’s possible to use NumPy to directly read csv or other files into arrays. We can do this using the **numpy.genfromtxt** or **np.loadtxt** functions. We can use it to read in our initial data"
      ]
    },
    {
      "cell_type": "markdown",
      "metadata": {
        "id": "aRfv0XrOFN1j"
      },
      "source": [
        "Using `np.genfromtxt` gives you some options like the parameters `missing_values`, `filling_values` that can help you dealing with an incomplete csv. Or if you want to have a structured array with fields, as it allows you to say `names=True` and the field names will be automatically generated from the first line of the file\n",
        "\n",
        "`np.loadtxt ` has a useful parameter unpack  when you want to put each column of the text file in a different variable. Example:\n",
        "\n",
        "`x, y, z = np.loadtxt(filename, unpack=True)`"
      ]
    },
    {
      "cell_type": "code",
      "execution_count": null,
      "metadata": {
        "id": "wvzEB2vsHHYS"
      },
      "outputs": [],
      "source": [
        "# load and check shape\n",
        "import numpy as np\n",
        "ephys_data = np.loadtxt(\"patch-clamp_sweeps.csv\", delimiter=\",\", skiprows=1)\n",
        "print(ephys_data.shape)"
      ]
    },
    {
      "cell_type": "code",
      "execution_count": null,
      "metadata": {
        "id": "D9CsthcBHdPH"
      },
      "outputs": [],
      "source": [
        "# Separate time values from the rest of the data\n",
        "etime = ephys_data[:, 0]\n",
        "ephys_data = ephys_data[:, 1:]"
      ]
    },
    {
      "cell_type": "markdown",
      "metadata": {
        "id": "3pozihW_6QpV"
      },
      "source": [
        "if any of this is confusing, just ignore it for now:\n",
        "\n",
        "`import matplotlib`\n",
        "\n",
        "not needed right now the line below with pyplot is sufficient\n",
        "\n",
        "`import matplotlib.pyplot as pl`\n",
        "\n",
        "this is the important line for giving us the module and code we need today for plotting\n",
        "\n",
        "a lot of people use `plt` instead of `pl`\n",
        "\n",
        "\n"
      ]
    },
    {
      "cell_type": "code",
      "execution_count": null,
      "metadata": {
        "id": "rQ-SLqfoG8Wc"
      },
      "outputs": [],
      "source": [
        "import matplotlib.pyplot as plt\n",
        "\n",
        "# Plot all sweeps overlaid\n",
        "plt.plot(etime, ephys_data)\n",
        "plt.show()"
      ]
    },
    {
      "cell_type": "code",
      "execution_count": null,
      "metadata": {
        "id": "q2oRwIcX1HRF"
      },
      "outputs": [],
      "source": [
        "# Print some statistics on the entire dataset\n",
        "print(\"min:\", ephys_data.min(), \"max:\", ephys_data.max())\n",
        "print(\"mean:\", ephys_data.mean(), \"stdev:\", ephys_data.std())"
      ]
    },
    {
      "cell_type": "code",
      "execution_count": null,
      "metadata": {
        "id": "RiUvVTqJ1eDW"
      },
      "outputs": [],
      "source": [
        "# Compute the mean value from each recording\n",
        "# (average all values along axis 0)\n",
        "\n",
        "print(\"Mean of each recording:\", ephys_data.mean(axis=0))\n"
      ]
    },
    {
      "cell_type": "code",
      "execution_count": null,
      "metadata": {
        "id": "8qSZfSMQ1hN_"
      },
      "outputs": [],
      "source": [
        "# For each time point, compute (and plot) the average values across all recordings\n",
        "# (mean of all values along axis 1)\n",
        "\n",
        "plt.plot(etime, ephys_data.mean(axis=1));"
      ]
    },
    {
      "cell_type": "code",
      "execution_count": null,
      "metadata": {
        "id": "uw_HD9ItIINy"
      },
      "outputs": [],
      "source": [
        "# Median value of all samples at 100ms\n",
        "idx = np.where(etime ==0.1)\n",
        "np.median(ephys_data[:int(idx[0][0])])"
      ]
    },
    {
      "cell_type": "code",
      "execution_count": null,
      "metadata": {
        "id": "eWnN3UJaJABa"
      },
      "outputs": [],
      "source": [
        "# Sum (area under curve) for each recording:\n",
        "\n",
        "AUC = np.sum(ephys_data, axis=0)"
      ]
    },
    {
      "cell_type": "code",
      "execution_count": null,
      "metadata": {
        "id": "RaS5mTFwJfW8"
      },
      "outputs": [],
      "source": [
        "# Minimum (peak) value of each recording occurs at indices\n",
        "\n",
        "minpeak = np.argmin(ephys_data, axis=0)"
      ]
    },
    {
      "cell_type": "code",
      "execution_count": null,
      "metadata": {
        "id": "42HRqZRGK5Or"
      },
      "outputs": [],
      "source": [
        "# Minimum (peak) value of average recording occurs at t =\n",
        "\n",
        "minpeaktime = 0.4e-3 * np.argmin(ephys_data.mean(axis=1))"
      ]
    },
    {
      "cell_type": "code",
      "execution_count": null,
      "metadata": {
        "id": "DIcNrnuJLFSE"
      },
      "outputs": [],
      "source": [
        "# save\n",
        "\n",
        "np.savez('ephys_results.npz', ephys_data, minpeak, minpeaktime, AUC)"
      ]
    },
    {
      "cell_type": "code",
      "execution_count": null,
      "metadata": {
        "id": "YTkeyRusMc9C"
      },
      "outputs": [],
      "source": [
        "# load back and verified\n",
        "reloaded_data = np.load(\"ephys_results.npz\")\n",
        "if (reloaded_data['arr_0'] == ephys_data).all():\n",
        "    print(\"Data was saved and verified!\")"
      ]
    },
    {
      "cell_type": "markdown",
      "metadata": {
        "id": "dz-aPCwuwovc"
      },
      "source": [
        "##**Descriptive Statistics with Numpy**\n",
        "\n",
        "NumPy has a numpy.histogram() function that is a graphical representation of the frequency distribution of data. Rectangles of equal horizontal size corresponding to class interval called bin and variable height corresponding to frequency."
      ]
    },
    {
      "cell_type": "code",
      "execution_count": null,
      "metadata": {
        "id": "43CbVkl-wuRr"
      },
      "outputs": [],
      "source": [
        "import numpy as np\n",
        "\n",
        "a = np.random.normal(50, 25, 1000)\n",
        "bins_for_a = np.arange(0,101, 20)\n",
        "hist,bins = np.histogram(a,bins = bins_for_a)\n",
        "print(hist)\n",
        "print(bins)"
      ]
    },
    {
      "cell_type": "code",
      "execution_count": null,
      "metadata": {
        "id": "O4Mv9z_1xn9T"
      },
      "outputs": [],
      "source": [
        "from matplotlib import pyplot as plt\n",
        "bin_centers = bins[:-1] + np.diff(bins)/2\n",
        "plt.plot(bin_centers,hist)\n",
        "plt.show()"
      ]
    },
    {
      "cell_type": "code",
      "execution_count": null,
      "metadata": {
        "id": "9R7zSF3Rx5Lr"
      },
      "outputs": [],
      "source": [
        "np.diff(bins,axis=0)"
      ]
    },
    {
      "cell_type": "markdown",
      "metadata": {
        "id": "lGXFaL9qzwVv"
      },
      "source": [
        "##**Resampling methods**"
      ]
    },
    {
      "cell_type": "code",
      "execution_count": null,
      "metadata": {
        "id": "jv_yqWq_0gtn"
      },
      "outputs": [],
      "source": [
        "# Set the random seed to make the random numbers predictable\n",
        "# good for reproducibility\n",
        "\n",
        "np.random.seed(123)"
      ]
    },
    {
      "cell_type": "code",
      "execution_count": null,
      "metadata": {
        "id": "HerPxBLwyh4f"
      },
      "outputs": [],
      "source": [
        "# create\n",
        "x = np.random.randint(0, 10, (8, 12))\n",
        "x"
      ]
    },
    {
      "cell_type": "code",
      "execution_count": null,
      "metadata": {
        "id": "1aJ5wCaBCDuD"
      },
      "outputs": [],
      "source": [
        "# Shuffling occurs \"in place\" for efficiency\n",
        "np.random.shuffle(x)\n",
        "x"
      ]
    },
    {
      "cell_type": "code",
      "execution_count": null,
      "metadata": {
        "id": "FeXBsIIKCHPl"
      },
      "outputs": [],
      "source": [
        "# numpy.random.permutation does the same thing but returns a copy\n",
        "np.random.permutation(x)"
      ]
    },
    {
      "cell_type": "code",
      "execution_count": null,
      "metadata": {
        "id": "Upe6OYTKCLfZ"
      },
      "outputs": [],
      "source": [
        "# When given an integre n, permutation treats is as the array arange(n)\n",
        "np.random.permutation(10)"
      ]
    },
    {
      "cell_type": "markdown",
      "metadata": {
        "id": "Aj_gbWD21mmB"
      },
      "source": [
        "##**Bootstrap**\n",
        "\n",
        "The bootstrap is commonly used to estimate statistics when theory fails."
      ]
    },
    {
      "cell_type": "code",
      "execution_count": null,
      "metadata": {
        "id": "PwA7uniu11TI"
      },
      "outputs": [],
      "source": [
        "# what is the 95% confidence interval for\n",
        "# the mean of this data set if you didn't know how it was generated?\n",
        "\n",
        "x = np.concatenate([np.random.exponential(size=200), np.random.normal(size=100)])\n",
        "plt.hist(x, 25, histtype='step');\n"
      ]
    },
    {
      "cell_type": "code",
      "execution_count": null,
      "metadata": {
        "id": "NC6yG6zC2jNx"
      },
      "outputs": [],
      "source": [
        "n = len(x)\n",
        "reps = 10000\n",
        "xb = np.random.choice(x, (n, reps))\n",
        "mb = xb.mean(axis=0)\n",
        "mb.sort()\n",
        "\n",
        "np.percentile(mb, [2.5, 97.5])"
      ]
    },
    {
      "cell_type": "code",
      "execution_count": null,
      "metadata": {
        "id": "otqiTi8j2kqR"
      },
      "outputs": [],
      "source": [
        "# let's define data with a function\n",
        "def f(x):\n",
        "    return x * np.cos(71*x) + np.sin(13*x)"
      ]
    },
    {
      "cell_type": "code",
      "execution_count": null,
      "metadata": {
        "id": "QQMoTXoB20Nk"
      },
      "outputs": [],
      "source": [
        "# let's get n data samples\n",
        "n = 100\n",
        "x = f(np.random.random(n))\n",
        "x_norm = np.random.normal(1.5, 0.2, n)"
      ]
    },
    {
      "cell_type": "code",
      "execution_count": null,
      "metadata": {
        "id": "vuL42LyO28c0"
      },
      "outputs": [],
      "source": [
        "# bootstrap\n",
        "reps = 1000\n",
        "xb = np.random.choice(x, (n, reps), replace=True)\n",
        "yb =  np.cumsum(xb, axis=0)\n",
        "yb_x =  np.cumsum(x, axis=0)\n",
        "upper, lower = np.percentile(yb, [2.5, 97.5], axis=1)"
      ]
    },
    {
      "cell_type": "code",
      "execution_count": null,
      "metadata": {
        "id": "nb58HUVe3KDq"
      },
      "outputs": [],
      "source": [
        "plt.plot(np.arange(1, n+1)[:, None], yb, c='grey', alpha=0.02)\n",
        "plt.plot(np.arange(1, n+1), yb_x, c='red', linewidth=1)\n",
        "plt.plot(np.arange(1, n+1), upper, 'b', np.arange(1, n+1), lower, 'b')\n",
        "plt.show()"
      ]
    },
    {
      "cell_type": "markdown",
      "metadata": {
        "id": "zEFCvoht8CnC"
      },
      "source": [
        "##**Permutation resampling**\n",
        "\n",
        "Permuatation resampling is used ot generate the null distribtuion of labeled data by switching lebals."
      ]
    },
    {
      "cell_type": "markdown",
      "metadata": {
        "id": "FiT6usOy8XWs"
      },
      "source": [
        "Suppose you have 2 data sets from unknown distribution and you want to test if some arbitrary statistic (e.g 7th percentile) is the same in the 2 data sets - what can you do?\n",
        "\n",
        "An appropirate test statistic is the difference between the 7th percentile, and if we knew the null distribution of this statisic, we could test for the null hypothesis that the statistic = 0. Permuting the labels of the 2 data sets allows us to create the empirical null distribution."
      ]
    },
    {
      "cell_type": "code",
      "execution_count": null,
      "metadata": {
        "id": "DqT1SHGP3L7X"
      },
      "outputs": [],
      "source": [
        "x = np.concatenate([np.random.exponential(size=200),\n",
        "                    np.random.normal(0, 1, size=100)])\n",
        "y = np.concatenate([np.random.exponential(size=250),\n",
        "                    np.random.normal(0, 1, size=50)])"
      ]
    },
    {
      "cell_type": "code",
      "execution_count": null,
      "metadata": {
        "id": "XuDXbDPw4SGU"
      },
      "outputs": [],
      "source": [
        "# map to minimal len data\n",
        "n1, n2 = map(len, (x, y))"
      ]
    },
    {
      "cell_type": "code",
      "execution_count": null,
      "metadata": {
        "id": "J1_AQBJU8cXc"
      },
      "outputs": [],
      "source": [
        "data = np.concatenate([x, y])\n",
        "reps = 10000\n",
        "ps = np.array([np.random.permutation(n1+n2) for i in range(reps)])\n",
        "ps.shape"
      ]
    },
    {
      "cell_type": "code",
      "execution_count": null,
      "metadata": {
        "id": "c-m_1K8s-Wmo"
      },
      "outputs": [],
      "source": [
        "plt.hist(data, 25, histtype='step')\n",
        "plt.hist(x, 25, histtype='step')\n",
        "plt.hist(y, 25, histtype='step')\n",
        "plt.show()"
      ]
    },
    {
      "cell_type": "code",
      "execution_count": null,
      "metadata": {
        "id": "bCc6ElVL8dFF"
      },
      "outputs": [],
      "source": [
        "xp = data[ps[:, :n1]]\n",
        "yp = data[ps[:, n1:]]\n",
        "samples = np.percentile(xp, 7, axis=1) - np.percentile(yp, 7, axis=1)"
      ]
    },
    {
      "cell_type": "code",
      "execution_count": null,
      "metadata": {
        "id": "5f1PTHT-9DaB"
      },
      "outputs": [],
      "source": [
        "plt.hist(samples, 25, histtype='step')\n",
        "test_stat = np.percentile(x, 7) - np.percentile(y, 7)\n",
        "plt.axvline(test_stat)\n",
        "plt.axvline(np.percentile(samples, 2.5), linestyle='--')\n",
        "plt.axvline(np.percentile(samples, 97.5), linestyle='--')\n",
        "print(\"p-value =\", 2*np.sum(samples >= np.abs(test_stat))/reps)"
      ]
    },
    {
      "cell_type": "code",
      "execution_count": null,
      "metadata": {
        "id": "QAE4Qnq2-LRO"
      },
      "outputs": [],
      "source": []
    },
    {
      "cell_type": "markdown",
      "metadata": {
        "id": "-8Qt3fr1niZN"
      },
      "source": [
        "##**Matplotlib**\n",
        "\n",
        "Matplotlib is a library for producing publication-quality figures and was designed from the beginning to serve two purposes:\n",
        "\n",
        "- allow for interactive, cross-platform control of figures and plots\n",
        "- make it easy to produce static raster or vector graphics files without the need for any GUIs.\n",
        "\n",
        "Furthermore, it gives the developer complete control over the appearance of their plots, while still being very usable through a powerful defaults system.\n",
        "\n",
        "The (https://matplotlib.org) project website is the primary online resource for the library's documentation.\n"
      ]
    },
    {
      "cell_type": "code",
      "execution_count": null,
      "metadata": {
        "id": "HbkV2yD1lDwU"
      },
      "outputs": [],
      "source": [
        "# import libraries\n",
        "import matplotlib.pyplot as plt\n",
        "import numpy as np"
      ]
    },
    {
      "cell_type": "markdown",
      "metadata": {
        "id": "kmqbPQ-lp_MI"
      },
      "source": [
        "Quick note on \"backends\" and Jupyter notebooks\n",
        "Matplotlib has multiple \"backends\" that handle converting Matplotlib's in-memory representation of your plot into the colorful output you can look at. This is done either by writing files (e.g., png, svg, pdf) that you can use an external tool to look at or by embedding into your GUI toolkit of choice"
      ]
    },
    {
      "cell_type": "code",
      "execution_count": null,
      "metadata": {
        "id": "Gr74jrGpp-jz"
      },
      "outputs": [],
      "source": [
        "# check what backend Matplotlib is using\n",
        "\n",
        "import matplotlib\n",
        "print(matplotlib.__version__)\n",
        "print(matplotlib.get_backend())"
      ]
    },
    {
      "cell_type": "markdown",
      "metadata": {
        "id": "S_1c_gt3qfRA"
      },
      "source": [
        "One of the great features of the Jupyter Notebook is the ability to have your code, outputs, and graphics in a single document. But plots do not render in the notebook by default. To turn on inline plot rendering, we have to use a so-called **Magic Command**, which is a special Jupyter command preceded by a %.\n",
        "\n",
        "Two commonly used Matplotlib magic commands are:\n",
        "\n",
        "\n",
        "1.   %matplotlib notebook - creates interactive plots. This is what we're going to use today. Interactive features depend on the kernel running in the background, which means they disappear without the kernel. This feature is somewhat new, so still has occasional bugs.\n",
        "NB! - does not work in Colab\n",
        "\n",
        "2.   %matplotlib inline - creates static (non-interactive) plots. This still remains the most common way to generate plots.\n"
      ]
    },
    {
      "cell_type": "code",
      "execution_count": null,
      "metadata": {
        "id": "qGoyWrURs_og"
      },
      "outputs": [],
      "source": [
        "%matplotlib inline"
      ]
    },
    {
      "cell_type": "markdown",
      "metadata": {
        "id": "YjnztCUarE2O"
      },
      "source": [
        "### **Anatomy of a \"Plot\"**\n",
        "\n",
        "The Figure is the top-level container in this hierarchy. It is the overall window/page that everything is drawn on. You can have multiple independent figures and Figures can contain multiple Axes.\n",
        "\n",
        "Most plotting ocurs on an Axes. The axes is effectively the area that we plot data on and any ticks/labels/etc associated with it. Usually we'll set up an Axes with a call to subplot (which places Axes on a regular grid), so in most cases, Axes and Subplot are synonymous.\n",
        "\n",
        "![image.png](data:image/png;base64,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)\n"
      ]
    },
    {
      "cell_type": "markdown",
      "metadata": {
        "id": "8b7yKi37ry7r"
      },
      "source": [
        "**Figures**\n",
        "\n",
        "let's create a figure of manually defined size\n",
        "\n",
        "Add an argument figsize to your `plt.figure()` function of the pyplot module; You just have to specify a tuple with the width and hight of your figure in inches, just like this `plt.figure(figsize=(5,5))`, for it to work"
      ]
    },
    {
      "cell_type": "code",
      "execution_count": null,
      "metadata": {
        "id": "T7BY8VQTsFVO"
      },
      "outputs": [],
      "source": [
        "# red background to see where the figure is\n",
        "fig = plt.figure(figsize=(10,10),facecolor=(1, 0, 0, .1))"
      ]
    },
    {
      "cell_type": "code",
      "execution_count": null,
      "metadata": {
        "id": "taEkY_eBtovF"
      },
      "outputs": [],
      "source": [
        "# add an Axes to it\n",
        "fig = plt.figure(figsize=(5,5),facecolor=(1, 0, 0, .1))\n",
        "ax = fig.add_subplot(111)\n",
        "ax.set(xlim=[0.5, 4.5], ylim=[-2, 8], title='An Example Axes',\n",
        "       ylabel='Y-Axis', xlabel='X-Axis')\n",
        "plt.show()"
      ]
    },
    {
      "cell_type": "markdown",
      "metadata": {
        "id": "6eKqKU-Zvuii"
      },
      "source": [
        " ### **Simple plot**\n"
      ]
    },
    {
      "cell_type": "code",
      "execution_count": null,
      "metadata": {
        "id": "k86FV-xDtv9c"
      },
      "outputs": [],
      "source": [
        "fig, ax = plt.subplots()\n",
        "ax.plot([1, 2, 3, 4], [5, 4, 3, 1])\n",
        "plt.show()"
      ]
    },
    {
      "cell_type": "markdown",
      "metadata": {
        "id": "meziSW3Bzdvj"
      },
      "source": [
        "Many other plotting libraries or languages do not require you to explicitly create an axes.\n",
        "\n",
        "In fact, you can do the same in Matplotlib: for each Axes graphing method, there is a corresponding function in the matplotlib.pyplot module that performs that plot on the \"current\" axes, creating that axes (and its parent figure) if they don't exist yet."
      ]
    },
    {
      "cell_type": "code",
      "execution_count": null,
      "metadata": {
        "id": "lr6h_IRfzKFo"
      },
      "outputs": [],
      "source": [
        "plt.plot([1, 2, 3, 4], [5, 4, 3, 1])"
      ]
    },
    {
      "cell_type": "markdown",
      "metadata": {
        "id": "L26tXgLf0Tmv"
      },
      "source": [
        "There are essentially two ways to use Matplotlib:\n",
        "\n",
        "1.   Explicitly create figures and axes, and call methods on them (the \"object-oriented (OO) style\").\n",
        "2.   Rely on pyplot to automatically create and manage the figures and axes, and use pyplot functions for plotting.\n"
      ]
    },
    {
      "cell_type": "code",
      "execution_count": null,
      "metadata": {
        "id": "O08CMHlpzuXl"
      },
      "outputs": [],
      "source": [
        "# OO-style\n",
        "fig = plt.figure()\n",
        "ax = fig.add_subplot(111)\n",
        "ax.plot([1, 2, 3, 4], [10, 20, 25, 30], color='lightblue', linewidth=3)\n",
        "ax.scatter([1.3, 3.8, 1.2, 2.5], [11, 25, 9, 26], c=[1, 2, 3, 5], marker='^')\n",
        "ax.set_xlim(0.5, 4.5)\n",
        "plt.show()"
      ]
    },
    {
      "cell_type": "code",
      "execution_count": null,
      "metadata": {
        "id": "m-8Z0xxL0p2U"
      },
      "outputs": [],
      "source": [
        "# pyplot-style\n",
        "\n",
        "plt.plot([1, 2, 3, 4], [10, 20, 25, 30], color='lightblue', linewidth=3)\n",
        "plt.scatter([1.3, 3.8, 1.2, 2.5], [11, 25, 9, 26], c=[1, 2, 3, 5], marker='^')\n",
        "plt.xlim(0.5, 4.5)\n",
        "plt.show()"
      ]
    },
    {
      "cell_type": "markdown",
      "metadata": {
        "id": "AuloMe4E1Wcv"
      },
      "source": [
        "\"Explicit is better than implicit\"\n",
        "\n",
        "While very simple plots, with short scripts would benefit from the conciseness of the pyplot implicit approach, when doing more complicated plots, or working within larger scripts, you will want to explicitly pass around the Axes and/or Figure object to operate upon."
      ]
    },
    {
      "cell_type": "markdown",
      "metadata": {
        "id": "O_N6Nsqf1cVD"
      },
      "source": [
        "###**Multiple Axes**\n",
        "\n",
        "A given figure can have more than one axis. The subplot command generates a single axis by default. But number of axis can be specified"
      ]
    },
    {
      "cell_type": "code",
      "execution_count": null,
      "metadata": {
        "id": "Ms5yu_uV1ABK"
      },
      "outputs": [],
      "source": [
        "#make a time array\n",
        "t = np.arange(0, 10, 0.1)"
      ]
    },
    {
      "cell_type": "code",
      "execution_count": null,
      "metadata": {
        "id": "cc9Y06tN2BcG"
      },
      "outputs": [],
      "source": [
        "# Create figure and axes objects. Make them share the x-axis\n",
        "fig, axes = plt.subplots(nrows=2, ncols=1, sharex=True)\n",
        "\n",
        "axes[0].plot(t, np.sin(t), label='sin')\n",
        "axes[1].plot(t, np.cos(t), label='cos', color='red')\n",
        "\n",
        "# loop over the `axes` array to set properties in every subplot\n",
        "for ax in axes:\n",
        "    ax.legend(loc='best')\n",
        "    ax.set_ylabel('Amplitude', fontsize=14)\n",
        "\n",
        "# access individual axes to set the properties\n",
        "axes[-1].set_xlabel('Time', fontsize=14, weight='bold', style='italic')\n",
        "\n",
        "# edit attributes of the entire figure, such as the title\n",
        "fig.suptitle('This is the figure title', fontsize=18)"
      ]
    },
    {
      "cell_type": "markdown",
      "metadata": {
        "id": "gmlo5jlk-5ri"
      },
      "source": [
        "The difference between `fig.add_axes()` and `fig.add_subplot()` doesn’t lie in the result: they both return an Axes object. However, they do differ in the mechanism that is used to add the axes: you pass a list to `add_axes()` which is the lower left point, the width and the height. This means that the axes object is positioned in absolute coordinates.\n",
        "\n",
        "In contrast, the `add_subplot()` function doesn’t provide the option to put the axes at a certain position: it does, however, allow the axes to be situated according to a subplot grid, as you have seen in the section above.\n",
        "\n",
        "In most cases, you’ll use `add_subplot() `to create axes; Only in cases where the positioning matters, you’ll resort to `add_axes()`. Alternatively, you can also use `subplots()` if you want to get one or more subplots at the same time."
      ]
    },
    {
      "cell_type": "code",
      "execution_count": null,
      "metadata": {
        "id": "z_Bw0o-v2SvZ"
      },
      "outputs": [],
      "source": [
        "# Create a figure object and put two axes on it, ax1 and ax2.\n",
        "fig = plt.figure()\n",
        "\n",
        "ax1 = fig.add_axes([0,0,1,1])\n",
        "ax2 = fig.add_axes([0.4,0.4,0.2,0.2])"
      ]
    },
    {
      "cell_type": "code",
      "execution_count": null,
      "metadata": {
        "id": "tADHqg7cDtyc"
      },
      "outputs": [],
      "source": [
        "# plot (x,y) on both axes\n",
        "fig = plt.figure()\n",
        "\n",
        "ax1 = fig.add_axes([0,0,1,1])\n",
        "ax2 = fig.add_axes([0.4,0.4,0.2,0.2])\n",
        "ax1.plot(t, np.sin(t),)\n",
        "ax1.set_xlabel('x')\n",
        "ax1.set_ylabel('y')\n",
        "\n",
        "ax2.plot(t, np.cos(t),)\n",
        "ax2.set_xlabel('x')\n",
        "ax.set_ylabel('y')\n",
        "plt.show()"
      ]
    },
    {
      "cell_type": "markdown",
      "metadata": {
        "id": "4kg7ESOnGOyw"
      },
      "source": [
        "**Twin axes**\n",
        "\n",
        "To show two different x or y axes use `twin()`"
      ]
    },
    {
      "cell_type": "code",
      "execution_count": null,
      "metadata": {
        "id": "LeFC9bEVD-Lo"
      },
      "outputs": [],
      "source": [
        "fig = plt.figure()\n",
        "ax1 = fig.add_subplot(1, 1, 1)\n",
        "ax2 = ax1.twinx()\n",
        "t = np.linspace(0., 10., 100)\n",
        "ax1.plot(t, t ** 2, 'b-')\n",
        "ax2.plot(t, 1000 / (t + 1), 'r-')\n",
        "ax1.set_xlabel('Time (s)')\n",
        "ax1.set_ylabel('Density (cgs)', color='red')\n",
        "ax2.set_ylabel('Temperature (K)', color='blue')\n"
      ]
    },
    {
      "cell_type": "markdown",
      "metadata": {
        "id": "2zEm18PwHxoG"
      },
      "source": [
        "**rc parameters**\n",
        "\n",
        "matplotlib allows users to specify default properties via rc parameters."
      ]
    },
    {
      "cell_type": "code",
      "execution_count": null,
      "metadata": {
        "id": "IogjNsh6GkdM"
      },
      "outputs": [],
      "source": [
        "plt.rc('xtick', color='r', labelsize='medium', direction='out')\n",
        "plt.rc('xtick.major', size=4, pad=4)\n",
        "plt.rc('xtick.minor', size=2, pad=4)"
      ]
    },
    {
      "cell_type": "markdown",
      "metadata": {
        "id": "b8Ba_JfrHYnj"
      },
      "source": [
        "If you need to reset the parameters to their default values, use: `plt.rcdefaults()`"
      ]
    },
    {
      "cell_type": "code",
      "execution_count": null,
      "metadata": {
        "id": "-eFTB16nHdB9"
      },
      "outputs": [],
      "source": [
        "plt.rcdefaults()"
      ]
    },
    {
      "cell_type": "markdown",
      "metadata": {
        "id": "d14udOtmUc99"
      },
      "source": [
        "###**Artists, Patches, and Lines**\n",
        "\n",
        "Virtually all objects in Matplotlib are artists, which are objects that have visual attributes that can be set. There are two important kinds of artists: lines, and patches.\n",
        "\n",
        "It is actually very easy to add your own custom lines or patches (e.g. a circle, a square, etc.) to a plot. In the case of a patch, import the patch class you need:\n",
        "\n",
        "`from matplotlib.patches import Circle`"
      ]
    },
    {
      "cell_type": "code",
      "execution_count": null,
      "metadata": {
        "id": "O9sMFWrCUuMz"
      },
      "outputs": [],
      "source": [
        "from matplotlib.patches import Circle\n",
        "\n",
        "c = Circle((0.5, 0.5), radius=0.2,\n",
        "            edgecolor='red', facecolor='blue', alpha=0.3)"
      ]
    },
    {
      "cell_type": "code",
      "execution_count": null,
      "metadata": {
        "id": "4RP23fZQUt8n"
      },
      "outputs": [],
      "source": [
        "fig,ax = plt.subplots()\n",
        "ax.add_patch(c)"
      ]
    },
    {
      "cell_type": "markdown",
      "metadata": {
        "id": "vVN5uPugPB7C"
      },
      "source": [
        "###**Overview of Plotting Functions**"
      ]
    },
    {
      "cell_type": "code",
      "execution_count": null,
      "metadata": {
        "id": "Dmtck-tcIMdy"
      },
      "outputs": [],
      "source": [
        "# plot lines, colors will be determined by the axes' color_cycle\n",
        "\n",
        "fig, axes = plt.subplots()\n",
        "for i in range(1, 6):\n",
        "    axes.plot(t, i * t)"
      ]
    },
    {
      "cell_type": "code",
      "execution_count": null,
      "metadata": {
        "id": "DnlBk2rmQu5S"
      },
      "outputs": [],
      "source": [
        "# plot lines with different linestyles\n",
        "fig, axes = plt.subplots()\n",
        "for i, ls in enumerate(['-', '--', ':', '-.']):\n",
        "    axes.plot(t, np.cos(t) + i, linestyle=ls)\n"
      ]
    },
    {
      "cell_type": "code",
      "execution_count": null,
      "metadata": {
        "id": "F1WiiD4tSWTB"
      },
      "outputs": [],
      "source": [
        "# Using linestyles and markers, with zip()\n",
        "fig, axes = plt.subplots()\n",
        "for i, (ls, mk) in enumerate(zip(['', '-', ':'], ['o', '^', 's'])):\n",
        "    axes.plot(t, np.cos(t) + i*t, linestyle=ls, marker=mk, markevery=10)"
      ]
    },
    {
      "cell_type": "code",
      "execution_count": null,
      "metadata": {
        "id": "fmS0NcMQSr2H"
      },
      "outputs": [],
      "source": [
        "# scatter plot\n",
        "np.random.seed(1874)\n",
        "x, y, z = np.random.normal(0, 1, (3, 100))\n",
        "t = np.arctan2(y, x)\n",
        "size = 50 * np.cos(2 * t)**2 + 10\n",
        "\n",
        "fig, axes = plt.subplots(1,3)\n",
        "axes[0].scatter(x, y, marker='o', facecolor='gray', s=80)\n",
        "\n",
        "axes[1].scatter(x, y, s=size, marker='s', color='darkblue')\n",
        "\n",
        "axes[2].scatter(x, y, c=z, s=size, cmap='gist_ncar')\n"
      ]
    },
    {
      "cell_type": "code",
      "execution_count": null,
      "metadata": {
        "id": "3UKPaFEcTHN0"
      },
      "outputs": [],
      "source": [
        "# basic bar graph\n",
        "\n",
        "y = [1, 3, 4, 5.5, 3, 2]\n",
        "err = [0.2, 1, 2.5, 1, 1, 0.5]\n",
        "x = np.arange(len(y))\n",
        "plt.bar(x, y, yerr=err, color='lightblue', ecolor='black')\n",
        "plt.margins(0.05)\n",
        "plt.show()"
      ]
    },
    {
      "cell_type": "code",
      "execution_count": null,
      "metadata": {
        "id": "nBaapGxdUQ5g"
      },
      "outputs": [],
      "source": [
        "# horizontal bar plot\n",
        "y = np.arange(8)\n",
        "x1 = y + np.random.random(8) + 1\n",
        "x2 = y + 3 * np.random.random(8) + 1\n",
        "plt.barh(y, x1, color='lightblue')\n",
        "plt.barh(y, -x2, color='salmon')\n",
        "plt.margins(0.15)"
      ]
    },
    {
      "cell_type": "code",
      "execution_count": null,
      "metadata": {
        "id": "ODxtrgG_UrRD"
      },
      "outputs": [],
      "source": [
        "# plot rectangles\n",
        "\n",
        "num = 10\n",
        "left = np.random.randint(0, 10, num)\n",
        "bottom = np.random.randint(0, 10, num)\n",
        "width = np.random.random(num) + 0.5\n",
        "height = np.random.random(num) + 0.5\n",
        "plt.bar(left, height, width, bottom, color='salmon')\n",
        "plt.margins(0.15)"
      ]
    },
    {
      "cell_type": "code",
      "execution_count": null,
      "metadata": {
        "id": "JV1x_1YwVLfa"
      },
      "outputs": [],
      "source": [
        "# Use fill when you want a simple filled polygon between vertices\n",
        "def fill_data():\n",
        "    t = np.linspace(0, 2*np.pi, 100)\n",
        "    r = np.random.normal(0, 1, 100).cumsum()\n",
        "    r -= r.min()\n",
        "    return r * np.cos(t), r * np.sin(t)\n",
        "x, y = fill_data()\n",
        "plt.fill(x, y, color='lightblue')"
      ]
    },
    {
      "cell_type": "code",
      "execution_count": null,
      "metadata": {
        "id": "HYzyNKqTVmmF"
      },
      "outputs": [],
      "source": [
        "# The most basic (and common) use of fill_between\n",
        "x = np.linspace(0, 10, 100)\n",
        "\n",
        "err = np.random.rand(x.size)**2 + 0.1\n",
        "y = 0.7 * x + 2\n",
        "plt.fill_between(x, y + err, y - err, color='orange')\n"
      ]
    },
    {
      "cell_type": "code",
      "execution_count": null,
      "metadata": {
        "id": "ivfyx8RhWH1_"
      },
      "outputs": [],
      "source": [
        "# Contour Plots\n",
        "def f(x,y): return (1-x/2+x**5+y**3)*np.exp(-x**2-y**2)\n",
        "\n",
        "n = 256\n",
        "x = np.linspace(-3,3,n)\n",
        "y = np.linspace(-3,3,n)\n",
        "X,Y = np.meshgrid(x,y)\n",
        "\n",
        "plt.contourf(X, Y, f(X,Y), 8, alpha=.75, cmap='jet')\n",
        "C = plt.contour(X, Y, f(X,Y), 8, colors='black', linewidth=.5)\n",
        "plt.show()"
      ]
    },
    {
      "cell_type": "code",
      "execution_count": null,
      "metadata": {
        "id": "95PMnRVOXsO3"
      },
      "outputs": [],
      "source": [
        "# imshow\n",
        "plt.imshow(f(X,Y))\n",
        "plt.show()"
      ]
    },
    {
      "cell_type": "code",
      "execution_count": null,
      "metadata": {
        "id": "MubVm_r5X2Hu"
      },
      "outputs": [],
      "source": [
        "# Pie Charts\n",
        "n = 20\n",
        "Z = np.random.uniform(0,1,n)\n",
        "plt.pie(Z)\n",
        "plt.show()"
      ]
    },
    {
      "cell_type": "code",
      "execution_count": null,
      "metadata": {
        "id": "Tizcrx4DZchb"
      },
      "outputs": [],
      "source": [
        "# Quiver Plots\n",
        "\n",
        "n = 8\n",
        "X,Y = np.mgrid[0:n,0:n]\n",
        "plt.quiver(X,Y)\n",
        "plt.show()"
      ]
    },
    {
      "cell_type": "code",
      "execution_count": null,
      "metadata": {
        "id": "KVZ2-WZVZmOR"
      },
      "outputs": [],
      "source": [
        "# 3d\n",
        "from mpl_toolkits.mplot3d import Axes3D\n",
        "\n",
        "fig = plt.figure()\n",
        "ax = Axes3D(fig)\n",
        "X = np.arange(-4, 4, 0.25)\n",
        "Y = np.arange(-4, 4, 0.25)\n",
        "X, Y = np.meshgrid(X, Y)\n",
        "R = np.sqrt(X**2 + Y**2)\n",
        "Z = np.sin(R)\n",
        "\n",
        "ax.plot_surface(X, Y, Z, rstride=1, cstride=1, cmap='hot')\n",
        "\n",
        "plt.show()"
      ]
    },
    {
      "cell_type": "markdown",
      "metadata": {
        "id": "XekITsxXbXpn"
      },
      "source": [
        "**statistical plots**\n",
        "you may find that a specalized statistical plotting\n",
        "package such as `Seaborn` (which uses matplotlib behind-the-scenes) is a better\n",
        "fit to your needs"
      ]
    },
    {
      "cell_type": "code",
      "execution_count": null,
      "metadata": {
        "id": "5D0kMpJ2aT1_"
      },
      "outputs": [],
      "source": [
        "# generate data\n",
        "means = [0, -1, 2.5, 4.3, -3.6]\n",
        "sigmas = [1.2, 5, 3, 1.5, 2]\n",
        "nums = [150, 1000, 100, 200, 500]\n",
        "dists = [np.random.normal(*args) for args in zip(means, sigmas, nums)]"
      ]
    },
    {
      "cell_type": "code",
      "execution_count": null,
      "metadata": {
        "id": "EVs9EX_Zb09u"
      },
      "outputs": [],
      "source": [
        "# histogram\n",
        "fig, ax = plt.subplots()\n",
        "\n",
        "for dist in dists:\n",
        "  h=ax.hist(dist, bins=20, density=True, edgecolor='none', alpha=0.5)\n",
        "  h=ax.margins(y=0.05)\n",
        "  h=ax.set_ylim(bottom=0)\n",
        "plt.show()"
      ]
    },
    {
      "cell_type": "code",
      "execution_count": null,
      "metadata": {
        "id": "OZVljgX4b8hT"
      },
      "outputs": [],
      "source": [
        "# boxplot\n",
        "fig, ax = plt.subplots()\n",
        "result = ax.boxplot(dists, patch_artist=True, notch=True, vert=False)\n",
        "\n",
        "for box, color in zip(result['boxes'], colors):\n",
        "  h=box.set(facecolor=color, alpha=0.5)\n",
        "for item in ['whiskers', 'caps', 'medians']:\n",
        "  h=plt.setp(result[item], color='gray', linewidth=1.5)\n",
        "  h=plt.setp(result['fliers'], markeredgecolor='gray', markeredgewidth=1.5)\n",
        "  h=plt.setp(result['medians'], color='black')\n",
        "  h=ax.margins(0.05)\n",
        "\n",
        "plt.show()"
      ]
    },
    {
      "cell_type": "code",
      "execution_count": null,
      "metadata": {
        "id": "gT1Mwxqgc7yD"
      },
      "outputs": [],
      "source": [
        "# violinplot\n",
        "fig, ax = plt.subplots()\n",
        "result = ax.violinplot(dists, vert=False, showmedians=True)\n",
        "for body, color in zip(result['bodies'], colors):\n",
        "  body.set(facecolor=color, alpha=0.5)\n",
        "for item in ['cbars', 'cmaxes', 'cmins', 'cmedians']:\n",
        "  plt.setp(result[item], edgecolor='gray', linewidth=1.5)\n",
        "  plt.setp(result['cmedians'], edgecolor='black')\n",
        "\n",
        "plt.show()"
      ]
    },
    {
      "cell_type": "code",
      "execution_count": null,
      "metadata": {
        "id": "1laHjBvMdf_d"
      },
      "outputs": [],
      "source": []
    },
    {
      "cell_type": "markdown",
      "metadata": {
        "id": "Qdlrr12T6DZy"
      },
      "source": [
        "###**Importing image data into Numpy arrays**\n",
        "Loading image data is supported by the Pillow library. Natively, Matplotlib only supports PNG images.\n",
        "\n",
        "download and add to the folder https://drive.google.com/file/d/1uMWMA6m4Kj9QuXpq5aGgL6PCzgueQL9o/view?usp=sharing\n",
        "\n"
      ]
    },
    {
      "cell_type": "code",
      "execution_count": null,
      "metadata": {
        "id": "WpbCYgUh6lAg"
      },
      "outputs": [],
      "source": [
        "import matplotlib.pyplot as plt\n",
        "import matplotlib.image as mpimg\n",
        "import numpy as np"
      ]
    },
    {
      "cell_type": "code",
      "execution_count": null,
      "metadata": {
        "id": "vRDIT0Zd8vD2"
      },
      "outputs": [],
      "source": [
        "img = mpimg.imread('image_001.png')\n",
        "print(img)"
      ]
    },
    {
      "cell_type": "code",
      "execution_count": null,
      "metadata": {
        "id": "zwRGo9C-87Lz"
      },
      "outputs": [],
      "source": [
        "print(img.shape)\n",
        "plt.imshow(img)\n"
      ]
    },
    {
      "cell_type": "code",
      "execution_count": null,
      "metadata": {
        "id": "uKxbgMWi9DNJ"
      },
      "outputs": [],
      "source": [
        "#Applying pseudocolor schemes to image plots\n",
        "lum_img = img[:, :, 1]\n",
        "print(lum_img.shape)\n",
        "plt.imshow(lum_img)"
      ]
    },
    {
      "cell_type": "markdown",
      "metadata": {
        "id": "v2gCe4qA_jJ7"
      },
      "source": [
        "Matplotlib has a number of built-in colormaps accessible via matplotlib.cm.get_cmap. Colormaps are often split into several categories based on their function\n",
        "\n",
        "1.   Sequential\n",
        "2.   Diverging\n",
        "3.   Cyclic\n",
        "4.   Qualitative\n",
        "\n",
        "\n",
        "\n",
        "\n",
        "\n",
        "\n"
      ]
    },
    {
      "cell_type": "code",
      "execution_count": null,
      "metadata": {
        "id": "mjtyUyoR9nqj"
      },
      "outputs": [],
      "source": [
        "# apply non default LUT\n",
        "plt.imshow(lum_img, cmap=\"inferno\")"
      ]
    },
    {
      "cell_type": "code",
      "execution_count": null,
      "metadata": {
        "id": "6ovYJs0Z9vJN"
      },
      "outputs": [],
      "source": [
        "# use set_cmap()\n",
        "imgplot = plt.imshow(lum_img)\n",
        "imgplot.set_cmap('coolwarm')"
      ]
    },
    {
      "cell_type": "code",
      "execution_count": null,
      "metadata": {
        "id": "hgsC3wF7Abdd"
      },
      "outputs": [],
      "source": [
        "# add colorbar\n",
        "imgplot = plt.imshow(lum_img, cmap = 'gray')\n",
        "plt.colorbar()"
      ]
    },
    {
      "cell_type": "code",
      "execution_count": null,
      "metadata": {
        "id": "pQxhiQ-YAbaK"
      },
      "outputs": [],
      "source": [
        "# gray image histogram\n",
        "h=plt.hist(lum_img.ravel(), bins=256, range=(0.0, 1.0), fc='k', ec='k')"
      ]
    },
    {
      "cell_type": "code",
      "execution_count": null,
      "metadata": {
        "id": "N-3_JUbJVUL8"
      },
      "outputs": [],
      "source": [
        "# color image histogram\n",
        "color = ('b','g','r')\n",
        "for i,col in enumerate(color):\n",
        "    plt.hist(img[:,:,i].ravel(),256,histtype='step', color=col,density=True)\n",
        "\n",
        "plt.show()\n"
      ]
    },
    {
      "cell_type": "code",
      "execution_count": null,
      "metadata": {
        "id": "wQtj9BtiBWG1"
      },
      "outputs": [],
      "source": [
        "# contrast by clipping the regions of histogram, set_clim()\n",
        "\n",
        "h = plt.imshow(lum_img, clim=(0.05, 0.3))"
      ]
    },
    {
      "cell_type": "code",
      "execution_count": null,
      "metadata": {
        "id": "YADBAmDtCNhq"
      },
      "outputs": [],
      "source": [
        "fig = plt.figure()\n",
        "a = fig.add_subplot(1, 2, 1)\n",
        "imgplot = plt.imshow(lum_img)\n",
        "a.set_title('Before')\n",
        "plt.colorbar(ticks=[0.1, 0.3, 0.5, 0.7], orientation='horizontal')\n",
        "a = fig.add_subplot(1, 2, 2)\n",
        "imgplot = plt.imshow(lum_img)\n",
        "imgplot.set_clim(0.0, 0.3)\n",
        "a.set_title('After')\n",
        "plt.colorbar(ticks=[0.1, 0.3, 0.5, 0.7], orientation='horizontal')\n"
      ]
    },
    {
      "cell_type": "code",
      "execution_count": null,
      "metadata": {
        "id": "2tzq5y1AFbMX"
      },
      "outputs": [],
      "source": [
        "# clipping image\n",
        "import matplotlib.patches as patches\n",
        "\n",
        "fig, ax = plt.subplots()\n",
        "im = ax.imshow(lum_img)\n",
        "patch = patches.Rectangle((150, 370), 250, 250, transform=ax.transData)\n",
        "im.set_clip_path(patch)\n",
        "\n",
        "ax.axis('off')\n",
        "plt.show()"
      ]
    },
    {
      "cell_type": "code",
      "execution_count": null,
      "metadata": {
        "id": "usAVqI4Iffpl"
      },
      "outputs": [],
      "source": [
        "# up <-> down flip\n",
        "flip_ud_image = np.flipud(lum_img)\n",
        "plt.imshow(flip_ud_image)"
      ]
    },
    {
      "cell_type": "code",
      "execution_count": null,
      "metadata": {
        "id": "j77IEW0bf16i"
      },
      "outputs": [],
      "source": [
        "# transpose\n",
        "plt.imshow(lum_img.T)"
      ]
    },
    {
      "cell_type": "code",
      "execution_count": null,
      "metadata": {
        "id": "sRIvjdk8gwP7"
      },
      "outputs": [],
      "source": [
        "# mirror the image in x direction\n",
        "plt.imshow(lum_img[:,::-1]);"
      ]
    },
    {
      "cell_type": "code",
      "execution_count": null,
      "metadata": {
        "id": "_EEqPBt1hLT_"
      },
      "outputs": [],
      "source": [
        "# set the pixels on the first 100 rows white\n",
        "lum_img2 = lum_img.copy()\n",
        "lum_img2[0:100, :] = 1.0\n",
        "plt.imshow(lum_img2,cmap='gray');"
      ]
    },
    {
      "cell_type": "code",
      "execution_count": null,
      "metadata": {
        "id": "41_3HR7shuy-"
      },
      "outputs": [],
      "source": [
        "# create a function that returns a copy of the image\n",
        "# so that it fades to black as we bottom to top\n",
        "def fadex(image):\n",
        "    height, width = image.shape\n",
        "    m=np.linspace(0,10,height).reshape(height,1)\n",
        "    result = image*m\n",
        "    return result"
      ]
    },
    {
      "cell_type": "code",
      "execution_count": null,
      "metadata": {
        "id": "VqRqzNHbhxeG"
      },
      "outputs": [],
      "source": [
        "modified=fadex(lum_img)\n",
        "print(modified.shape)\n",
        "plt.imshow(modified);"
      ]
    },
    {
      "cell_type": "code",
      "execution_count": null,
      "metadata": {
        "id": "sHP6BPHzT8Dk"
      },
      "outputs": [],
      "source": [
        "# Find image contour of the grayscale image\n",
        "plt.contour(lum_img,origin = \"image\")\n",
        "plt.axis('equal')"
      ]
    },
    {
      "cell_type": "code",
      "execution_count": null,
      "metadata": {
        "id": "1J5F-IkzZFWv"
      },
      "outputs": [],
      "source": [
        "#Grayscale Transformation\n",
        "img2 = 1-lum_img\n",
        "plt.imshow(img2, cmap='gray')"
      ]
    },
    {
      "cell_type": "code",
      "execution_count": null,
      "metadata": {
        "id": "hy9E6hUpZkLl"
      },
      "outputs": [],
      "source": [
        "#adding a constant\n",
        "img3 = img2 * (100/255) + 100\n",
        "plt.imshow(img3, cmap='gray')"
      ]
    },
    {
      "cell_type": "code",
      "execution_count": null,
      "metadata": {
        "id": "08hI_F5maGTF"
      },
      "outputs": [],
      "source": [
        "img4 = 255*(lum_img/255.0)**0.5\n",
        "plt.imshow(img4, cmap='gray')"
      ]
    },
    {
      "cell_type": "markdown",
      "metadata": {
        "id": "FV5DyX8masIJ"
      },
      "source": [
        "###**Histogram Equalization**\n",
        "Let's try histogram equalization on a dark image. The transform flattens the gray-level histogram so that all intensities are as equally common as possible. The transform function is a cumulative distribution function (cdf) of the pixel values in the image (normalized to map the range of pixel values to the desired range)."
      ]
    },
    {
      "cell_type": "code",
      "execution_count": null,
      "metadata": {
        "id": "uSjQrpE7aktg"
      },
      "outputs": [],
      "source": [
        "# function of histogram equalization\n",
        "def histeq(im, nbr_bins = 256):\n",
        "  \"\"\" Histogram equalization of a grayscale image.  \"\"\"\n",
        "  # get the image histogram\n",
        "  imhist, bins = np.histogram(im.flatten(), nbr_bins, [0, 256])\n",
        "  cdf = imhist.cumsum() # cumulative distribution function\n",
        "  cdf = imhist.max()*cdf/cdf.max()  #normalize\n",
        "  cdf_mask = np.ma.masked_equal(cdf, 0)\n",
        "  cdf_mask = (cdf_mask - cdf_mask.min())*255/(cdf_mask.max()-cdf_mask.min())\n",
        "  cdf = np.ma.filled(cdf_mask,0).astype('uint8')\n",
        "  return cdf[im.astype('uint8')]\n",
        "\n",
        "# apply the function on your dark image to increase the contrast\n",
        "# we could observe that the contrast of the black background has increased\n",
        "img5 = histeq(img4)\n",
        "plt.imshow(img5, cmap='gray')"
      ]
    },
    {
      "cell_type": "code",
      "execution_count": null,
      "metadata": {
        "id": "vJJ1w326bzqa"
      },
      "outputs": [],
      "source": [
        "plt.hist(img4.ravel(),bins = 256, range = [0, 256])\n",
        "plt.hist(img5.ravel(),bins = 256, range = [0, 256])\n",
        "plt.show()"
      ]
    },
    {
      "cell_type": "code",
      "execution_count": null,
      "metadata": {
        "id": "X8RRbPs-cQzK"
      },
      "outputs": [],
      "source": [
        "# Transform the image to frequency domain\n",
        "fimg = np.fft.fft2(lum_img)\n",
        "# Bring the zero-frequency component to the center\n",
        "fshift = np.fft.fftshift(fimg)\n",
        "magnitude_spectrum = 30*np.log(np.abs(fshift))\n",
        "\n",
        "plt.subplot(121),plt.imshow(lum_img, cmap = 'gray')\n",
        "plt.title('Input Image'), plt.xticks([]), plt.yticks([])\n",
        "plt.subplot(122),plt.imshow(magnitude_spectrum, cmap = 'gray')\n",
        "plt.title('Magnitude Spectrum'), plt.xticks([]), plt.yticks([])\n",
        "plt.show()"
      ]
    },
    {
      "cell_type": "code",
      "execution_count": null,
      "metadata": {
        "id": "EVdkm8McdRM4"
      },
      "outputs": [],
      "source": [
        "# Finding Edges by Highpass Filtering in FFT\n",
        "rows, cols = lum_img.shape\n",
        "crow,ccol = round(rows/2) , round(cols/2)\n",
        "# remove low frequencies with a rectangle size of 10\n",
        "fshift[crow-10:crow+10, ccol-10:ccol+10] = 0\n",
        "f_ishift = np.fft.ifftshift(fshift)\n",
        "img_back = np.fft.ifft2(f_ishift)\n",
        "img_back = np.abs(img_back)\n",
        "\n",
        "plt.figure(figsize=([20, 20]))\n",
        "plt.subplot(131),plt.imshow(lum_img, cmap = 'gray')\n",
        "plt.title('Input Image'), plt.xticks([]), plt.yticks([])\n",
        "plt.subplot(132),plt.imshow(img_back**0.5, cmap = 'gray')\n",
        "plt.title('Image after HPF'), plt.xticks([]), plt.yticks([])\n",
        "plt.subplot(133),plt.imshow(img_back**0.5)\n",
        "plt.title('Result in JET'), plt.xticks([]), plt.yticks([])\n",
        "plt.show()"
      ]
    },
    {
      "cell_type": "markdown",
      "metadata": {
        "id": "61kahOWOzeMV"
      },
      "source": [
        "###**Saving Figures to File**\n",
        "The list of supported file types can be found for your system by using the following method of the figure canvas object `fig.canvas.get_supported_filetypes()`"
      ]
    },
    {
      "cell_type": "markdown",
      "metadata": {
        "id": "AnEphnqCvfHt"
      },
      "source": [
        "Save A Plot To An Image File"
      ]
    },
    {
      "cell_type": "code",
      "execution_count": null,
      "metadata": {
        "id": "MzBo9p7Gthek"
      },
      "outputs": [],
      "source": [
        "# Save Figure\n",
        "plt.savefig(\"image01.png\")\n",
        "\n",
        "# Save Transparent Figure\n",
        "plt.savefig(\"image02.png\", transparent=True)"
      ]
    },
    {
      "cell_type": "markdown",
      "metadata": {
        "id": "FAJ62LJPw_ps"
      },
      "source": [
        "Save A Plot To A Pdf File\n"
      ]
    },
    {
      "cell_type": "code",
      "execution_count": null,
      "metadata": {
        "id": "S1iy36hVxBGQ"
      },
      "outputs": [],
      "source": [
        "# Import PdfPages\n",
        "from matplotlib.backends.backend_pdf import PdfPages\n",
        "\n",
        "# Initialize the pdf file\n",
        "pp = PdfPages('multipage.pdf')\n",
        "\n",
        "# Save the figure to the file\n",
        "pp.savefig()\n",
        "\n",
        "# Close the file\n",
        "pp.close()"
      ]
    },
    {
      "cell_type": "markdown",
      "metadata": {
        "id": "6dk6F9Xpm0rF"
      },
      "source": [
        "###**Animation**\n"
      ]
    },
    {
      "cell_type": "code",
      "execution_count": null,
      "metadata": {
        "id": "jt87MCMIkiBE"
      },
      "outputs": [],
      "source": [
        "from matplotlib import animation, rc\n",
        "from IPython.display import HTML\n",
        "\n",
        "fig = plt.figure()\n",
        "\n",
        "\n",
        "def f(x, y):\n",
        "    return np.sin(x) + np.cos(y)\n",
        "\n",
        "x = np.linspace(0, 2 * np.pi, 120)\n",
        "y = np.linspace(0, 2 * np.pi, 100).reshape(-1, 1)\n",
        "# ims is a list of lists, each row is a list of artists to draw in the\n",
        "# current frame; here we are just animating one artist, the image, in\n",
        "# each frame\n",
        "ims = []\n",
        "for i in range(60):\n",
        "    x += np.pi / 15.\n",
        "    y += np.pi / 20.\n",
        "    im = plt.imshow(f(x, y), animated=True)\n",
        "    ims.append([im])\n",
        "\n",
        "anim = animation.ArtistAnimation(fig, ims, interval=50, blit=True,\n",
        "                                repeat_delay=1000)\n",
        "rc('animation', html='jshtml')\n",
        "anim"
      ]
    },
    {
      "cell_type": "code",
      "execution_count": null,
      "metadata": {
        "id": "dGAzCwlkkvsq"
      },
      "outputs": [],
      "source": []
    },
    {
      "cell_type": "markdown",
      "metadata": {
        "id": "Cdmb6XJIHvS3"
      },
      "source": [
        "##**Intro to Pandas**\n",
        "\n",
        "![image.png](data:image/png;base64,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)\n"
      ]
    },
    {
      "cell_type": "markdown",
      "metadata": {
        "id": "CR_CHvs0QeP2"
      },
      "source": [
        "Pandas is a library with high-level data structures and manipulation tools:\n",
        "\n",
        "\n",
        "* Data loading/saving\n",
        "* Data exploration\n",
        "* Filtering, selecting\n",
        "* Plotting/visualization\n",
        "* Computing summary statistics\n",
        "* Groupby operations\n",
        "\n",
        "DataFrame Object\n",
        "* Represents a tabular, spreadsheet-like data structure\n",
        "* Ordered collection of columns\n",
        "* Each column can be a different value type (numeric, string, boolean, etc.)"
      ]
    },
    {
      "cell_type": "code",
      "execution_count": null,
      "metadata": {
        "id": "2pCxaz-4H3M7"
      },
      "outputs": [],
      "source": [
        "import pandas as pd\n",
        "import numpy as np\n",
        "import matplotlib.pyplot as plt\n"
      ]
    },
    {
      "cell_type": "markdown",
      "metadata": {
        "id": "YK1xBbH0RcHE"
      },
      "source": [
        "###**Object creation**\n",
        "\n"
      ]
    },
    {
      "cell_type": "markdown",
      "metadata": {
        "id": "VaZPEswOStAW"
      },
      "source": [
        "Pandas deals with the following three data structures −\n",
        "\n",
        "* Series (1D, labeled homogeneous array)\n",
        "* DataFrame (2D, genaral 2d labeled, size-mutable tabular structure with potentially hetegoneously typed columns)\n",
        "* Panel (3D, size-mutable array)\n",
        "\n",
        "These data structures are built on top of Numpy array, which means they are fast.\n",
        "\n",
        "The best way to think of these data structures is that the higher dimensional data structure is a container of its lower dimensional data structure. For example, DataFrame is a container of Series, Panel is a container of DataFrame."
      ]
    },
    {
      "cell_type": "code",
      "execution_count": null,
      "metadata": {
        "id": "OHJUYXh9Wl5Z"
      },
      "outputs": [],
      "source": []
    },
    {
      "cell_type": "markdown",
      "metadata": {
        "id": "67kaz3XdWgo1"
      },
      "source": [
        "Series is a one-dimensional labeled array capable of holding any data type (integers, strings, floating point numbers, Python objects, etc.)"
      ]
    },
    {
      "cell_type": "code",
      "execution_count": null,
      "metadata": {
        "id": "RM0xKSHPK5xz"
      },
      "outputs": [],
      "source": [
        "# Series\n",
        "s = pd.Series([1,3,5,np.nan, 6,7,8], name = 'numbers')\n",
        "s"
      ]
    },
    {
      "cell_type": "code",
      "execution_count": null,
      "metadata": {
        "id": "NnTGfba3Udd9"
      },
      "outputs": [],
      "source": [
        "# The axis labels are collectively referred to as the index\n",
        "s = pd.Series(np.random.rand(5), index = ['a', 'b','c','d','e'])\n",
        "s"
      ]
    },
    {
      "cell_type": "code",
      "execution_count": null,
      "metadata": {
        "id": "Ib9FHqQbVi5j"
      },
      "outputs": [],
      "source": [
        "# indexing\n",
        "s['e']"
      ]
    },
    {
      "cell_type": "code",
      "execution_count": null,
      "metadata": {
        "id": "SsXhseAiWKxM"
      },
      "outputs": [],
      "source": [
        "s[1:4]"
      ]
    },
    {
      "cell_type": "code",
      "execution_count": null,
      "metadata": {
        "id": "T8D7ICZfWVbX"
      },
      "outputs": [],
      "source": [
        "s+s"
      ]
    },
    {
      "cell_type": "markdown",
      "metadata": {
        "id": "o9PfaHjIWAGX"
      },
      "source": [
        "A key difference between Series and ndarray is that operations between Series automatically align the data based on label. Thus, you can write computations without giving consideration to whether the Series involved have the same labels"
      ]
    },
    {
      "cell_type": "code",
      "execution_count": null,
      "metadata": {
        "id": "n15gyUrkVsdA"
      },
      "outputs": [],
      "source": [
        "s[1:]+s[:-1]"
      ]
    },
    {
      "cell_type": "code",
      "execution_count": null,
      "metadata": {
        "id": "_Qg0F2l4U4qS"
      },
      "outputs": [],
      "source": [
        "# Series can be instantiated from dicts\n",
        "\n",
        "dicts = {'a':1, 'b':2, 'c':3, 'd':4}\n",
        "pd.Series(dicts)"
      ]
    },
    {
      "cell_type": "markdown",
      "metadata": {
        "id": "gs1q_VhCWwMt"
      },
      "source": [
        "DataFrame is a 2-dimensional labeled data structure with columns of potentially different types. You can think of it like a spreadsheet or SQL table, or a dict of Series objects. It is generally the most commonly used pandas object."
      ]
    },
    {
      "cell_type": "code",
      "execution_count": null,
      "metadata": {
        "id": "KpAnle7tVZnV"
      },
      "outputs": [],
      "source": [
        "d = {'one': s[1:], 'two':s[:-1]}\n",
        "df = pd.DataFrame(d)\n",
        "df"
      ]
    },
    {
      "cell_type": "code",
      "execution_count": null,
      "metadata": {
        "id": "FAOVnxNiXW9x"
      },
      "outputs": [],
      "source": [
        "df.index"
      ]
    },
    {
      "cell_type": "code",
      "execution_count": null,
      "metadata": {
        "id": "17aOxi0-Xdhm"
      },
      "outputs": [],
      "source": [
        "df.columns"
      ]
    },
    {
      "cell_type": "code",
      "execution_count": null,
      "metadata": {
        "id": "nKQEjrCsXf-a"
      },
      "outputs": [],
      "source": [
        "# column selection\n",
        "\n",
        "df['two']"
      ]
    },
    {
      "cell_type": "code",
      "execution_count": null,
      "metadata": {
        "id": "G4iWBr1yXwVC"
      },
      "outputs": [],
      "source": [
        "# add column\n",
        "\n",
        "df['three'] = df['one']+ df['two']\n",
        "df['flag'] = df['two'] > 0.4\n",
        "df"
      ]
    },
    {
      "cell_type": "code",
      "execution_count": null,
      "metadata": {
        "id": "9Yc7uw6XYPcn"
      },
      "outputs": [],
      "source": [
        "# delete columns with del and popped\n",
        "\n",
        "del df['two']\n",
        "df.pop('flag')\n",
        "df"
      ]
    },
    {
      "cell_type": "code",
      "execution_count": null,
      "metadata": {
        "id": "S8DS-E8QYl0g"
      },
      "outputs": [],
      "source": [
        "# insert\n",
        "df['one_new'] = df['one'][2:4]\n",
        "df"
      ]
    },
    {
      "cell_type": "code",
      "execution_count": null,
      "metadata": {
        "id": "saeAB8DFY6Nj"
      },
      "outputs": [],
      "source": [
        "df.insert(1, 'new_two', 'a')\n",
        "df"
      ]
    },
    {
      "cell_type": "markdown",
      "metadata": {
        "id": "iHlRq1QeZymW"
      },
      "source": [
        "###**Loading data**\n",
        "\n",
        "Pandas has a lot of convenient built-in methods for reading data of various formats."
      ]
    },
    {
      "cell_type": "code",
      "execution_count": null,
      "metadata": {
        "id": "86LE-CQ4ZSGf"
      },
      "outputs": [],
      "source": [
        "[x for x in dir(pd) if 'read' in x]"
      ]
    },
    {
      "cell_type": "markdown",
      "metadata": {
        "id": "8hhPfwZQa8zx"
      },
      "source": [
        "download and add famous Iris Data set or Fisher's Iris data set is a multivariate data set introduced by the British statistician and biologist Ronald Fisher in his 1936 paper - The use of multiple measurements in taxonomic problems as an example of linear discriminant analysis\n",
        "https://drive.google.com/file/d/1ZkcSr0aLRn9hhLH80k4uG9z69lSJKkrk/view?usp=sharing"
      ]
    },
    {
      "cell_type": "code",
      "execution_count": null,
      "metadata": {
        "id": "Rqoql7AnaFt0"
      },
      "outputs": [],
      "source": [
        "# load from csv file\n",
        "\n",
        "data = pd.read_csv('iris.csv')"
      ]
    },
    {
      "cell_type": "code",
      "execution_count": null,
      "metadata": {
        "id": "hT3Iv2LddK4A"
      },
      "outputs": [],
      "source": [
        "# display top rows of the dataset\n",
        "data.head()"
      ]
    },
    {
      "cell_type": "code",
      "execution_count": null,
      "metadata": {
        "id": "8U4ruWQXdbmi"
      },
      "outputs": [],
      "source": [
        "# display the number of rows randomly\n",
        "\n",
        "data.sample(10)"
      ]
    },
    {
      "cell_type": "code",
      "execution_count": null,
      "metadata": {
        "id": "pusgegIRdlfU"
      },
      "outputs": [],
      "source": [
        "# shape of dataset\n",
        "data.shape"
      ]
    },
    {
      "cell_type": "code",
      "execution_count": null,
      "metadata": {
        "id": "5udmcq07duns"
      },
      "outputs": [],
      "source": [
        "print(data)"
      ]
    },
    {
      "cell_type": "code",
      "execution_count": null,
      "metadata": {
        "id": "Y879f2QYdyy_"
      },
      "outputs": [],
      "source": [
        "# display the specific rows using 'iloc' - index integen or 'loc' - index name\n",
        "\n",
        "print(data.iloc[5])\n",
        "print(data.loc[data['species'] == 'setosa'])"
      ]
    },
    {
      "cell_type": "code",
      "execution_count": null,
      "metadata": {
        "id": "-gDQRqaTeXtP"
      },
      "outputs": [],
      "source": [
        "# count number of times species occur in data set\n",
        "\n",
        "data[\"species\"].value_counts()"
      ]
    },
    {
      "cell_type": "code",
      "execution_count": null,
      "metadata": {
        "id": "WZGymGIog-Od"
      },
      "outputs": [],
      "source": [
        "# add column with code for species\n",
        "data['target']=data['species']\n",
        "data['target'].loc[data['species']=='versicolor']=1\n",
        "data['target'].loc[data['species']=='virginica']=2\n",
        "data['target'].loc[data['species']=='setosa']=3"
      ]
    },
    {
      "cell_type": "code",
      "execution_count": null,
      "metadata": {
        "id": "wGOfK3Bdh3xt"
      },
      "outputs": [],
      "source": [
        "data.sample(10)"
      ]
    },
    {
      "cell_type": "code",
      "execution_count": null,
      "metadata": {
        "id": "Gek06nDRfMZg"
      },
      "outputs": [],
      "source": [
        "# see the statistics of the dataset\n",
        "data.describe()"
      ]
    },
    {
      "cell_type": "code",
      "execution_count": null,
      "metadata": {
        "id": "HnkR8_qFffGq"
      },
      "outputs": [],
      "source": [
        "# verify the features are of which datatypes\n",
        "data.info()"
      ]
    },
    {
      "cell_type": "code",
      "execution_count": null,
      "metadata": {
        "id": "GDX4hF_ne6sE"
      },
      "outputs": [],
      "source": [
        "# Summarizing the missing values\n",
        "data.isnull().sum()"
      ]
    },
    {
      "cell_type": "code",
      "execution_count": null,
      "metadata": {
        "id": "gkTvpOlm1SKR"
      },
      "outputs": [],
      "source": [
        "pd.plotting.hist_frame(data)"
      ]
    },
    {
      "cell_type": "code",
      "execution_count": null,
      "metadata": {
        "id": "WNEzRwd2y7i5"
      },
      "outputs": [],
      "source": [
        "pd.plotting.bootstrap_plot(data['petal_length'])\n",
        "plt.show()"
      ]
    },
    {
      "cell_type": "code",
      "execution_count": null,
      "metadata": {
        "id": "dkkmTf1i1Zdd"
      },
      "outputs": [],
      "source": [
        "pd.plotting.boxplot_frame_groupby(data.groupby('species'))"
      ]
    },
    {
      "cell_type": "code",
      "execution_count": null,
      "metadata": {
        "id": "DnFfLToHfidD"
      },
      "outputs": [],
      "source": [
        "# ploting scatter graph of species comparing all features to each other\n",
        "\n",
        "pd.plotting.scatter_matrix(data, c=data['target'], marker='o', s=10, alpha = .8)\n",
        "plt.show()"
      ]
    },
    {
      "cell_type": "code",
      "execution_count": null,
      "metadata": {
        "id": "4qza6DvEYHuo"
      },
      "outputs": [],
      "source": []
    },
    {
      "cell_type": "code",
      "execution_count": null,
      "metadata": {
        "id": "iLwqgaDpgTqy"
      },
      "outputs": [],
      "source": [
        "# seaborn heatmap\n",
        "import seaborn as sns\n",
        "sns.heatmap(data.corr(),cmap='inferno', linecolor = 'white', linewidths = 1, annot = True)"
      ]
    },
    {
      "cell_type": "code",
      "execution_count": null,
      "metadata": {
        "id": "XK7SqT7qs5_2"
      },
      "outputs": [],
      "source": [
        "# jointplot shows bivariate scatterplots and univariate histograms\n",
        "\n",
        "sns.jointplot(x=\"petal_length\", y=\"petal_width\", data=data,size=5,kind=\"scatter\")\n"
      ]
    },
    {
      "cell_type": "code",
      "execution_count": null,
      "metadata": {
        "id": "SvNi1Liuro_I"
      },
      "outputs": [],
      "source": [
        "# Multivariate Analysis with pair plot\n",
        "sns.pairplot(data.drop(\"target\", axis=1),hue=\"species\",diag_kind=\"kde\")\n",
        "plt.show()"
      ]
    },
    {
      "cell_type": "code",
      "execution_count": null,
      "metadata": {
        "id": "m5p7_wQKsGKl"
      },
      "outputs": [],
      "source": [
        "# scatter plot\n",
        "sns.FacetGrid(data,hue='species')\\\n",
        ".map(plt.scatter,'petal_length','petal_width')\\\n",
        ".add_legend()\n",
        "plt.show()"
      ]
    },
    {
      "cell_type": "code",
      "execution_count": null,
      "metadata": {
        "id": "5w-geXCU7ZbG"
      },
      "outputs": [],
      "source": [
        "# N-dimensional data set into a 2D space\n",
        "pd.plotting.radviz(data.drop(\"target\", axis=1), 'species')"
      ]
    },
    {
      "cell_type": "code",
      "execution_count": null,
      "metadata": {
        "id": "g8LcjBI5ttHO"
      },
      "outputs": [],
      "source": [
        "# Andrew Curves plot for visualising clusters of multivariate data\n",
        "pd.plotting.andrews_curves(data.drop(\"target\", axis=1), \"species\")"
      ]
    },
    {
      "cell_type": "code",
      "source": [],
      "metadata": {
        "id": "uRVeSRlnXvTa"
      },
      "execution_count": null,
      "outputs": []
    }
  ],
  "metadata": {
    "colab": {
      "provenance": [],
      "include_colab_link": true
    },
    "kernelspec": {
      "display_name": "Python 3",
      "name": "python3"
    }
  },
  "nbformat": 4,
  "nbformat_minor": 0
}