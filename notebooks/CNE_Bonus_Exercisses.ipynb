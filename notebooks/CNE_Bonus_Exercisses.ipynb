{
  "cells": [
    {
      "cell_type": "markdown",
      "metadata": {
        "id": "view-in-github",
        "colab_type": "text"
      },
      "source": [
        "<a href=\"https://colab.research.google.com/github/mikislin/CNE25/blob/main/notebooks/CNE_Bonus_Exercisses.ipynb\" target=\"_parent\"><img src=\"https://colab.research.google.com/assets/colab-badge.svg\" alt=\"Open In Colab\"/></a>"
      ]
    },
    {
      "cell_type": "markdown",
      "metadata": {
        "id": "xmOfzRf7U3GZ"
      },
      "source": [
        "##**Problem 1:**\n",
        "**Swapping two vatiables**\n",
        "\n"
      ]
    },
    {
      "cell_type": "code",
      "execution_count": null,
      "metadata": {
        "id": "m5glF7dSUqJ3"
      },
      "outputs": [],
      "source": [
        "v1 = 'first string'\n",
        "v2 = 'second string'"
      ]
    },
    {
      "cell_type": "code",
      "execution_count": null,
      "metadata": {
        "id": "U3lepPFYmgvR"
      },
      "outputs": [],
      "source": []
    },
    {
      "cell_type": "code",
      "execution_count": null,
      "metadata": {
        "id": "NgKRiNo3prJz"
      },
      "outputs": [],
      "source": []
    },
    {
      "cell_type": "code",
      "execution_count": null,
      "metadata": {
        "id": "16mHbpJSqL29"
      },
      "outputs": [],
      "source": []
    },
    {
      "cell_type": "code",
      "execution_count": null,
      "metadata": {
        "id": "vQQ9Qytjqis5"
      },
      "outputs": [],
      "source": []
    },
    {
      "cell_type": "markdown",
      "metadata": {
        "id": "sWaa5YkVbdRD"
      },
      "source": [
        "##**Problem 2:**\n",
        "**km to mile**\n",
        "\n",
        "convert user entered kilometers to miles and display it\n",
        "\n",
        "*Hint: 1 kilometer is equal to 0.621371 miles*"
      ]
    },
    {
      "cell_type": "code",
      "execution_count": null,
      "metadata": {
        "id": "3A0375R7b1Ab"
      },
      "outputs": [],
      "source": []
    },
    {
      "cell_type": "markdown",
      "metadata": {
        "id": "fHDWa7-VrZ0R"
      },
      "source": [
        "##**Problem 3:**\n",
        "**String formatting**\n",
        "\n",
        "In this problem we will practice some basics with displaying and formatting strings.\n"
      ]
    },
    {
      "cell_type": "markdown",
      "metadata": {
        "id": "ivcMwMhItz9r"
      },
      "source": [
        "**(a)** Write code to determine the number of characters in a string called input_string, and store that value in a variable called num_chars.\n",
        "\n",
        "Hint: You can get the length of a Python object using the function len()."
      ]
    },
    {
      "cell_type": "code",
      "execution_count": null,
      "metadata": {
        "id": "pi4gNeAmtNNU"
      },
      "outputs": [],
      "source": []
    },
    {
      "cell_type": "markdown",
      "metadata": {
        "id": "X48Heqn4Xi4Y"
      },
      "source": [
        "**(b)** Create a program that asks the user to enter their name and their age. Print out a message addressed to them that tells them the year that they will turn 100 years old"
      ]
    },
    {
      "cell_type": "code",
      "execution_count": null,
      "metadata": {
        "id": "obWcLT_lufCh"
      },
      "outputs": [],
      "source": []
    },
    {
      "cell_type": "markdown",
      "metadata": {
        "id": "W-Q6MEwYdNWo"
      },
      "source": [
        "**(c)** Often in scientific analysis we want to inspect numbers, by printing them out as strings. String formatting allows us to print out numbers that look pretty.\n",
        "\n",
        "To format a number, the placeholder in the template string looks like, for example, \"{var:.2f}\" where var is the variable name, and .2f indicates a number with 2 digits after the decimal point.\n",
        "\n",
        "Define a variable storing a number of your choosing, and print it out with (i) 0, (ii) 5, and (iii) 10 digits after the decimal point."
      ]
    },
    {
      "cell_type": "code",
      "execution_count": null,
      "metadata": {
        "id": "9rQ3ssEEdegt"
      },
      "outputs": [],
      "source": [
        "# print out a variable with different numbers of digits after the decimal point\n"
      ]
    },
    {
      "cell_type": "markdown",
      "metadata": {
        "id": "Pr7_Phv6n0po"
      },
      "source": [
        "## Problem 4:\n",
        "**File name parsing**\n",
        "\n",
        "In this problem we will use string analysis to parse file names. This is a useful thing to know how to do!"
      ]
    },
    {
      "cell_type": "markdown",
      "metadata": {
        "id": "xIMB5QpPqkdB"
      },
      "source": [
        "**(a)** given a variable called file_name storing the name of a file, determine whether the file is a csv file, by checking whether the substring 'csv' is contained in it. Store the result in a variable called is_csv_file\n",
        "\n",
        "Python can tell us whether any given word/substring exists inside a string.\n",
        "\n",
        "For example, 'at' in 'math' evaluates to True. But 'nat' in 'math' evaluates to False.\n",
        "\n"
      ]
    },
    {
      "cell_type": "code",
      "execution_count": null,
      "metadata": {
        "id": "DaQBQH8GXzoj"
      },
      "outputs": [],
      "source": [
        "file_name = 'my_file.csv'\n",
        "\n",
        "# determine whether file_name is a csv file, and store result in is_csv_file\n"
      ]
    },
    {
      "cell_type": "markdown",
      "metadata": {
        "id": "259NYv1arth6"
      },
      "source": [
        "(b) Determine whether file_name ends with .csv, and store the result in is_csv_file.\n",
        "\n",
        "Hint: recall that a==b determines whether a is the same as b."
      ]
    },
    {
      "cell_type": "code",
      "execution_count": null,
      "metadata": {
        "id": "kDsNtYfUdwPH"
      },
      "outputs": [],
      "source": []
    },
    {
      "cell_type": "markdown",
      "metadata": {
        "id": "rDgNLO53tFg8"
      },
      "source": [
        "**(c)** Given two variables file_name and new_extension, create a variable new_file_name in which you change the extension of the original file name to the new extension.\n",
        "\n",
        "For example, if file_name is a_file_name.csv and new_extension is mat, then new_file_name should be a_file_name.mat.\n",
        "\n",
        "Hint: you can, but do not need to, use the string method .replace()."
      ]
    },
    {
      "cell_type": "code",
      "execution_count": null,
      "metadata": {
        "id": "cs1b4WkfsSJ4"
      },
      "outputs": [],
      "source": []
    },
    {
      "cell_type": "markdown",
      "metadata": {
        "id": "xDAzwwIQ05qA"
      },
      "source": [
        "## **Problem 1:**\n",
        "List"
      ]
    },
    {
      "cell_type": "markdown",
      "metadata": {
        "id": "ilLng2HA5_rm"
      },
      "source": [
        "(a) Creat two lists from the following data: one with animals, and second with number of neurons in the nervous system. Keep the same order\n",
        "\n",
        "Sponge: 0\n",
        "\n",
        "Ciona: 231\n",
        "\n",
        "C.elegans: 302\n",
        "\n",
        "Wasp: 7400\n",
        "\n",
        "Snail: 11000\n",
        "\n",
        "Zebrafish: 100000\n",
        "\n",
        "Ant: 250000\n",
        "\n",
        "Mouse: 71000000\n",
        "\n",
        "Cat: 760000000\n",
        "\n",
        "Lemur: 254710000\n"
      ]
    },
    {
      "cell_type": "code",
      "execution_count": null,
      "metadata": {
        "id": "05ngnOGq09ix"
      },
      "outputs": [],
      "source": [
        "# creat the lists\n"
      ]
    },
    {
      "cell_type": "markdown",
      "metadata": {
        "id": "VnYRSOFl8DTH"
      },
      "source": [
        "**(b)** Create a program that asks the user to enter an integer variable from 0 to number of animals in the list, printout a sentence indicating animal and number of neurons"
      ]
    },
    {
      "cell_type": "code",
      "execution_count": null,
      "metadata": {
        "id": "Jg1OZ5tZ8-Sy"
      },
      "outputs": [],
      "source": []
    },
    {
      "cell_type": "markdown",
      "metadata": {
        "id": "Ln2572Y3_6bn"
      },
      "source": [
        "**(c)** add new data to the lists, keeping ascending order\n",
        "\n",
        "Jellyfish: 5600\n",
        "\n",
        "Ferret: 404000000\n",
        "\n",
        "Octopus: 500000000\n",
        "\n",
        "\n"
      ]
    },
    {
      "cell_type": "code",
      "execution_count": null,
      "metadata": {
        "id": "N6dxQ91h_37V"
      },
      "outputs": [],
      "source": []
    },
    {
      "cell_type": "markdown",
      "metadata": {
        "id": "QRCWkG4EF3mn"
      },
      "source": [
        "**(d)** group animals into invertebrate and vertebrate and print out average number of neurons per group  "
      ]
    },
    {
      "cell_type": "code",
      "execution_count": null,
      "metadata": {
        "id": "0fnFBfL2HRS3"
      },
      "outputs": [],
      "source": []
    },
    {
      "cell_type": "markdown",
      "metadata": {
        "id": "3sAikCdm1HJe"
      },
      "source": [
        "## **Problem 2:**\n",
        "if statement"
      ]
    },
    {
      "cell_type": "markdown",
      "metadata": {
        "id": "QPAzXwOfNRFV"
      },
      "source": [
        "**(a)** Ask the user for a number. Depending on whether the number is even or odd, print out an appropriate message to the user"
      ]
    },
    {
      "cell_type": "code",
      "execution_count": null,
      "metadata": {
        "id": "jCTogQzHJyHX"
      },
      "outputs": [],
      "source": []
    },
    {
      "cell_type": "markdown",
      "metadata": {
        "id": "Khk--U_mONba"
      },
      "source": [
        "(b) Ask the user for index of three animals to compare. Print animal with higher number of neurons  "
      ]
    },
    {
      "cell_type": "code",
      "execution_count": null,
      "metadata": {
        "id": "8yZaC76-NEQ3"
      },
      "outputs": [],
      "source": []
    },
    {
      "cell_type": "markdown",
      "metadata": {
        "id": "SGrvmI1NTcEL"
      },
      "source": [
        "##**Problem 3**\n",
        "\n",
        "while loop"
      ]
    },
    {
      "cell_type": "markdown",
      "metadata": {
        "id": "pQmPhBHcUN-Y"
      },
      "source": [
        "**(a)** print out two list with while loop to replicate input list of animals ordered by number of neurons"
      ]
    },
    {
      "cell_type": "code",
      "execution_count": null,
      "metadata": {
        "id": "8O3L4CnHROTQ"
      },
      "outputs": [],
      "source": []
    },
    {
      "cell_type": "markdown",
      "metadata": {
        "id": "4fINq24RX-y6"
      },
      "source": [
        "**(b)** print out animals with number of neurons smaller than group average"
      ]
    },
    {
      "cell_type": "code",
      "execution_count": null,
      "metadata": {
        "id": "KFGm65uXUJhD"
      },
      "outputs": [],
      "source": []
    },
    {
      "cell_type": "markdown",
      "metadata": {
        "id": "upTpCmfGYZga"
      },
      "source": [
        "## **Problem 4:**\n",
        "for loop"
      ]
    },
    {
      "cell_type": "markdown",
      "metadata": {
        "id": "RcSyItcfGdw5"
      },
      "source": [
        "(a) Let's assume that the neurons in every animal are \"fully connected\" – this means that any given neuron makes a synaptic connection with every other neuron.\n",
        "\n",
        "Furthermore, let's assume that each of these connections consists of exactly one synapse.\n",
        "\n",
        "For example, if a brain has 500 neurons, then each neuron makes 499 connections.\n",
        "\n",
        "For every animal from the list, calculate the total number of synapses in a brain. Store the results in a new list called synapse_counts, with the same length as your other 2 lists."
      ]
    },
    {
      "cell_type": "code",
      "execution_count": null,
      "metadata": {
        "id": "x6NHjcUQHLRu"
      },
      "outputs": [],
      "source": [
        "# for each region, each neuron connects to every other one\n",
        "# so naively it would be n * (n - 1)\n",
        "# however, this counts each synapse twice, so let's divide by two:\n"
      ]
    },
    {
      "cell_type": "markdown",
      "metadata": {
        "id": "T7rh1jvmPRdG"
      },
      "source": [
        "(b) Find out and print which animal has more synapses then another animal has neurons"
      ]
    },
    {
      "cell_type": "code",
      "execution_count": null,
      "metadata": {
        "id": "uooI7uxHHqkl"
      },
      "outputs": [],
      "source": []
    },
    {
      "cell_type": "markdown",
      "metadata": {
        "id": "aXXqH0xLlAdW"
      },
      "source": [
        "Save as py file and execute in cmd"
      ]
    },
    {
      "cell_type": "code",
      "execution_count": null,
      "metadata": {
        "id": "Hzd6q0eaVceN"
      },
      "outputs": [],
      "source": []
    },
    {
      "cell_type": "code",
      "execution_count": null,
      "metadata": {
        "id": "3XEkJfgiZ8DY"
      },
      "outputs": [],
      "source": []
    },
    {
      "cell_type": "code",
      "execution_count": null,
      "metadata": {
        "id": "Arx5OTfMltyS"
      },
      "outputs": [],
      "source": []
    },
    {
      "cell_type": "code",
      "execution_count": null,
      "metadata": {
        "id": "f8yw3O0plu6Z"
      },
      "outputs": [],
      "source": []
    },
    {
      "cell_type": "markdown",
      "metadata": {
        "id": "IVFitq-xlvzy"
      },
      "source": [
        "##**Problem 1:**\n",
        "**Functions**\n",
        "\n",
        "**(a)** Write a function with 2 parameters a and b, and returns a+b.\n",
        "\n",
        "Test your function to ensure that it works: run the function, supplying arguments for a and b, and storing the result in a new variable c. Then print out c."
      ]
    },
    {
      "cell_type": "code",
      "execution_count": null,
      "metadata": {
        "id": "otYLZxEkmI3R"
      },
      "outputs": [],
      "source": []
    },
    {
      "cell_type": "markdown",
      "metadata": {
        "id": "4DfJjaj9mgwj"
      },
      "source": [
        "**(b)** Write another function similar to the ones in a, except where argument b is an optional parameter that defaults to None.\n",
        "\n",
        "When the function is used, if an argument is supplied for b then it should be as in the previous questions. However, if no value is supplied for b, the function should print a warning and return None."
      ]
    },
    {
      "cell_type": "code",
      "execution_count": null,
      "metadata": {
        "id": "1ZID29aUm2_d"
      },
      "outputs": [],
      "source": []
    },
    {
      "cell_type": "markdown",
      "metadata": {
        "id": "mRTJD1BEnLwN"
      },
      "source": [
        "**(c)** Write a function that accepts 1 argument, a string, and returns whether or not the string is a valid file name.\n",
        "\n",
        "For our purposes, a valid file name is one that contains exactly one period."
      ]
    },
    {
      "cell_type": "code",
      "execution_count": null,
      "metadata": {
        "id": "fRXNpGZim-hw"
      },
      "outputs": [],
      "source": []
    },
    {
      "cell_type": "markdown",
      "metadata": {
        "id": "ogBrnp5KnZZA"
      },
      "source": [
        "**(d)** Write a new function that accepts 1 argument, a file name string, and returns the extension (ex. .png) of the file.\n",
        "\n",
        "If the file is not a valid file name (use your previous function to determine this!), then print a warning and return None."
      ]
    },
    {
      "cell_type": "code",
      "execution_count": null,
      "metadata": {
        "id": "TIoMh5PAnTKL"
      },
      "outputs": [],
      "source": []
    },
    {
      "cell_type": "markdown",
      "metadata": {
        "id": "I256OyitoLiq"
      },
      "source": [
        "(e) Write a function that accepts a list of numbers, and does the following:\n",
        "\n",
        "(i) Checks whether every item in the list is an integer, and returns None if any non-integer is found\n",
        "\n",
        "(ii) Finds the largest value in the list\n",
        "\n",
        "(iii) Finds the index of the largest value in the list\n",
        "\n",
        "(iv) Returns a dictionary with 2 keys: max_value and max_idx, with the corresponding values from ii and iii\n",
        "\n",
        "Test your function to make sure it works with different inputs!\n",
        "\n",
        "Hint: the function type() returns the type of a variable. For example, type(3) returns int."
      ]
    },
    {
      "cell_type": "code",
      "execution_count": null,
      "metadata": {
        "id": "mi6lheKznoXj"
      },
      "outputs": [],
      "source": []
    },
    {
      "cell_type": "code",
      "execution_count": null,
      "metadata": {
        "id": "ON_t6T7Xocdl"
      },
      "outputs": [],
      "source": []
    },
    {
      "cell_type": "markdown",
      "metadata": {
        "id": "DAHU0QHM3x_L"
      },
      "source": [
        "##**Creating new arrays**\n"
      ]
    },
    {
      "cell_type": "markdown",
      "metadata": {
        "id": "Oh7u4vNJ5d0O"
      },
      "source": [
        "**(a)** Use np.array to create a 3-dimensional array with the shape (2, 4, 3), compare to arange()"
      ]
    },
    {
      "cell_type": "code",
      "execution_count": null,
      "metadata": {
        "id": "PBo2xHgmqmn7"
      },
      "outputs": [],
      "source": [
        "\n"
      ]
    },
    {
      "cell_type": "code",
      "execution_count": null,
      "metadata": {
        "id": "H4rjtid_5kYW"
      },
      "outputs": [],
      "source": []
    },
    {
      "cell_type": "markdown",
      "metadata": {
        "id": "tHz7vrlMDLuc"
      },
      "source": [
        "**(b)** Use np.zeros to create a new  1d array. Write a for-loop that sets each item to the corresponding index plus one"
      ]
    },
    {
      "cell_type": "code",
      "execution_count": null,
      "metadata": {
        "id": "t0SW6QW-DwFI"
      },
      "outputs": [],
      "source": []
    },
    {
      "cell_type": "markdown",
      "metadata": {
        "id": "o55MVpS2Mbmd"
      },
      "source": [
        "**(c)** Write a NumPy program to create a vector with values ​​ranging from 15 to 55 and print all values ​​except the first and last."
      ]
    },
    {
      "cell_type": "code",
      "execution_count": null,
      "metadata": {
        "id": "obYo__NrEARK"
      },
      "outputs": [],
      "source": [
        "\n"
      ]
    },
    {
      "cell_type": "markdown",
      "metadata": {
        "id": "iSSAG6uMNoWH"
      },
      "source": [
        "**(d)** create a 10x10 matrix, in which the elements on the borders will be equal to 1, and inside 0"
      ]
    },
    {
      "cell_type": "code",
      "execution_count": null,
      "metadata": {
        "id": "nUC-hscGEdCB"
      },
      "outputs": [],
      "source": []
    },
    {
      "cell_type": "markdown",
      "metadata": {
        "id": "72I004AUOWoC"
      },
      "source": [
        "**(e)**  write a program that checks before saving np-file if file already saved and contains same array\n",
        "\n",
        "hint: you can use `os.path.exists` if file name exists"
      ]
    },
    {
      "cell_type": "code",
      "execution_count": null,
      "metadata": {
        "id": "XOWV4qpSOWG8"
      },
      "outputs": [],
      "source": []
    },
    {
      "cell_type": "markdown",
      "metadata": {
        "id": "cY4xC0UNiiJD"
      },
      "source": [
        "##**Manipulating arrays**\n"
      ]
    },
    {
      "cell_type": "markdown",
      "metadata": {
        "id": "Dyec54ONjSRs"
      },
      "source": [
        "**(a)** write a program to find the indices of the maximum and minimum values along the given axis of a random array"
      ]
    },
    {
      "cell_type": "code",
      "execution_count": null,
      "metadata": {
        "id": "ENwndU3mVKVP"
      },
      "outputs": [],
      "source": []
    },
    {
      "cell_type": "markdown",
      "metadata": {
        "id": "BOzi_1ZJjjHa"
      },
      "source": [
        "**(b)** Write a NumPy program (using numpy) to sum of all the multiples of 3 or 5 below 100."
      ]
    },
    {
      "cell_type": "code",
      "execution_count": null,
      "metadata": {
        "id": "5PIpMg38jgKz"
      },
      "outputs": [],
      "source": []
    },
    {
      "cell_type": "markdown",
      "metadata": {
        "id": "Ye54qHkZkRXN"
      },
      "source": [
        "**(c)** Write a NumPy program to generate a generic 2D Gaussian-like array."
      ]
    },
    {
      "cell_type": "code",
      "execution_count": null,
      "metadata": {
        "id": "qO_WqyO_kih9"
      },
      "outputs": [],
      "source": []
    },
    {
      "cell_type": "markdown",
      "metadata": {
        "id": "KVn1QAxrk6YS"
      },
      "source": [
        "**(d)** Write a NumPy program to calculate 50, 75, 95 and 90 percentiles for a sequence or single-dimensional NumPy array."
      ]
    },
    {
      "cell_type": "code",
      "execution_count": null,
      "metadata": {
        "id": "E8b7y9FOlkNY"
      },
      "outputs": [],
      "source": []
    },
    {
      "cell_type": "markdown",
      "metadata": {
        "id": "FaBJTVAWONEh"
      },
      "source": [
        "Download files and add them to working dir\n",
        "\n",
        "https://drive.google.com/file/d/18rWavJe9XuxOq0izLC-FJCXz3Aebfg_j/view?usp=sharing, https://drive.google.com/file/d/1Ew-s6pnZU8DMKK8UKEcWwhJUQqj2Rf5J/view?usp=sharing, https://drive.google.com/file/d/1ZnzkRrxcKdV__0lfTlaMMopPcvdq-dST/view?usp=sharing"
      ]
    },
    {
      "cell_type": "markdown",
      "metadata": {
        "id": "kJTnIxOUOnOg"
      },
      "source": [
        "volumes.npy - contains the volume in milliliters of various samples found in the laboratory."
      ]
    },
    {
      "cell_type": "markdown",
      "metadata": {
        "id": "6diPTdlPOwFo"
      },
      "source": [
        "**(a)** load volumes.npy and check how many samples were found?"
      ]
    },
    {
      "cell_type": "code",
      "execution_count": null,
      "metadata": {
        "id": "HhR0uIPbOY3g"
      },
      "outputs": [],
      "source": [
        "import numpy as np\n",
        "# using python's built-in length\n",
        "\n",
        "\n",
        "# using numpy's size attribute of a numpy-array\n",
        "\n",
        "# using numpy's size function\n",
        "\n"
      ]
    },
    {
      "cell_type": "markdown",
      "metadata": {
        "id": "jOrem-0QTWdZ"
      },
      "source": [
        "**(b)** What is the average volume of your samples?"
      ]
    },
    {
      "cell_type": "code",
      "execution_count": null,
      "metadata": {
        "id": "tbBcy2DcTakE"
      },
      "outputs": [],
      "source": [
        "# starting naively, with a for loop\n",
        "\n",
        "\n",
        "# using numpy's sum\n",
        "\n",
        "\n",
        "# using numpy's average directly\n"
      ]
    },
    {
      "cell_type": "markdown",
      "metadata": {
        "id": "frc2zQ9WTlHU"
      },
      "source": [
        "**(c)** What are the volumes of the smallest and largest sample?"
      ]
    },
    {
      "cell_type": "code",
      "execution_count": null,
      "metadata": {
        "id": "niPciaQZTp5Z"
      },
      "outputs": [],
      "source": []
    },
    {
      "cell_type": "markdown",
      "metadata": {
        "id": "o2LBq-D4T5ld"
      },
      "source": [
        "**(d)** You want to determine whether you can transfer each of your samples completely into a 5-mL tube without the 5-mL tube overflowing.\n",
        "\n",
        "Print out a single statement indicating whether or not you can do this."
      ]
    },
    {
      "cell_type": "code",
      "execution_count": null,
      "metadata": {
        "id": "N3iKgC91UFcl"
      },
      "outputs": [],
      "source": []
    },
    {
      "cell_type": "markdown",
      "metadata": {
        "id": "lS1Mhek7UYp1"
      },
      "source": [
        "**(e)** Load in a second array of the tube sizes that currently contain our samples. The tube size data are stored in a file called 'tube_sizes.npy'. Are all the tubes the same size? Print out your answer."
      ]
    },
    {
      "cell_type": "code",
      "execution_count": null,
      "metadata": {
        "id": "-gzymnizPOxR"
      },
      "outputs": [],
      "source": []
    },
    {
      "cell_type": "markdown",
      "metadata": {
        "id": "ialVkDZZU-Kc"
      },
      "source": [
        "**(f)** If they are all the same size, print the size. If they are not all the same size, print out the number of distinct tube sizes in our collection."
      ]
    },
    {
      "cell_type": "code",
      "execution_count": null,
      "metadata": {
        "id": "qbisIKmqRoSm"
      },
      "outputs": [],
      "source": []
    },
    {
      "cell_type": "markdown",
      "metadata": {
        "id": "09YBXYcOVKks"
      },
      "source": [
        "**(g)** Load in a third array from the file 'volumes_to_add.npy'.\n",
        "\n",
        "This array consists of volumes of a chemical we want to add to the current tubes. For instance, the first item in this array is the volume we want to add to the first tube.\n",
        "\n",
        "Determine whether any tubes will overflow if we add the desired volume."
      ]
    },
    {
      "cell_type": "code",
      "execution_count": null,
      "metadata": {
        "id": "PCbGadPrVHA6"
      },
      "outputs": [],
      "source": []
    },
    {
      "cell_type": "markdown",
      "metadata": {
        "id": "NJPLV8VVV1Ec"
      },
      "source": [
        "**(h)** If any tubes will overflow, determine the total amount of overflow fluid after transferring all chemicals into their tubes."
      ]
    },
    {
      "cell_type": "code",
      "execution_count": null,
      "metadata": {
        "id": "yQpqDieOVlY2"
      },
      "outputs": [],
      "source": []
    },
    {
      "cell_type": "markdown",
      "metadata": {
        "id": "gmRhfVwzbBAJ"
      },
      "source": [
        "##**More on numpy**"
      ]
    },
    {
      "cell_type": "markdown",
      "metadata": {
        "id": "dn991PfDaUna"
      },
      "source": [
        "**(a)** Declare a 8x8 matrix and fill it with a checkerboard pattern, then randomly place p elements in a 2D array with np.put"
      ]
    },
    {
      "cell_type": "code",
      "execution_count": null,
      "metadata": {
        "id": "LC3P-eFnaNNp"
      },
      "outputs": [],
      "source": []
    },
    {
      "cell_type": "markdown",
      "metadata": {
        "id": "2n7NpcVoiC0a"
      },
      "source": [
        "**(b)** Normalize a 5x5 random matrix (between 0 and 1)"
      ]
    },
    {
      "cell_type": "code",
      "execution_count": null,
      "metadata": {
        "id": "3eliYaQthlqN"
      },
      "outputs": [],
      "source": []
    },
    {
      "cell_type": "markdown",
      "metadata": {
        "id": "CBjLYzwOizN5"
      },
      "source": [
        "**(c)** Multiply a 5x5 array by a 5x1 array, treat arrays as matrix by using `np.dot` (compare real matrix product and product of array multiplication).\n",
        "change order in np.dot 1x5 and 5x5\n",
        "\n",
        "![image.png](data:image/png;base64,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)"
      ]
    },
    {
      "cell_type": "code",
      "execution_count": null,
      "metadata": {
        "id": "hfMwUbKUh-aT"
      },
      "outputs": [],
      "source": []
    },
    {
      "cell_type": "markdown",
      "metadata": {
        "id": "aUJX8Nerp7x9"
      },
      "source": [
        "**(d)** Consider a random 100x2 matrix representing cartesian coordinates, convert them to polar coordinates\n",
        "\n",
        "![image.png](data:image/png;base64,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)\n",
        "\n",
        "\n",
        "![image.png](data:image/png;base64,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)\n",
        "\n",
        "\n",
        "![image.png](data:image/png;base64,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)"
      ]
    },
    {
      "cell_type": "code",
      "execution_count": null,
      "metadata": {
        "id": "-IQFNJv8qAAl"
      },
      "outputs": [],
      "source": []
    },
    {
      "cell_type": "markdown",
      "metadata": {
        "id": "9GxFfOOQsl13"
      },
      "source": [
        "**(e)** find point by point distances for coordinates from **d** and calculate total distance\n",
        "\n",
        "Hint: np.atleast_2d"
      ]
    },
    {
      "cell_type": "code",
      "execution_count": null,
      "metadata": {
        "id": "6xoTrvDoqWrQ"
      },
      "outputs": [],
      "source": []
    },
    {
      "cell_type": "markdown",
      "metadata": {
        "id": "8_uJwtYiZZbO"
      },
      "source": [
        "**(f)**  create a four dimensions array and get sum over the last two axis at once"
      ]
    },
    {
      "cell_type": "code",
      "execution_count": null,
      "metadata": {
        "id": "VTy-CXhItTvD"
      },
      "outputs": [],
      "source": []
    },
    {
      "cell_type": "markdown",
      "metadata": {
        "id": "JVodXiYRbWz8"
      },
      "source": [
        "(g) Write a function rolling mean that returns an array of local k-point mean values, where each mean is calculated over a sliding window of length k across neighboring elements of A\n",
        "\n",
        "bonus - define rolling median and make a weighted moving averages and median"
      ]
    },
    {
      "cell_type": "code",
      "execution_count": null,
      "metadata": {
        "id": "5UMV0NOccdS3"
      },
      "outputs": [],
      "source": []
    },
    {
      "cell_type": "markdown",
      "metadata": {
        "id": "D9-PzScf65cI"
      },
      "source": [
        "##**Plotting**"
      ]
    },
    {
      "cell_type": "markdown",
      "metadata": {
        "id": "TkYr_MKX7A1T"
      },
      "source": [
        "**(a)** produce a plot of the functions f(x) = e^(-x/10) * arctan(πx) and g(x) = e^(x/10) * cos(πx) over the interval [0, 10]on same axis.\n",
        "\n",
        "Include labels for the x- and y-axes, and a legend explaining which line is which plot"
      ]
    },
    {
      "cell_type": "code",
      "execution_count": null,
      "metadata": {
        "id": "2NA87MZ67XUW"
      },
      "outputs": [],
      "source": []
    },
    {
      "cell_type": "markdown",
      "metadata": {
        "id": "pVaaMzx8AGKm"
      },
      "source": [
        "**(b)** The shape of limacon can be defined parametrically as\n",
        "\n",
        "r = r0 + cos(a)\n",
        "x = r * cos(a)\n",
        "y = r * sin(a)\n",
        "\n",
        "Use this definition to plot the shape for r0 = 0.2, r0 = 0.5, and r0 = 0.8. Be sure to use enough points that the curve is closed and appears smooth. Use a legend to identify which curve is which."
      ]
    },
    {
      "cell_type": "code",
      "execution_count": null,
      "metadata": {
        "id": "qiz8joqToWvW"
      },
      "outputs": [],
      "source": []
    },
    {
      "cell_type": "markdown",
      "metadata": {
        "id": "cX41yEJYF0KD"
      },
      "source": [
        "**(c)**  Try to reproduce the following figure?\n",
        "![image.png](data:image/png;base64,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)\n",
        "\n"
      ]
    },
    {
      "cell_type": "code",
      "execution_count": null,
      "metadata": {
        "id": "AKhL7gWQJMZy"
      },
      "outputs": [],
      "source": []
    },
    {
      "cell_type": "markdown",
      "metadata": {
        "id": "ybGPDs37K6sO"
      },
      "source": [
        "(d) Make sin(x),cos(x), tan(x),-argtan(x) plot with 4 subplots (2 rows, 2 columns)\n",
        "\n",
        "hint: you'll now have to index into axes like axes[0, 0]).\n",
        "\n",
        "\n",
        "1.   Create a loop over all the axes objects (hint: use `axes.flatten()`) so that the legend and set_ylabel functions are called for all subplots.\n",
        "2.   Use the loop from #2 to add a title to only the top row of plots using the `set_title function`.\n",
        "3.   Look at the documentation for the `fig.tight_layout()` command to optimize figure layout. * Note that this doesn't play nice with the figure suptitle. try using the `plt.subplots_adjust(top=0.85) `command to control the whitespace at the top of the plot."
      ]
    },
    {
      "cell_type": "code",
      "execution_count": null,
      "metadata": {
        "id": "HegDQDqyMP9C"
      },
      "outputs": [],
      "source": []
    },
    {
      "cell_type": "markdown",
      "metadata": {
        "id": "eo8qXmRVokE0"
      },
      "source": [
        "(bonus)\n",
        "Plot as points, the periods vs. distances for each planet on a log-log plot.\n",
        "\n",
        "Write the name of the planet next to the point for that planet on the plot\n",
        "\n",
        "The distances of the planets from the Sun\n",
        "\n",
        "[0.39, 0.72, 1.00, 1.52, 5.20, 9.54, 19.22, 30.06, 39.48]\n",
        "\n",
        "The corresponding periods of their orbits\n",
        "\n",
        "[0.24, 0.62, 1.00, 1.88, 11.86, 29.46, 84.01, 164.8, 248.09]\n",
        "\n",
        "names of the planets\n",
        "\n",
        "[\"Mercury\", \"Venus\", \"Earth\", \"Mars\", \"Jupiter\", \"Saturn\", \"Uranus\", \"Neptune\", \"Pluto\"]\n",
        "\n",
        "\n",
        "\n"
      ]
    },
    {
      "cell_type": "code",
      "execution_count": null,
      "metadata": {
        "id": "ChZDf4ni-scJ"
      },
      "outputs": [],
      "source": []
    },
    {
      "cell_type": "markdown",
      "metadata": {
        "id": "Z0mlh0-dvtfV"
      },
      "source": [
        "**(a)** Write a Python program to draw a scatter plot using random distributions to generate drops of different sizes and colors"
      ]
    },
    {
      "cell_type": "code",
      "execution_count": null,
      "metadata": {
        "id": "mSL6ifjPvkzT"
      },
      "outputs": [],
      "source": []
    },
    {
      "cell_type": "markdown",
      "metadata": {
        "id": "z1wsW5QeNzHX"
      },
      "source": [
        "**(b)** creat a random grayscale image (5,5) and apply apply the following interpolations with imshow()\n",
        "\n",
        "[None, 'none', 'nearest', 'bilinear','bicubic', 'spline16',           'spline36', 'hanning', 'hamming','hermite', 'kaiser', 'quadric',           'catrom', 'gaussian', 'bessel', 'mitchell', 'sinc', 'lanczos']\n",
        "\n",
        "show results side-by-side\n",
        "hint: use `subplot_kw={'xticks': [], 'yticks': []}` when defining the fig and axs to remove x,y ticks"
      ]
    },
    {
      "cell_type": "code",
      "execution_count": null,
      "metadata": {
        "id": "ejzYpqU31lTy"
      },
      "outputs": [],
      "source": []
    },
    {
      "cell_type": "markdown",
      "metadata": {
        "id": "jH1HeMbcOqoL"
      },
      "source": [
        "**(c)** Make two 50 sec signals with 10ms time resolution and consist of a coherent part (cos(pi * 2 * freq *x) at 5Hz  and a random part (white noise). Plot coherence and cross-correlation of two signals with ax.cohere() and ax.xcorr(). Add autocorrelations with ax.acorr() and maxlags=50"
      ]
    },
    {
      "cell_type": "code",
      "execution_count": null,
      "metadata": {
        "id": "Xvi1rJhmNVWF"
      },
      "outputs": [],
      "source": []
    },
    {
      "cell_type": "markdown",
      "metadata": {
        "id": "WIF08rY6H9DA"
      },
      "source": [
        "Perform exploratory data analysis with Pandas on electrophysiological measurements data set\n",
        "(https://neuroelectro.org/)\n",
        "\n",
        "use this link to download working file\n",
        "https://drive.google.com/file/d/1O5wxJweXHO1AK7u91ipLC95_1mZIEG6b/view?usp=sharing"
      ]
    },
    {
      "cell_type": "code",
      "execution_count": null,
      "metadata": {
        "id": "ptPU-TH5HuxR"
      },
      "outputs": [],
      "source": [
        "import matplotlib.pyplot as plt\n",
        "import pandas as pd\n",
        "import numpy as np\n"
      ]
    },
    {
      "cell_type": "markdown",
      "metadata": {
        "id": "V8NCAhppvng-"
      },
      "source": [
        "**(a)** Load excel-file into DataFrame and getting to know the data set, look at data dimensionality, feature names, and feature types"
      ]
    },
    {
      "cell_type": "code",
      "execution_count": null,
      "metadata": {
        "id": "AXffNebHgmyX"
      },
      "outputs": [],
      "source": []
    },
    {
      "cell_type": "markdown",
      "metadata": {
        "id": "HiJy5NXyx2lh"
      },
      "source": [
        "**(b)** Select top 5 electrophysiological measurements by non-null counts and create a new dataframe with those measurements accompained with metadata: Species, NeuronType.\n",
        "* see if there are clear clusters in data with `scatter_matrix() `\n",
        "* inspect how measurements correlate with each other"
      ]
    },
    {
      "cell_type": "code",
      "execution_count": null,
      "metadata": {
        "id": "xj6w7l4-rGJM"
      },
      "outputs": [],
      "source": [
        ""
      ]
    },
    {
      "cell_type": "code",
      "execution_count": null,
      "metadata": {
        "id": "cjXdKx3s7mnN"
      },
      "outputs": [],
      "source": []
    },
    {
      "cell_type": "code",
      "execution_count": null,
      "metadata": {
        "id": "AtqJHAN_8jD3"
      },
      "outputs": [],
      "source": []
    },
    {
      "cell_type": "markdown",
      "metadata": {
        "id": "8EfgDnB19S6l"
      },
      "source": [
        "**(c)** Select neurons that have at least 9 recodrings. Print basic statistical characteristics of each numerical feature per neuron type. Make a box plots for each feature cross selected above neuron types"
      ]
    },
    {
      "cell_type": "code",
      "execution_count": null,
      "metadata": {
        "id": "Nec2AEMbgqkM"
      },
      "outputs": [],
      "source": []
    },
    {
      "cell_type": "code",
      "execution_count": null,
      "metadata": {
        "id": "MnVqBZ8C0FZ4"
      },
      "outputs": [],
      "source": []
    },
    {
      "cell_type": "code",
      "execution_count": null,
      "metadata": {
        "id": "LVhNEq7x-fqI"
      },
      "outputs": [],
      "source": []
    },
    {
      "cell_type": "code",
      "execution_count": null,
      "metadata": {
        "id": "6Sm2Wqx7B2VI"
      },
      "outputs": [],
      "source": []
    }
  ],
  "metadata": {
    "colab": {
      "provenance": [],
      "include_colab_link": true
    },
    "kernelspec": {
      "display_name": "Python 3",
      "name": "python3"
    }
  },
  "nbformat": 4,
  "nbformat_minor": 0
}