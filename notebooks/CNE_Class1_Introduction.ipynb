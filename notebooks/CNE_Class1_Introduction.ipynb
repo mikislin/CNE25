{
  "nbformat": 4,
  "nbformat_minor": 0,
  "metadata": {
    "colab": {
      "provenance": [],
      "include_colab_link": true
    },
    "kernelspec": {
      "name": "python3",
      "display_name": "Python 3"
    },
    "language_info": {
      "name": "python"
    }
  },
  "cells": [
    {
      "cell_type": "markdown",
      "metadata": {
        "id": "view-in-github",
        "colab_type": "text"
      },
      "source": [
        "<a href=\"https://colab.research.google.com/github/mikislin/CNE25/blob/main/notebooks/CNE_Class1_Introduction.ipynb\" target=\"_parent\"><img src=\"https://colab.research.google.com/assets/colab-badge.svg\" alt=\"Open In Colab\"/></a>"
      ]
    },
    {
      "cell_type": "markdown",
      "source": [
        "## Intro to Colab"
      ],
      "metadata": {
        "id": "n8gb6VX6GBFP"
      }
    },
    {
      "cell_type": "markdown",
      "source": [
        "### Cells\n",
        "A notebook is a list of cells. Cells contain either explanatory text or executable code and its output. Click a cell to select it."
      ],
      "metadata": {
        "id": "Uod3MK0ULIhS"
      }
    },
    {
      "cell_type": "markdown",
      "source": [
        "### Code cells\n",
        "Below is a **code cell**. Once the toolbar button indicates CONNECTED, click in the cell to select it and execute the contents in the following ways:\n",
        "\n",
        "* Click the **Play icon** in the left gutter of the cell;\n",
        "* Type **Cmd/Ctrl+Enter** to run the cell in place;\n",
        "* Type **Shift+Enter** to run the cell and move focus to the next cell (adding one if none exists); or\n",
        "* Type **Alt+Enter** to run the cell and insert a new code cell immediately below it.\n",
        "\n",
        "There are additional options for running some or all cells in the **Runtime** menu.\n"
      ],
      "metadata": {
        "id": "X6Y2kn8XLgU0"
      }
    },
    {
      "cell_type": "code",
      "source": [
        "a = 125\n",
        "a"
      ],
      "metadata": {
        "id": "akcpFkYjLIDz"
      },
      "execution_count": null,
      "outputs": []
    },
    {
      "cell_type": "markdown",
      "source": [
        "### Text cells\n",
        "This is a **text cell**. You can **double-click** to edit this cell. Text cells\n",
        "use markdown syntax."
      ],
      "metadata": {
        "id": "KizbJgIRQxFv"
      }
    },
    {
      "cell_type": "markdown",
      "source": [
        "#### Reference\n",
        "\n",
        "Markdown | Preview\n",
        "--- | ---\n",
        "`**bold text**` | **bold text**\n",
        "`*italicized text*` or `_italicized text_` | *italicized text*\n",
        "`` `Monospace` `` | `Monospace`\n",
        "`~~strikethrough~~` | ~~strikethrough~~\n",
        "`[A link](https://www.google.com)` | [A link](https://www.google.com)\n",
        "`![An image](https://www.google.com/images/rss.png)` | ![An image](https://www.google.com/images/rss.png)\n",
        "\n",
        "\n",
        "---\n",
        "Headings are rendered as titles.\n",
        "\n",
        "```markdown\n",
        "# Section 1\n",
        "# Section 2\n",
        "## Sub-section under Section 2\n",
        "### Sub-section under the sub-section under Section 2\n",
        "# Section 3\n",
        "```\n",
        "\n",
        "# Section 1\n",
        "# Section 2\n",
        "## Sub-section under Section 2\n",
        "### Sub-section under the sub-section under Section 2\n",
        "# Section 3\n",
        "\n",
        "The table of contents, available on the left side of Colab, is populated using at most one section title from each text cell.\n",
        "\n",
        "---\n",
        "\n",
        "```markdown\n",
        ">One level of indentation\n",
        "```\n",
        "\n",
        ">One level of indentation\n",
        "\n",
        "\n",
        "```markdown\n",
        ">>Two levels of indentation\n",
        "```\n",
        "\n",
        ">>Two levels of indentation\n"
      ],
      "metadata": {
        "id": "lyIrxKHOQ9J9"
      }
    },
    {
      "cell_type": "markdown",
      "source": [
        "## Check the version of Python in a Google Colab notebook"
      ],
      "metadata": {
        "id": "W7LkIFyXWn0S"
      }
    },
    {
      "cell_type": "code",
      "execution_count": null,
      "metadata": {
        "id": "86q7Ca-SB6df"
      },
      "outputs": [],
      "source": [
        "!python --version"
      ]
    },
    {
      "cell_type": "markdown",
      "source": [
        "The `!` prefix indicates that the command is a shell command to be executed in the underlying operating system environment of the Colab runtime"
      ],
      "metadata": {
        "id": "MQUNzdLQW-Wy"
      }
    },
    {
      "cell_type": "markdown",
      "source": [
        "## To check the available libraries in a Google Colab environment"
      ],
      "metadata": {
        "id": "tbtG5rGtXNjx"
      }
    },
    {
      "cell_type": "code",
      "source": [
        "!pip list"
      ],
      "metadata": {
        "collapsed": true,
        "id": "mX2iqlo9XB8R"
      },
      "execution_count": null,
      "outputs": []
    },
    {
      "cell_type": "markdown",
      "source": [
        "### Keywords\n",
        "\n",
        "The following identifiers are used as reserved words, or keywords of the language, and cannot be used as ordinary identifiers. They must be spelled exactly as written here (case sencitive):\n",
        "\n",
        "```\n",
        "False      await      else       import     pass\n",
        "None       break      except     in         raise\n",
        "True       class      finally    is         return\n",
        "and        continue   for        lambda     try\n",
        "as         def        from       nonlocal   while\n",
        "assert     del        global     not        with\n",
        "async      elif       if         or         yield\n",
        "```\n",
        "\n",
        "\n"
      ],
      "metadata": {
        "id": "AOHD3PorU6VY"
      }
    },
    {
      "cell_type": "code",
      "source": [
        "import keyword\n",
        "\n",
        "print(keyword.kwlist)\n"
      ],
      "metadata": {
        "id": "MGKdgJWAzItN"
      },
      "execution_count": null,
      "outputs": []
    },
    {
      "cell_type": "markdown",
      "source": [
        "### Check avaialbe code snippets\n",
        "\n",
        "Navigate to Code snippets panel and type\n",
        "\n",
        "> Camera Capture\n",
        "\n",
        "Insert the snippet and run to using a webcam to capture images for processing on the runtime.\n",
        "\n",
        "Once you run the cell below, a new window should pop up, and\n",
        "you are requested to grant access by this notebook (or, the system\n",
        "that runs it) to your webcamera."
      ],
      "metadata": {
        "id": "xbstP2eCG-yf"
      }
    },
    {
      "cell_type": "code",
      "source": [
        "from IPython.display import display, Javascript\n",
        "from google.colab.output import eval_js\n",
        "from base64 import b64decode\n",
        "\n",
        "def take_photo(filename='photo.jpg', quality=0.8):\n",
        "  js = Javascript('''\n",
        "    async function takePhoto(quality) {\n",
        "      const div = document.createElement('div');\n",
        "      const capture = document.createElement('button');\n",
        "      capture.textContent = 'Capture';\n",
        "      div.appendChild(capture);\n",
        "\n",
        "      const video = document.createElement('video');\n",
        "      video.style.display = 'block';\n",
        "      const stream = await navigator.mediaDevices.getUserMedia({video: true});\n",
        "\n",
        "      document.body.appendChild(div);\n",
        "      div.appendChild(video);\n",
        "      video.srcObject = stream;\n",
        "      await video.play();\n",
        "\n",
        "      // Resize the output to fit the video element.\n",
        "      google.colab.output.setIframeHeight(document.documentElement.scrollHeight, true);\n",
        "\n",
        "      // Wait for Capture to be clicked.\n",
        "      await new Promise((resolve) => capture.onclick = resolve);\n",
        "\n",
        "      const canvas = document.createElement('canvas');\n",
        "      canvas.width = video.videoWidth;\n",
        "      canvas.height = video.videoHeight;\n",
        "      canvas.getContext('2d').drawImage(video, 0, 0);\n",
        "      stream.getVideoTracks()[0].stop();\n",
        "      div.remove();\n",
        "      return canvas.toDataURL('image/jpeg', quality);\n",
        "    }\n",
        "    ''')\n",
        "  display(js)\n",
        "  data = eval_js('takePhoto({})'.format(quality))\n",
        "  binary = b64decode(data.split(',')[1])\n",
        "  with open(filename, 'wb') as f:\n",
        "    f.write(binary)\n",
        "  return filename"
      ],
      "metadata": {
        "id": "51Z-BDfZJ_xK"
      },
      "execution_count": null,
      "outputs": []
    },
    {
      "cell_type": "code",
      "source": [
        "from IPython.display import Image\n",
        "try:\n",
        "  filename = take_photo()\n",
        "  print('Saved to {}'.format(filename))\n",
        "\n",
        "  # Show the image which was just taken.\n",
        "  display(Image(filename))\n",
        "except Exception as err:\n",
        "  # Errors will be thrown if the user does not have a webcam or if they do not\n",
        "  # grant the page permission to access it.\n",
        "  print(str(err))"
      ],
      "metadata": {
        "id": "uT75o4DOJ_xL"
      },
      "execution_count": null,
      "outputs": []
    },
    {
      "cell_type": "markdown",
      "source": [
        "## 2. Connecting to Google Drive\n",
        "\n",
        "Apart from downloading the library, interacting with your Google Drive\n",
        "requires \"mounting\" your Drive inside the virtual machine (VM) system\n",
        "that runs this notebook.\n",
        "\n",
        "The `google.colab.drive` library (installed by default in this environment)\n",
        "is necessary for doing this.\n",
        "\n",
        "The default code mounts your Drive at the path `/content/drive`,\n",
        "but it can be anywhere _as long as it does not interfere with the system_\n",
        "(which means you have to be responsible about its consequences...).\n",
        "\n",
        "Once you run the cell below, a new window should pop up, and\n",
        "you are requested to grant access by this notebook (or, the system\n",
        "that runs it) to your Google Drive.\n",
        "\n",
        "> [!WARNING]\n",
        ">\n",
        "> **\"Granting access\" means for the notebook to read from / write to\n",
        "> any files in your Google Drive! Be careful not to damage your precious\n",
        "> files!**"
      ],
      "metadata": {
        "id": "FxXCh5EGFuL2"
      }
    },
    {
      "cell_type": "code",
      "source": [
        "from google.colab import drive\n",
        "drive.mount('/gdrive')\n",
        "%cd /gdrive"
      ],
      "metadata": {
        "id": "jop_evfK6YKt"
      },
      "execution_count": null,
      "outputs": []
    },
    {
      "cell_type": "markdown",
      "source": [
        "### Selection of an example file\n",
        "\n",
        "Navigate in Google Drive\n",
        "\n",
        "Select the \"📁 Files\" pane, and you can browse the contents\n",
        "of Google Drive (by default, \"Files\" will show the contents, find the folderwhere you mounted the drive `/gdrive`).\n",
        "\n",
        "<img src=\"https://drive.google.com/uc?export=view&id=1YmnUVCGg_ZfAoSrIjmoTNBI0BH3XblDo\" alt=\"File tools\" width=\"200\"/>\n",
        "\n",
        "\n",
        "Click on the \"⁝ (menu)\", and then on \"Copy path\", to copy this path to the clipboard (to be used on the next step).\n",
        "\n",
        "<img src=\"https://drive.google.com/uc?export=view&id=1zZRNoWAO3OxxhSNocndi-G87FZ-NrR8r\" alt=\"ファイルツールメニュー\" width=\"300\" />\n",
        "\n",
        "<img src=\"https://drive.google.com/uc?export=view&id=1-G3EP2e-Lb-fterUbU6PS1IQQ_prFOuv\" alt=\"パスをコピー\" width=\"200\" />"
      ],
      "metadata": {
        "id": "DjD6ThSYRx4C"
      }
    },
    {
      "cell_type": "markdown",
      "source": [
        "## Try Gemini to write a code snippet\n",
        "\n",
        "Toggle Gemini\n",
        "\n",
        "start chatting and ask something like\n",
        "\n",
        "\n",
        "\n",
        "> help me to upload csv file from the google drive\n",
        "\n"
      ],
      "metadata": {
        "id": "oSIhh52UGOoE"
      }
    },
    {
      "cell_type": "code",
      "metadata": {
        "id": "b714f534"
      },
      "source": [
        "import pandas as pd\n",
        "\n",
        "# Replace 'path/to/your/csv/file.csv' with the actual path to your file in Google Drive\n",
        "# For example, if your file is in a folder named 'data' in your Drive, the path would be '/gdrive/MyDrive/data/your_file.csv'\n",
        "file_path = '/gdrive/MyDrive/20250721_Schwartz/GroupIDs.csv'\n",
        "\n",
        "try:\n",
        "  df = pd.read_csv(file_path)\n",
        "  print(f\"Successfully loaded {file_path}\")\n",
        "  display(df.head())\n",
        "except FileNotFoundError:\n",
        "  print(f\"Error: The file was not found at {file_path}\")\n",
        "except Exception as e:\n",
        "  print(f\"An error occurred: {e}\")"
      ],
      "execution_count": null,
      "outputs": []
    },
    {
      "cell_type": "code",
      "source": [],
      "metadata": {
        "id": "xXupyieei3pm"
      },
      "execution_count": null,
      "outputs": []
    }
  ]
}